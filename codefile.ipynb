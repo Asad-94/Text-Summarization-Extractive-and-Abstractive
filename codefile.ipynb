{
 "cells": [
  {
   "cell_type": "markdown",
   "id": "0192be6f",
   "metadata": {},
   "source": [
    "### Name: Syed Asad Rizvi\n",
    "\n",
    "### ERP ID: 25365\n",
    "\n",
    "### Subject: Text Analytics"
   ]
  },
  {
   "cell_type": "markdown",
   "id": "df004347",
   "metadata": {},
   "source": [
    "Importing Libraries"
   ]
  },
  {
   "cell_type": "code",
   "execution_count": 233,
   "id": "66c19309",
   "metadata": {},
   "outputs": [],
   "source": [
    "import pandas as pd\n",
    "import re\n",
    "\n",
    "import spacy\n",
    "nlp = spacy.load('en_core_web_md')\n",
    "\n",
    "import numpy as np\n",
    "np.set_printoptions(precision=4)\n",
    "from sklearn.feature_extraction.text import TfidfVectorizer, TfidfTransformer\n",
    "\n",
    "import networkx as nx\n",
    "\n",
    "from numpy import array\n",
    "from numpy import diag\n",
    "from numpy import zeros\n",
    "import numpy as np\n",
    "\n",
    "from sklearn.metrics.pairwise import cosine_similarity"
   ]
  },
  {
   "cell_type": "markdown",
   "id": "a701d64e",
   "metadata": {},
   "source": [
    "### Wikipedia Articles Dataset"
   ]
  },
  {
   "cell_type": "markdown",
   "id": "ce8fca12",
   "metadata": {},
   "source": [
    "Loading Dataset"
   ]
  },
  {
   "cell_type": "code",
   "execution_count": 31,
   "id": "084ba612",
   "metadata": {},
   "outputs": [
    {
     "data": {
      "text/html": [
       "<div>\n",
       "<style scoped>\n",
       "    .dataframe tbody tr th:only-of-type {\n",
       "        vertical-align: middle;\n",
       "    }\n",
       "\n",
       "    .dataframe tbody tr th {\n",
       "        vertical-align: top;\n",
       "    }\n",
       "\n",
       "    .dataframe thead th {\n",
       "        text-align: right;\n",
       "    }\n",
       "</style>\n",
       "<table border=\"1\" class=\"dataframe\">\n",
       "  <thead>\n",
       "    <tr style=\"text-align: right;\">\n",
       "      <th></th>\n",
       "      <th>ARTICLE_ID</th>\n",
       "      <th>TITLE</th>\n",
       "      <th>SECTION_TITLE</th>\n",
       "      <th>SECTION_TEXT</th>\n",
       "    </tr>\n",
       "  </thead>\n",
       "  <tbody>\n",
       "    <tr>\n",
       "      <th>0</th>\n",
       "      <td>0</td>\n",
       "      <td>Anarchism</td>\n",
       "      <td>Introduction</td>\n",
       "      <td>\\n\\n\\n\\n\\n\\n'''Anarchism''' is a political phi...</td>\n",
       "    </tr>\n",
       "    <tr>\n",
       "      <th>1</th>\n",
       "      <td>0</td>\n",
       "      <td>Anarchism</td>\n",
       "      <td>Etymology and terminology</td>\n",
       "      <td>\\n\\nThe term ''anarchism'' is a compound word ...</td>\n",
       "    </tr>\n",
       "    <tr>\n",
       "      <th>2</th>\n",
       "      <td>0</td>\n",
       "      <td>Anarchism</td>\n",
       "      <td>History</td>\n",
       "      <td>\\n\\n===Origins===\\nWoodcut from a Diggers docu...</td>\n",
       "    </tr>\n",
       "    <tr>\n",
       "      <th>3</th>\n",
       "      <td>0</td>\n",
       "      <td>Anarchism</td>\n",
       "      <td>Anarchist schools of thought</td>\n",
       "      <td>\\nPortrait of philosopher Pierre-Joseph Proudh...</td>\n",
       "    </tr>\n",
       "    <tr>\n",
       "      <th>4</th>\n",
       "      <td>0</td>\n",
       "      <td>Anarchism</td>\n",
       "      <td>Internal issues and debates</td>\n",
       "      <td>\\nconsistent with anarchist values is a contro...</td>\n",
       "    </tr>\n",
       "  </tbody>\n",
       "</table>\n",
       "</div>"
      ],
      "text/plain": [
       "   ARTICLE_ID      TITLE                 SECTION_TITLE  \\\n",
       "0           0  Anarchism                  Introduction   \n",
       "1           0  Anarchism     Etymology and terminology   \n",
       "2           0  Anarchism                       History   \n",
       "3           0  Anarchism  Anarchist schools of thought   \n",
       "4           0  Anarchism   Internal issues and debates   \n",
       "\n",
       "                                        SECTION_TEXT  \n",
       "0  \\n\\n\\n\\n\\n\\n'''Anarchism''' is a political phi...  \n",
       "1  \\n\\nThe term ''anarchism'' is a compound word ...  \n",
       "2  \\n\\n===Origins===\\nWoodcut from a Diggers docu...  \n",
       "3  \\nPortrait of philosopher Pierre-Joseph Proudh...  \n",
       "4  \\nconsistent with anarchist values is a contro...  "
      ]
     },
     "execution_count": 31,
     "metadata": {},
     "output_type": "execute_result"
    }
   ],
   "source": [
    "df = pd.read_csv('enwiki20170820.csv')\n",
    "df.head()"
   ]
  },
  {
   "cell_type": "markdown",
   "id": "fbf5f42d",
   "metadata": {},
   "source": [
    "Appending the articles from the dataset to a list"
   ]
  },
  {
   "cell_type": "code",
   "execution_count": 32,
   "id": "00c8f93a",
   "metadata": {},
   "outputs": [],
   "source": [
    "articles_list = df['SECTION_TEXT'].to_list()"
   ]
  },
  {
   "cell_type": "markdown",
   "id": "85cddb71",
   "metadata": {},
   "source": [
    "Taking 15 random articles from the dataset of more than 500 words"
   ]
  },
  {
   "cell_type": "code",
   "execution_count": 33,
   "id": "89ba5ee9",
   "metadata": {},
   "outputs": [],
   "source": [
    "def access_elements(articles, list_index):\n",
    "    result = [articles[i] for i in list_index]\n",
    "    return result\n",
    "\n",
    "article_list = []\n",
    "list_index = [13,52,210,303,379,401,501,565,609,656,705,804,854,900,997]\n",
    "article_list.append(access_elements(articles_list, list_index))"
   ]
  },
  {
   "cell_type": "code",
   "execution_count": 34,
   "id": "5fc326c3",
   "metadata": {},
   "outputs": [
    {
     "data": {
      "text/plain": [
       "['\\n\\nIt has long been presumed that there is a common cause at the genetic, cognitive, and neural levels for autism\\'s characteristic triad of symptoms. However, there is increasing suspicion that autism is instead a complex disorder whose core aspects have distinct causes that often co-occur.\\n\\nDeletion (1), duplication (2) and inversion (3) are all chromosome abnormalities that have been implicated in autism.\\nAutism has a strong genetic basis, although the genetics of autism are complex and it is unclear whether ASD is explained more by rare mutations with major effects, or by rare multigene interactions of common genetic variants. Complexity arises due to interactions among multiple genes, the environment, and epigenetic factors which do not change DNA sequencing but are heritable and influence gene expression. Many genes have been associated with autism through sequencing the genomes of affected individuals and their parents.\\n\\nStudies of twins suggest that heritability is 0.7 for autism and as high as 0.9 for ASD, and siblings of those with autism are about 25 times more likely to be autistic than the general population. However, most of the mutations that increase autism risk have not been identified. Typically, autism cannot be traced to a Mendelian (single-gene) mutation or to a single chromosome abnormality, and none of the genetic syndromes associated with ASDs have been shown to selectively cause ASD.  Numerous candidate genes have been located, with only small effects attributable to any particular gene. Most loci individually explain less than 1% of cases of autism. The large number of autistic individuals with unaffected family members may result from spontaneous structural variation\\xa0— such as deletions, duplications or inversions in genetic material during meiosis. Hence, a substantial fraction of autism cases may be traceable to genetic causes that are highly heritable but not inherited: that is, the mutation that causes the autism is not present in the parental genome.\\n\\nSeveral lines of evidence point to synaptic dysfunction as a cause of autism. Some rare mutations may lead to autism by disrupting some synaptic pathways, such as those involved with cell adhesion. Gene replacement studies in mice suggest that autistic symptoms are closely related to later developmental steps that depend on activity in synapses and on activity-dependent changes. All known teratogens (agents that cause birth defects) related to the risk of autism appear to act during the first eight weeks from conception, and though this does not exclude the possibility that autism can be initiated or affected later, there is strong evidence that autism arises very early in development.\\n\\nExposure to air pollution during pregnancy, especially heavy metals and particulates, may increase the risk of autism. Environmental factors that have been claimed without evidence to contribute to or exacerbate autism include certain foods, infectious diseases, solvents, diesel exhaust, PCBs, phthalates and phenols used in plastic products, pesticides, brominated flame retardants, alcohol, smoking, illicit drugs, vaccines, and prenatal stress. No evidence has been found for these claims, and some such as the MMR vaccine have been completely disproven.\\n\\nParents may first become aware of autistic symptoms in their child around the time of a routine vaccination. This has led to unsupported theories blaming vaccine \"overload\", a vaccine preservative, or the MMR vaccine for causing autism. The latter theory was supported by a litigation-funded study that has since been shown to have been \"an elaborate fraud\". Although these theories lack convincing scientific evidence and are biologically implausible, parental concern about a potential vaccine link with autism has led to lower rates of childhood immunizations, outbreaks of previously controlled childhood diseases in some countries, and the preventable deaths of several children.\\n',\n",
       " \"\\n\\n===Primary and secondary education===\\nVestavia Hills High School in the suburbs of Birmingham\\n\\nPublic primary and secondary education in Alabama is under the purview of the Alabama State Board of Education as well as local oversight by 67 county school boards and 60 city boards of education. Together, 1,496 individual schools provide education for 744,637 elementary and secondary students.\\n\\nPublic school funding is appropriated through the Alabama Legislature through the Education Trust Fund. In FY 2006–2007, Alabama appropriated $3,775,163,578 for primary and secondary education. That represented an increase of $444,736,387 over the previous fiscal year. In 2007, over 82\\xa0percent of schools made adequate yearly progress (AYP) toward student proficiency under the National No Child Left Behind law, using measures determined by the state of Alabama.\\n\\nWhile Alabama's public education system has improved in recent decades, it lags behind in achievement compared to other states. According to U.S. Census data, Alabama's high school graduation rate—75%—is the fourth lowest in the U.S. (after Kentucky, Louisiana and Mississippi). The largest educational gains were among people with some college education but without degrees.\\n\\nAlthough unusual in the West, school corporal punishment is not uncommon in Alabama, with 27,260 public school students paddled at least one time, according to government data for the 2011–2012 school year. The rate of school corporal punishment in Alabama is surpassed only by Mississippi and Arkansas.\\n\\n===Colleges and universities===\\n\\nHarrison Plaza at the University of North Alabama in Florence. The school was chartered as LaGrange College by the Alabama Legislature in 1830.\\n\\nAlabama's programs of higher education include 14 four-year public universities, two-year community colleges, and 17 private, undergraduate and graduate universities. In the state are four medical schools (as of fall 2015) (University of Alabama School of Medicine, University of South Alabama and Alabama College of Osteopathic Medicine and The Edward Via College of Osteopathic Medicine – Auburn Campus), two veterinary colleges (Auburn University and Tuskegee University), a dental school (University of Alabama School of Dentistry), an optometry college (University of Alabama at Birmingham), two pharmacy schools (Auburn University and Samford University), and five law schools (University of Alabama School of Law, Birmingham School of Law, Cumberland School of Law, Miles Law School, and the Thomas Goode Jones School of Law). Public, post-secondary education in Alabama is overseen by the Alabama Commission on Higher Education and the Alabama Department of Postsecondary Education. Colleges and universities in Alabama offer degree programs from two-year associate degrees to a multitude of doctoral level programs.\\n\\nWilliam J. Samford Hall at Auburn University in Auburn\\nThe largest single campus is the University of Alabama, located in Tuscaloosa, with 37,665 enrolled for fall 2016. Troy University was the largest institution in the state in 2010, with an enrollment of 29,689 students across four Alabama campuses (Troy, Dothan, Montgomery, and Phenix City), as well as sixty learning sites in seventeen other states and eleven other countries. The oldest institutions are the public University of North Alabama in Florence and the Catholic Church-affiliated Spring Hill College in Mobile, both founded in 1830.\\n\\nAccreditation of academic programs is through the Southern Association of Colleges and Schools (SACS) as well as other subject-focused national and international accreditation agencies such as the Association for Biblical Higher Education (ABHE), the Council on Occupational Education (COE), and the Accrediting Council for Independent Colleges and Schools (ACICS).\\n\\nAccording to the 2011 ''U.S. News & World Report'', Alabama had three universities ranked in the top 100 Public Schools in America (University of Alabama at 31, Auburn University at 36, and University of Alabama at Birmingham at 73).\\n\\nAccording to the 2012 ''U.S. News & World Report'', Alabama had four tier 1 universities (University of Alabama, Auburn University, University of Alabama at Birmingham and University of Alabama in Huntsville).\\n\",\n",
       " \"\\n\\nAnthropology is a global discipline involving humanities, social sciences and natural sciences. Anthropology builds upon knowledge from natural sciences, including the discoveries about the origin and evolution of ''Homo sapiens'', human physical traits, human behavior, the variations among different groups of humans, how the evolutionary past of ''Homo sapiens'' has influenced its social organization and culture, and from social sciences, including the organization of human social and cultural relations, institutions, social conflicts, etc. Early anthropology originated in Classical Greece and Persia and studied and tried to understand observable cultural diversity. As such, anthropology has been central in the development of several new (late 20th century) interdisciplinary fields such as cognitive science, global studies, and various ethnic studies.\\n\\nAccording to Clifford Geertz, \\n\\n\\nSociocultural anthropology has been heavily influenced by structuralist and postmodern theories, as well as a shift toward the analysis of modern societies. During the 1970s and 1990s, there was an epistemological shift away from the positivist traditions that had largely informed the discipline. During this shift, enduring questions about the nature and production of knowledge came to occupy a central place in cultural and social anthropology. In contrast, archaeology and biological anthropology remained largely positivist. Due to this difference in epistemology, the four sub-fields of anthropology have lacked cohesion over the last several decades.\\n\\n===Sociocultural===\\n\\nSociocultural anthropology draws together the principle axes of cultural anthropology and social anthropology. Cultural anthropology is the comparative study of the manifold ways in which people ''make sense'' of the world around them, while social anthropology is the study of the ''relationships'' among persons and groups. Cultural anthropology is more related to philosophy, literature and the arts (how one's culture affects experience for self and group, contributing to more complete understanding of the people's knowledge, customs, and institutions), while social anthropology is more related to sociology and history. in that it helps develop understanding of social structures, typically of others and other populations (such as minorities, subgroups, dissidents, etc.). There is no hard-and-fast distinction between them, and these categories overlap to a considerable degree.\\n\\nInquiry in sociocultural anthropology is guided in part by cultural relativism, the attempt to understand other societies in terms of their own cultural symbols and values. Accepting other cultures in their own terms moderates reductionism in cross-cultural comparison. This project is often accommodated in the field of ethnography. Ethnography can refer to both a methodology and the product of ethnographic research, i.e. an ethnographic monograph. As methodology, ethnography is based upon long-term fieldwork within a community or other research site. Participant observation is one of the foundational methods of social and cultural anthropology.  Ethnology involves the systematic comparison of different cultures. The process of participant-observation can be especially helpful to understanding a culture from an emic (conceptual, vs. etic,  or technical) point of view.\\n\\nThe study of kinship and social organization is a central focus of sociocultural anthropology, as kinship is a human universal. Sociocultural anthropology also covers economic and political organization, law and conflict resolution, patterns of consumption and exchange, material culture, technology, infrastructure, gender relations, ethnicity, childrearing and socialization, religion, myth, symbols, values, etiquette, worldview, sports, music, nutrition, recreation, games, food, festivals, and language (which is also the object of study in linguistic anthropology).\\n\\nComparison across cultures is a key element of method in sociocultural anthropology, including the industrialized (and de-industrialized) West. Cultures in the Standard Cross-Cultural Sample (SCCS) of world societies are:\\n\\n\\n\\n\\n\\n Africa 30px\\n\\n \\n\\n\\n\\n Circum-Mediterranean 30px\\n\\n \\n\\n\\n\\n East Eurasia 30px \\n\\n \\n\\n\\n\\n Insular Pacific 30px\\n\\n \\n\\n\\n\\n North America 30px\\n\\n \\n\\n\\n\\n South America 30px\\n\\n \\n\\n\\n\\n\\n\\n===Biological===\\n\\nForensic anthropologists can help identify skeletonized human remains, such as these found lying in scrub in Western Australia, c. 1900–1910.\\n\\nBiological Anthropology and Physical Anthropology are synonymous terms to describe anthropological research focused on the study of humans and non-human primates in their biological, evolutionary, and demographic dimensions. It examines the biological and social factors that have affected the evolution of humans and other primates, and that generate, maintain or change contemporary genetic and physiological variation.\\n\\n===Archaeological===\\n\\nExcavations at the 3800-year-old Edgewater Park Site, Iowa\\nArchaeology is the study of the human past through its material remains.  Artifacts, faunal remains, and human altered landscapes are evidence of the cultural and material lives of past societies.  Archaeologists examine these material remains in order to deduce patterns of past human behavior and cultural practices.  Ethnoarchaeology is a type of archaeology that studies the practices and material remains of living human groups in order to gain a better understanding of the evidence left behind by past human groups, who are presumed to have lived in similar ways.\\nRosetta Stone was an example of ancient communication\\n\\n===Linguistic===\\n\\nLinguistic anthropology (also called anthropological linguistics) seeks to understand the processes of human communications, verbal and non-verbal, variation in language across time and space, the social uses of language, and the relationship between language and culture. It is the branch of anthropology that brings linguistic methods to bear on anthropological problems, linking the analysis of linguistic forms and processes to the interpretation of sociocultural processes. Linguistic anthropologists often draw on related fields including sociolinguistics, pragmatics, cognitive linguistics, semiotics, discourse analysis, and narrative analysis.\\n\",\n",
       " 'Since retiring after the 2006 US Open, Agassi has participated in a series of charity tournaments and continues his work with his own charity. On September 5, 2007, he was a surprise guest commentator for the Andy Roddick/Roger Federer US Open quarterfinal. He played an exhibition match at Wimbledon, teaming with his wife, Steffi Graf, to play with Tim Henman and Kim Clijsters. He played World Team Tennis for the Philadelphia Freedoms in the summer of 2009. At the 2009 French Open, Agassi was on hand to present Roger Federer, who completed his Career Grand Slam by winning the tournament and joined Agassi as one of six men to complete the Career Grand Slam, with the trophy.\\n\\nAlso in 2009 Agassi played at the Outback Champions Series event for the first time. He played the Cancer Treatment Centers of America Tennis Championships at Surprise, Arizona, where he reached the final before bowing to eventual champion Todd Martin. He also announced that he will not be playing the tour on a full-time basis, and played the tournament as a favor to long-time friend Jim Courier. Agassi returned to the tour renamed for the PowerShares Series in 2011 and participated in a total of seven events while winning two. Agassi beat Courier in the final of the Staples Champions Cup in Boston and later defeated Sampras at the CTCA Championships at his hometown Las Vegas.\\n\\nIn 2012, Agassi took part in five tournaments, winning three of those. In November, at first he won BILT Champions Showdown in San Jose, beating John McEnroe in the final. The following day, he defended his title of the CTCA Championships, while defeating Courier in the decisive match. In the series season finale, he beat Michael Chang for the Acura Champions Cup. The series and Agassi came back to action in 2014. Agassi won both tournaments he participated in. At the Camden Wealth Advisors Cup\\'s final in Houston, Agassi beat James Blake for a rematch of their 2005 US Open quarterfinal. He defeated Blake again in Portland to win the title of the Cancer Treatment Centers of America Championships. In 2015, Agassi took part in just one event of the PowerShares Series, losing to Mark Philippoussis in the final of the Champions Shootout.\\n\\nIn 2009, in Macau Agassi and Sampras met for the first time on court since the 2002 US Open final. Sampras won the exhibition in three sets. The rivalry between the former champions headlined sports media again in March 2010 after the two participated in the \"Hit for Haiti\" charity event organized to raise money for the victims of the earthquake. Partnered with Roger Federer and Rafael Nadal, the old rivals began making jokes on each other which ended up with Sampras intentionally striking a serve at Agassi\\'s body. After the event Agassi admitted that he had crossed the line with his jokes and publicly apologized to Sampras. Agassi and Sampras met again one year later for an exhibition match at Madison Square Garden in New York in front of 19 000 spectators as Sampras defeated Agassi in two sets. On March 3, 2014, Agassi and Sampras squared off for an exhibition in London for the annual World Tennis Day. This time it was Agassi who came out on top in two straight sets.\\n\\nHe returned to the tour in May 2017 in the position of coach to Novak Djokovic for the French Open.\\n',\n",
       " 'Old Major, the old boar on the Manor Farm, summons the animals on the farm together for a meeting, during which he refers to humans as \"enemies\" and teaches the animals a revolutionary song called \"Beasts of England\". When Major dies, two young pigs, Snowball and Napoleon, assume command and consider it a duty to prepare for the Rebellion. The animals revolt and drive the drunken and irresponsible farmer Mr. Jones from the farm, renaming it \"Animal Farm\". They adopt the Seven Commandments of Animalism, the most important of which is, \"All animals are equal.\"\\n\\nSnowball teaches the animals to read and write, while Napoleon educates young puppies on the principles of Animalism.  Food is plentiful, and the farm runs smoothly.  The pigs elevate themselves to positions of leadership and set aside special food items, ostensibly for their personal health.\\n\\nSome time later, several men attack Animal Farm. Jones and his men are making an attempt to recapture the farm, aided by several other farmers who are terrified of similar animal revolts. Snowball and the animals, who are hiding in ambush, defeat the men by launching a surprise attack as soon as they enter the farmyard. Snowball\\'s popularity soars, and this event is proclaimed \"The Battle of the Cowshed\". It is celebrated annually with the firing of a gun, on the anniversary of the Revolution.\\n\\nNapoleon and Snowball vie for pre-eminence. When Snowball announces his plans to modernize the farm by building a windmill, Napoleon has his dogs chase Snowball away and declares himself leader.\\n\\nNapoleon enacts changes to the governance structure of the farm, replacing meetings with a committee of pigs who will run the farm. Through a young pig named Squealer, Napoleon claims credit for the windmill idea. The animals work harder with the promise of easier lives with the windmill. When the animals find the windmill collapsed after a violent storm, Napoleon and Squealer convince the animals that Snowball is trying to sabotage their project. Once Snowball becomes a scapegoat, Napoleon begins to purge the farm with his dogs, killing animals he accuses of consorting with his old rival. When some animals recall the Battle of the Cowshed, Napoleon (who was nowhere to be found during the battle) frequently smears Snowball as a collaborator of Jones\\', while falsely representing himself as the hero of the battle. \"Beasts of England\" is replaced with an anthem glorifying Napoleon, who appears to be adopting the lifestyle of a man. The animals remain convinced that they are better off than they were under Mr. Jones.\\n\\nMr Frederick, one of the neighbouring farmers, attacks the farm, using blasting powder to blow up the restored windmill. Though the animals win the battle, they do so at great cost, as many, including Boxer the workhorse, are wounded. Despite his injuries, Boxer continues working harder and harder, until he collapses while working on the windmill. Napoleon sends for a van to take Boxer to the veterinary surgeon, explaining that better care can be given there. Benjamin, the cynical donkey who \"could read as well as any pig\", notices that the van belongs to a knacker and attempts a futile rescue. Squealer quickly assures the animals that the van had been purchased from the knacker by an animal hospital, and the previous owner\\'s signboard had not been repainted. In a subsequent report, Squealer reports sadly to the animals that Boxer died peacefully at the animal hospital; the pigs hold a festival one day after Boxer\\'s death to further praise the glories of Animal Farm and have the animals work harder by taking on Boxer\\'s ways. However, the truth was that Napoleon had engineered the sale of Boxer to the knacker, allowing him and his inner circle to acquire money to buy whisky for themselves. (In 1940s England, one way for farms to make money was to sell large animals to a knacker, who would kill the animal and boil its remains into animal glue.)\\n\\n\\nYears pass, and the windmill is rebuilt along with construction of another windmill, which makes the farm a good amount of income. However, the ideals which Snowball discussed, including stalls with electric lighting, heating and running water are forgotten, with Napoleon advocating that the happiest animals live simple lives. In addition to Boxer, many of the animals who participated in the Revolution are dead, as is Farmer Jones, who died in another part of England. The pigs start to resemble humans, as they walk upright, carry whips, and wear clothes. The Seven Commandments are abridged to a single phrase: \"All animals are equal but some animals are more equal than others\". Napoleon holds a dinner party for the pigs and local farmers, with whom he celebrates a new alliance. He abolishes the practice of the revolutionary traditions and restores the name \"The Manor Farm\". As the animals look from pigs to humans, they realise they can no longer distinguish between the two.\\n',\n",
       " \"Cane toad (''Rhinella marina'') with poison glands behind the eyes\\n\\nAmphibians have soft bodies with thin skins, and lack claws, defensive armour, or spines. Nevertheless, they have evolved various defence mechanisms to keep themselves alive. The first line of defence in salamanders and frogs is the mucous secretion that they produce. This keeps their skin moist and makes them slippery and difficult to grip. The secretion is often sticky and distasteful or toxic. Snakes have been observed yawning and gaping when trying to swallow African clawed frogs (''Xenopus laevis''), which gives the frogs an opportunity to escape. Caecilians have been little studied in this respect, but the Cayenne caecilian (''Typhlonectes compressicauda'') produces toxic mucus that has killed predatory fish in a feeding experiment in Brazil. In some salamanders, the skin is poisonous. The rough-skinned newt (''Taricha granulosa'') from North America and other members of its genus contain the neurotoxin tetrodotoxin (TTX), the most toxic non-protein substance known and almost identical to that produced by pufferfish. Handling the newts does not cause harm, but ingestion of even the most minute amounts of the skin is deadly. In feeding trials, fish, frogs, reptiles, birds and mammals were all found to be susceptible. The only predators with some tolerance to the poison are certain populations of common garter snake (''Thamnophis sirtalis'').\\nIn locations where both snake and salamander co-exist, the snakes have developed immunity through genetic changes and they feed on the amphibians with impunity. Coevolution occurs with the newt increasing its toxic capabilities at the same rate as the snake further develops its immunity. Some frogs and toads are toxic, the main poison glands being at the side of the neck and under the warts on the back. These regions are presented to the attacking animal and their secretions may be foul-tasting or cause various physical or neurological symptoms. Altogether, over 200 toxins have been isolated from the limited number of amphibian species that have been investigated.\\n\\nThe fire salamander (''Salamandra salamandra''), a toxic species, wears warning colours.\\nPerhaps the most poisonous animal in the world, the golden poison frog (''Phyllobates terribilis'') is endemic to Colombia.\\n\\nPoisonous species often use bright colouring to warn potential predators of their toxicity. These warning colours tend to be red or yellow combined with black, with the fire salamander (''Salamandra salamandra'') being an example. Once a predator has sampled one of these, it is likely to remember the colouration next time it encounters a similar animal. In some species, such as the fire-bellied toad (''Bombina spp.''), the warning colouration is on the belly and these animals adopt a defensive pose when attacked, exhibiting their bright colours to the predator. The frog ''Allobates zaparo'' is not poisonous, but mimics the appearance of other toxic species in its locality, a strategy that may deceive predators.\\n\\nMany amphibians are nocturnal and hide during the day, thereby avoiding diurnal predators that hunt by sight. Other amphibians use camouflage to avoid being detected. They have various colourings such as mottled browns, greys and olives to blend into the background. Some salamanders adopt defensive poses when faced by a potential predator such as the North American northern short-tailed shrew (''Blarina brevicauda''). Their bodies writhe and they raise and lash their tails which makes it difficult for the predator to avoid contact with their poison-producing granular glands. A few salamanders will autotomise their tails when attacked, sacrificing this part of their anatomy to enable them to escape. The tail may have a constriction at its base to allow it to be easily detached. The tail is regenerated later, but the energy cost to the animal of replacing it is significant.\\nSome frogs and toads inflate themselves to make themselves look large and fierce, and some spadefoot toads (''Pelobates spp'') scream and leap towards the attacker. Giant salamanders of the genus ''Andrias'', as well as Ceratophrine and ''Pyxicephalus'' frogs possess sharp teeth and are capable of drawing blood with a defensive bite. The blackbelly salamander (''Desmognathus quadramaculatus'') can bite an attacking common garter snake (''Thamnophis sirtalis'') two or three times its size on the head and often manages to escape.\\n\",\n",
       " 'The analysis of variance has been studied from several approaches, the most common of which uses a linear model that relates the response to the treatments and blocks. Note that the model is linear in parameters but may be nonlinear across factor levels. Interpretation is easy when data is balanced across factors but much deeper understanding is needed for unbalanced data.\\n\\n===Textbook analysis using a normal distribution===\\nThe analysis of variance can be presented in terms of a linear model, which makes the following assumptions about the probability distribution of the responses:\\n* Independence of observations – this is an assumption of the model that simplifies the statistical analysis.\\n* Normality – the distributions of the residuals are normal.\\n* Equality (or \"homogeneity\") of variances, called homoscedasticity — the variance of data in groups should be the same.\\n\\nThe separate assumptions of the textbook model imply that the errors are independently, identically, and normally distributed for fixed effects models, that is, that the errors () are independent and\\n\\n:\\n\\n===Randomization-based analysis===\\n\\nIn a randomized controlled experiment, the treatments are randomly assigned to experimental units, following the experimental protocol. This randomization is objective and declared before the experiment is carried out. The objective random-assignment is used to test the significance of the null hypothesis, following the ideas of C. S. Peirce and Ronald Fisher. This design-based analysis was discussed and developed by Francis J. Anscombe at Rothamsted Experimental Station and by Oscar Kempthorne at Iowa State University. Kempthorne and his students make an assumption of \\'\\'unit treatment additivity\\'\\', which is discussed in the books of Kempthorne and David R. Cox.\\n\\n====Unit-treatment additivity====\\nIn its simplest form, the assumption of unit-treatment additivity states that the observed response  from experimental unit  when receiving treatment  can be written as the sum of the unit\\'s response  and the treatment-effect , that is \\n: \\nThe assumption of unit-treatment additivity implies that, for every treatment , the th treatment has  exactly the same effect  on every experiment unit.\\n\\nThe assumption of unit treatment additivity  usually cannot be directly falsified, according to Cox and Kempthorne. However, many \\'\\'consequences\\'\\' of treatment-unit additivity can be falsified. For a randomized experiment, the assumption of unit-treatment additivity \\'\\'implies\\'\\' that the variance is constant for all treatments. Therefore, by contraposition, a necessary condition for unit-treatment additivity is that the variance is constant.\\n\\nThe use of unit treatment additivity and randomization is similar to the design-based inference that is standard in finite-population survey sampling.\\n\\n====Derived linear model====\\nKempthorne uses the randomization-distribution and the assumption of \\'\\'unit treatment additivity\\'\\' to produce a \\'\\'derived linear model\\'\\', very similar to the textbook model discussed previously.  The test statistics of this derived linear model are closely approximated by the test statistics of an appropriate normal linear model, according to approximation theorems and simulation studies. However, there are differences. For example, the randomization-based analysis results in a small but (strictly) negative correlation between the observations. In the randomization-based analysis, there is \\'\\'no assumption\\'\\' of a \\'\\'normal\\'\\' distribution and certainly \\'\\'no assumption\\'\\' of \\'\\'independence\\'\\'. On the contrary, \\'\\'the observations are dependent\\'\\'!\\n\\nThe randomization-based analysis has the disadvantage that its exposition involves tedious algebra and extensive time.  Since the randomization-based analysis is complicated and is closely approximated by the approach using a normal linear model, most teachers emphasize the normal linear model approach. Few statisticians object to model-based analysis of balanced randomized experiments.\\n\\n====Statistical models for observational data====\\nHowever, when applied to data from non-randomized experiments or observational studies, model-based analysis lacks the warrant of randomization. For observational data, the derivation of confidence intervals must use \\'\\'subjective\\'\\' models, as emphasized by Ronald Fisher and his followers. In practice, the estimates of treatment-effects from observational studies  generally are often inconsistent.  In practice, \"statistical models\" and observational data are useful for suggesting hypotheses that should be treated very cautiously by the public.\\n\\n===Summary of assumptions===\\nThe normal-model based ANOVA analysis assumes the independence, normality and \\nhomogeneity of the variances of the residuals. The \\nrandomization-based analysis assumes only the homogeneity of the \\nvariances of the residuals (as a consequence of unit-treatment \\nadditivity) and uses the randomization procedure of the experiment. \\nBoth these analyses require homoscedasticity, as an assumption for the normal-model analysis and as a consequence of randomization and additivity for the randomization-based analysis.\\n\\nHowever, studies of processes that \\nchange variances rather than means (called dispersion effects) have \\nbeen successfully conducted using ANOVA.  There are\\n\\'\\'no\\'\\' necessary assumptions for ANOVA in its full generality, but the\\nF-test used for ANOVA hypothesis testing has assumptions and practical \\nlimitations which are of continuing interest.\\n\\nProblems which do not satisfy the assumptions of ANOVA can often be transformed to satisfy the assumptions. \\nThe property of unit-treatment additivity is not invariant under a \"change of scale\", so statisticians often use transformations to achieve unit-treatment additivity. If the response variable is expected to follow a parametric family of probability distributions, then the statistician may specify (in the protocol for the experiment or observational study) that the responses be transformed to stabilize the variance. Also, a statistician may specify that logarithmic transforms be applied to the responses, which are believed to follow a multiplicative model.\\nAccording to Cauchy\\'s functional equation theorem, the logarithm is the only continuous transformation that transforms real multiplication to addition.\\n',\n",
       " 'Commemoration plaque atop Pikes Peak in July 1999\\n\\nIn 1893, at the age of 33, Bates, an English professor at Wellesley College, had taken a train trip to Colorado Springs, Colorado, to teach a short summer school session at Colorado College. Several of the sights on her trip inspired her, and they found their way into her poem, including the World\\'s Columbian Exposition in Chicago, the \"White City\" with its promise of the future contained within its alabaster buildings; the wheat fields of America\\'s heartland Kansas, through which her train was riding on July 16; and the majestic view of the Great Plains from high atop Pikes Peak.\\n\\nOn the pinnacle of that mountain, the words of the poem started to come to her, and she wrote them down upon returning to her hotel room at the original Antlers Hotel. The poem was initially published two years later in \\'\\'The Congregationalist\\'\\' to commemorate the Fourth of July. It quickly caught the public\\'s fancy. Amended versions were published in 1904 and 1911.\\n\\nSeveral existing pieces of music were adapted to the poem. A hymn tune composed by Samuel A. Ward was generally considered the best music as early as 1910 and is still the popular tune today. Just as Bates had been inspired to write her poem, Ward, too, was inspired to compose his tune. The tune came to him while he was on a ferryboat trip from Coney Island back to his home in New York City, after a leisurely summer day in 1882, and he immediately wrote it down. Supposedly, he was so anxious to capture the tune in his head, he asked fellow passenger friend Harry Martin for his shirt cuff to write the tune on. He composed the tune for the old hymn \"O Mother Dear, Jerusalem\", retitling the work \"Materna\". Ward\\'s music combined with Bates\\'s poem were first published together in 1910 and titled \"America the Beautiful\".\\n\\nWard died in 1903, not knowing the national stature his music would attain since the music was only first applied to the song in 1904. Bates was more fortunate since the song\\'s popularity was well established by the time of her death in 1929.\\n\\nAt various times in the more than 100 years that have elapsed since the song was written, particularly during the John F. Kennedy administration, there have been efforts to give \"America the Beautiful\" legal status either as a national hymn or as a national anthem equal to, or in place of, \"The Star-Spangled Banner\", but so far this has not succeeded. Proponents prefer \"America the Beautiful\" for various reasons, saying it is easier to sing, more melodic, and more adaptable to new orchestrations while still remaining as easily recognizable as \"The Star-Spangled Banner\". Some prefer \"America the Beautiful\" over \"The Star-Spangled Banner\" due to the latter\\'s war-oriented imagery. Others prefer \"The Star-Spangled Banner\" for the same reason. While that national dichotomy has stymied any effort at changing the tradition of the national anthem, \"America the Beautiful\" continues to be held in high esteem by a large number of Americans.\\n\\nThis song was used as the background music of the television broadcast of the Tiangong-1 launch.\\n\\nThe song is often included in songbooks in a wide variety of religious congregations in the United States.\\n\\n',\n",
       " 'Basic structure of an amino acid.Many biologically important molecules are acids. Nucleic acids, which contain acidic phosphate groups, include DNA and RNA. Nucleic acids contain the genetic code that determines many of an organism\\'s characteristics, and is passed from parents to offspring. DNA contains the chemical blueprint for the synthesis of proteins which are made up of amino acid subunits. Cell membranes contain fatty acid esters such as phospholipids.\\n\\nAn α-amino acid has a central carbon (the α or \\'\\'alpha\\'\\' carbon) which is covalently bonded to a carboxyl group (thus they are carboxylic acids), an amino group, a hydrogen atom and a variable group. The variable group, also called the R group or side chain, determines the identity and many of the properties of a specific amino acid. In glycine, the simplest amino acid, the R group is a hydrogen atom, but in all other amino acids it is contains one or more carbon atoms bonded to hydrogens, and may contain other elements such as sulfur, oxygen or nitrogen. With the exception of glycine, naturally occurring amino acids are chiral and almost invariably occur in the L-configuration. Peptidoglycan, found in some bacterial cell walls contains some D-amino acids. At physiological pH, typically around 7, free amino acids exist in a charged form, where the acidic carboxyl group (-COOH) loses a proton (-COO−) and the basic amine group (-NH2) gains a proton (-NH). The entire molecule has a net neutral charge and is a zwitterion, with the exception of amino acids with basic or acidic side chains. Aspartic acid, for example, possesses one protonated amine and two deprotonated carboxyl groups, for a net charge of −1 at physiological pH.\\n\\nFatty acids and fatty acid derivatives are another group of carboxylic acids that play a significant role in biology. These contain long hydrocarbon chains and a carboxylic acid group on one end. The cell membrane of nearly all organisms is primarily made up of a phospholipid bilayer, a micelle of hydrophobic fatty acid esters with polar, hydrophilic phosphate \"head\" groups. Membranes contain additional components, some of which can participate in acid-base reactions.\\n\\nIn humans and many other animals, hydrochloric acid is a part of the gastric acid secreted within the stomach to help hydrolyze proteins and polysaccharides, as well as converting the inactive pro-enzyme, pepsinogen into the enzyme, pepsin. Some organisms produce acids for defense; for example, ants produce formic acid.\\n\\nAcid-base equilibrium plays a critical role in regulating mammalian breathing. Oxygen gas (O2) drives cellular respiration, the process by which animals release the chemical potential energy stored in food, producing carbon dioxide (CO2) as a byproduct. Oxygen and carbon dioxide are exchanged in the lungs, and the body responds to changing energy demands by adjusting the rate of ventilation. For example, during periods of exertion the body rapidly breaks down stored carbohydrates and fat, releasing CO2 into the blood stream. In aqueous solutions such as blood CO2 exists in equilibrium with carbonic acid and bicarbonate ion.\\n: CO2 + H2O  H2CO3  H+ + HCO\\nIt is the decrease in pH that signals the brain to breathe faster and deeper, expelling the excess CO2 and resupplying the cells with O2.\\n\\nAspirin (acetylsalicylic acid) is a carboxylic acid. Cell membranes are generally impermeable to charged or large, polar molecules because of the lipophilic fatty acyl chains comprising their interior. Many biologically important molecules, including a number of pharmaceutical agents, are organic weak acids which can cross the membrane in their protonated, uncharged form but not in their charged form (i.e. as the conjugate base). For this reason the activity of many drugs can be enhanced or inhibited by the use of antacids or acidic foods. The charged form, however, is often more soluble in blood and cytosol, both aqueous environments. When the extracellular environment is more acidic than the neutral pH within the cell, certain acids will exist in their neutral form and will be membrane soluble, allowing them to cross the phospholipid bilayer. Acids that lose a proton at the intracellular pH will exist in their soluble, charged form and are thus able to diffuse through the cytosol to their target. Ibuprofen, aspirin and penicillin are examples of drugs that are weak acids.\\n',\n",
       " 'Apollo\\xa08 came at the end of 1968, a year that had seen much upheaval in the United States and most of the world. Even though the year saw political assassinations, political unrest in the streets of Europe and America, and the Prague Spring, \\'\\'Time\\'\\' magazine chose the crew of Apollo\\xa08 as its Men of the Year for 1968, recognizing them as the people who most influenced events in the preceding year. They had been the first people ever to leave the gravitational influence of the Earth and orbit another celestial body. They had survived a mission that even the crew themselves had rated as only having a fifty-fifty chance of fully succeeding. The effect of Apollo\\xa08 can be summed up by a telegram from a stranger, received by Borman after the mission, that simply stated, \"Thank you Apollo\\xa08. You saved 1968.\"\\n\\nOne of the most famous aspects of the flight was the Earthrise picture that was taken as they came around for their fourth orbit of the Moon. This was the first time that humans had taken such a picture whilst actually behind the camera, and it has been credited with a role in inspiring the first Earth Day in 1970. It was selected as the first of \\'\\'Life\\'\\' magazine\\'s \\'\\'100 Photographs That Changed the World\\'\\'. Apollo 11 astronaut Michael Collins said, \"Eight\\'s momentous historic significance was foremost\"; while many space historians, such as Robert K. Poole, see Apollo 8 as the most historically significant of all the Apollo missions.\\n\\nThe mission was the most widely covered by the media since the first American orbital flight, Mercury-Atlas 6 by John Glenn in 1962. There were 1200 journalists covering the mission, with the BBC coverage being broadcast in 54 countries in 15 different languages. The Soviet newspaper \\'\\'Pravda\\'\\' featured a quote from Boris Nikolaevich Petrov, Chairman of the Soviet Interkosmos program, who described the flight as an \"outstanding achievement of American space sciences and technology\". It is estimated that a quarter of the people alive at the time saw—either live or delayed—the Christmas Eve transmission during the ninth orbit of the Moon. The Apollo 8 broadcasts won an Emmy Award, the highest honor given by the Academy of Television Arts & Sciences.\\n\\nApollo 8 commemorative stampMadalyn Murray O\\'Hair, an atheist, later caused controversy by bringing a lawsuit against NASA over the reading from Genesis. O\\'Hair wished the courts to ban American astronauts—who were all government employees—from public prayer in space. Though the case was rejected by the Supreme Court of the United States for lack of jurisdiction, it caused NASA to be skittish about the issue of religion throughout the rest of the Apollo program. Buzz Aldrin, on Apollo 11, self-communicated Presbyterian Communion on the surface of the Moon after landing; he refrained from mentioning this publicly for several years, and only obliquely referred to it at the time.\\n\\nIn 1969, the United States Postal Service issued a postage stamp (Scott catalogue #1371) commemorating the Apollo\\xa08 flight around the Moon. The stamp featured a detail of the famous photograph of the Earthrise over the Moon taken by Anders on Christmas Eve, and the words, \"In the beginning God\\xa0...\" Just 18 days after the crew\\'s return to Earth, they were featured during the 1969 Super Bowl pre-game show reciting the Pledge of Allegiance prior to the national anthem being performed by Anita Bryant.\\n',\n",
       " '\\nWhen an alphabet is adopted or developed to represent a given language, an orthography generally comes into being, providing rules for the spelling of words in that language. In accordance with the principle on which alphabets are based, these rules will generally map letters of the alphabet to the phonemes (significant sounds) of the spoken language. In a perfectly phonemic orthography there would be a consistent one-to-one correspondence between the letters and the phonemes, so that a writer could predict the spelling of a word given its pronunciation, and a speaker would always know the pronunciation of a word given its spelling, and vice versa. However this ideal is not usually achieved in practice; some languages (such as Spanish and Finnish) come close to it, while others (such as English) deviate from it to a much larger degree.\\n\\nThe pronunciation of a language often evolves independently of its writing system, and writing systems have been borrowed for languages they were not designed for, so the degree to which letters of an alphabet correspond to phonemes of a language varies greatly from one language to another and even within a single language.\\n\\nLanguages may fail to achieve a one-to-one correspondence between letters and sounds in any of several ways:\\n* A language may represent a given phoneme by a combination of letters rather than just a single letter. Two-letter combinations are called digraphs and three-letter groups are called trigraphs. German uses the tetragraphs (four letters) \"tsch\" for the phoneme  and (in a few borrowed words) \"dsch\" for . Kabardian also uses a tetragraph for one of its phonemes, namely \"кхъу\". Two letters representing one sound occur in several instances in Hungarian as well (where, for instance, \\'\\'cs\\'\\' stands for tʃ, \\'\\'sz\\'\\' for s, \\'\\'zs\\'\\' for ʒ, \\'\\'dzs\\'\\' for dʒ).\\n* A language may represent the same phoneme with two or more different letters or combinations of letters. An example is modern Greek which may write the phoneme  in six different ways: , , , , , and  (though the last is rare).\\n* A language may spell some words with unpronounced letters that exist for historical or other reasons. For example, the spelling of the Thai word for \"beer\" เบียร์ retains a letter for the final consonant \"r\" present in the English word it was borrowed from, but silences it.\\n* Pronunciation of individual words may change according to the presence of surrounding words in a sentence (sandhi).\\n* Different dialects of a language may use different phonemes for the same word.\\n* A language may use different sets of symbols or different rules for distinct sets of vocabulary items, such as the Japanese hiragana and katakana syllabaries, or the various rules in English for spelling words from Latin and Greek, or the original Germanic vocabulary.\\n\\nNational languages sometimes elect to address the problem of dialects by simply associating the alphabet with the national standard. However, with an international language with wide variations in its dialects, such as English, it would be impossible to represent the language in all its variations with a single phonetic alphabet.\\n\\nSome national languages like Finnish, Turkish, Russian, Serbo-Croatian (Serbian, Croatian and Bosnian) and Bulgarian have a very regular spelling system with a nearly one-to-one correspondence between letters and phonemes. Strictly speaking, these national languages lack a word corresponding to the verb \"to spell\" (meaning to split a word into its letters), the closest match being a verb meaning to split a word into its syllables. Similarly, the Italian verb corresponding to \\'spell (out)\\', \\'\\'compitare\\'\\', is unknown to many Italians because spelling is usually trivial, as Italian spelling is highly phonemic. In standard Spanish, one can tell the pronunciation of a word from its spelling, but not vice versa, as certain phonemes can be represented in more than one way, but a given letter is consistently pronounced. French, with its silent letters and its heavy use of nasal vowels and elision, may seem to lack much correspondence between spelling and pronunciation, but its rules on pronunciation, though complex, are actually consistent and predictable with a fair degree of accuracy.\\n\\nAt the other extreme are languages such as English, where the pronunciations of many words simply have to be memorized as they do not correspond to the spelling in a consistent way. For English, this is partly because the Great Vowel Shift occurred after the orthography was established, and because English has acquired a large number of loanwords at different times, retaining their original spelling at varying levels. Even English has general, albeit complex, rules that predict pronunciation from spelling, and these rules are successful most of the time; rules to predict spelling from the pronunciation have a higher failure rate.\\n\\nSometimes, countries have the written language undergo a spelling reform to realign the writing with the contemporary spoken language. These can range from simple spelling changes and word forms to switching the entire writing system itself, as when Turkey switched from the Arabic alphabet to a Latin-based Turkish alphabet.\\n\\nThe standard system of symbols used by linguists to represent sounds in any language, independently of orthography, is called the International Phonetic Alphabet.\\n',\n",
       " '\\n\\n\\n===Asia-Africa boundary===\\nThe boundary between Asia and Africa is the Red Sea, the Gulf of Suez, and the Suez Canal.  This makes Egypt a transcontinental country, with the Sinai peninsula in Asia and the remainder of the country in Africa.\\n\\n===Asia–Europe boundary===\\nStatue representing Asia at Palazzo Ferreria, in Valletta, Malta\\nThe border between Asia and Europe was historically defined by European academics. The Don River became unsatisfactory to northern Europeans when Peter the Great, king of the Tsardom of Russia, defeating rival claims of Sweden and the Ottoman Empire to the eastern lands, and armed resistance by the tribes of Siberia, synthesized a new Russian Empire extending to the Ural Mountains and beyond, founded in 1721. The major geographical theorist of the empire was actually a former Swedish prisoner-of-war, taken at the Battle of Poltava in 1709 and assigned to Tobolsk, where he associated with Peter\\'s Siberian official, Vasily Tatishchev, and was allowed freedom to conduct geographical and anthropological studies in preparation for a future book.\\n\\nIn Sweden, five years after Peter\\'s death, in 1730 Philip Johan von Strahlenberg published a new atlas proposing the Urals as the border of Asia. The Russians were enthusiastic about the concept, which allowed them to keep their European identity in geography. Tatishchev announced that he had proposed the idea to von Strahlenberg. The latter had suggested the Emba River as the lower boundary. Over the next century various proposals were made until the Ural River prevailed in the mid-19th century. The border had been moved perforce from the Black Sea to the Caspian Sea into which the Ural River projects. The border between the Black Sea and the Caspian is usually placed along the crest of the Caucasus Mountains, although it is sometimes placed further north.\\n\\n===Asia–Oceania boundary===\\nThe border between Asia and the region of Oceania is usually placed somewhere in the Malay Archipelago. The Maluku Islands in Indonesia are often considered to lie on the border of southeast Asia, with New Guinea, to the east of the islands, being wholly part of Oceania. The terms Southeast Asia and Oceania, devised in the 19th century, have had several vastly different geographic meanings since their inception. The chief factor in determining which islands of the Malay Archipelago are Asian has been the location of the colonial possessions of the various empires there (not all European). Lewis and Wigen assert, \"The narrowing of \\'Southeast Asia\\' to its present boundaries was thus a gradual process.\"\\n\\n===Ongoing definition===\\nAfro-Eurasia shown in green\\nGeographical Asia is a cultural artifact of European conceptions of the world, beginning with the Ancient Greeks, being imposed onto other cultures, an imprecise concept causing endemic contention about what it means. Asia is larger and more culturally diverse than Europe. It does not exactly correspond to the cultural borders of its various types of constituents.\\n\\nFrom the time of Herodotus a minority of geographers have rejected the three-continent system (Europe, Africa, Asia) on the grounds that there is no or is no substantial physical separation between them. For example, Sir Barry Cunliffe, the emeritus professor of European archeology at Oxford, argues that Europe has been geographically and culturally merely \"the western excrescence of the continent of Asia\". \\n\\nGeographically, Asia is the major eastern constituent of the continent of Eurasia with Europe being a northwestern peninsula of the landmass. Asia, Europe and Africa make up a single continuous landmass - Afro-Eurasia (except for the Suez Canal) and share a common continental shelf. Almost all of Europe and the better part of Asia sit atop the Eurasian Plate, adjoined on the south by the Arabian and Indian Plate and with the easternmost part of Siberia (east of the Chersky Range) on the North American Plate.\\n\\n',\n",
       " 'False color map of ocean depth in the Atlantic basin\\nThe bathymetry of the Atlantic is dominated by a submarine mountain range called the Mid-Atlantic Ridge (MAR). It runs from 87°N or  south of the North Pole to the subantarctic Bouvet Island at 42°S.\\n\\n===Mid-Atlantic Ridge===\\n\\nThe MAR divides the Atlantic longitudinally into two halves, in each of which a series of basins are delimited by secondary, transverse ridges.  The MAR reaches above  along most of its length, but is interrupted by larger transform faults at two places: the Romanche Trench near the Equator and the Gibbs Fracture Zone at 53°N. The MAR is a barrier for bottom water, but at these two transform faults deep water currents can pass from one side to the other.\\n\\nThe MAR rises  above the surrounding ocean floor and its rift valley is the divergent boundary between the North American and Eurasian plates in the North Atlantic and the South American and African plates in the South Atlantic. The MAR produces basaltic volcanoes in Eyjafjallajökull, Iceland, and pillow lava on the ocean floor. The depth of water at the apex of the ridge is less than  in most places, while the bottom of the ridge is three times as deep.\\n\\nThe MAR is intersected by two perpendicular ridges: the Azores–Gibraltar Transform Fault, the boundary between the Nubian and Eurasian plates, intersects the MAR at the Azores Triple Junction, on either side of the Azores microplate, near the 40°N. A much vaguer, nameless boundary, between the North American and South American plates, intersects the MAR near or just north of the Fifteen-Twenty Fracture Zone, approximately at 16°N.\\n\\nIn the 1870s, the Challenger expedition discovered parts of what is now known as the Mid-Atlantic Ridge, or:\\n  The remainder of the ridge was discovered in the 1920s by the German Meteor expedition using echo-sounding equipment. The exploration of the MAR in the 1950s lead to the general acceptance of seafloor spreading and plate tectonics.\\n\\nMost of the MAR runs under water but where it reaches the surfaces it has produced volcanic islands. While nine of these have collectively been nominated a World Heritage Site for their geological value, four of them are considered of \"Outstanding Universal Value\" based on their cultural and natural criteria: Þingvellir, Iceland; Landscape of the Pico Island Vineyard Culture, Portugal; Gough and Inaccessible Islands, United Kingdom; and Brazilian Atlantic Islands: Fernando de Noronha and Atol das Rocas Reserves, Brazil.\\n\\n===Ocean floor===\\n\\nContinental shelves in the Atlantic are wide off Newfoundland, southern-most South America, and north-eastern Europe.\\nIn the western Atlantic carbonate platforms dominate large areas, for example the Blake Plateau and Bermuda Rise.\\nThe Atlantic is surrounded by passive margins except at a few locations where active margins form deep trenches: the Puerto Rico Trench ( maximum depth) in the western Pacific and South Sandwich Trench () in the South Atlantic.  There are numerous submarine canyons off north-eastern North America, western Europe, and north-western Africa. Some of these canyons extend along the continental rises and farther into the abyssal plains as deep-sea channels.\\n\\nIn 1922 a historic moment in cartography and oceanography occurred. The USS Stewart used a Navy Sonic Depth Finder to draw a continuous map across the bed of the Atlantic.  This involved little guesswork because the idea of sonar is straight forward with pulses being sent from the vessel, which bounce off the ocean floor, then return to the vessel.  The deep ocean floor is thought to be fairly flat with occasional deeps, abyssal plains, trenches, seamounts, basins, plateaus, canyons, and some guyots. Various shelves along the margins of the continents constitute about 11% of the bottom topography with few deep channels cut across the continental rise.\\n\\nThe mean depth between 60°N and 60°S is , or close to the average for the global ocean, with a modal depth between .\\n\\nIn the South Atlantic the Walvis Ridge and Rio Grande Rise form barriers to ocean currents.\\nThe Laurentian Abyss is found off the eastern coast of Canada.\\n',\n",
       " \"\\nSince the adoption of a new constitution in 2010, the '''politics of Angola''' takes place in a framework of a presidential republic, whereby the President of Angola is both head of state and head of government, and of a multi-party system. Executive power is exercised by the government. Legislative power is vested in the President, the government and parliament.\\n\\nAngola changed from a one-party Marxist-Leninist system ruled by the Popular Movement for the Liberation of Angola (MPLA), in place since independence in 1975, to a multiparty democracy based on a new constitution adopted in 1992.  That same year the first parliamentary and presidential elections were held. The MPLA won an absolute majority in the parliamentary elections. In the presidential elections, President José Eduardo dos Santos won the first round election with more than 49% of the vote to Jonas Savimbi's 40%. A runoff election would have been necessary, but never took place. The renewal of civil war immediately after the elections, which were considered as fraudulent by UNITA, and the collapse of the Lusaka Protocol, created a split situation. To a certain degree the new democratic institutions worked, notably the National Assembly, with the active participation of UNITA's and the FNLA's elected MPs  - while José Eduardo dos Santos continued to exercise his functions without democratic legitimation. However the armed forces of the MPLA (now the official armed forces of the Angolan state) and of UNITA fought each other until the leader of UNITA, Jonas Savimbi, was killed in action in 2002.\\n\\nFrom 2002 to 2010, the system as defined by the constitution of 1992 functioned in a relatively normal way. The executive branch of the government was composed of the President, the Prime Minister and Council of Ministers. The Council of Ministers, composed of all ministers and vice ministers, met regularly to discuss policy issues. Governors of the 18 provinces were appointed by and served at the pleasure of the president. The Constitutional Law of 1992 established the broad outlines of government structure and the rights and duties of citizens. The legal system was based on Portuguese and customary law but was weak and fragmented. Courts operated in only 12 of more than 140 municipalities. A Supreme Court served as the appellate tribunal; a Constitutional Court with powers of judicial review was never constituted despite statutory authorization. In practice,  power was more and more concentrated in the hands of the President who, supported by an ever-increasing staff, largely controlled parliament, government, and the judiciary.\\n\\nThe 26-year-long civil war has ravaged the country's political and social institutions. The UN estimates of 1.8 million internally displaced persons (IDPs), while generally the accepted figure for war-affected people is 4 million. Daily conditions of life throughout the country and specifically Luanda (population approximately 6 million) mirror the collapse of administrative infrastructure as well as many social institutions. The ongoing grave economic situation largely prevents any government support for social institutions. Hospitals are without medicines or basic equipment, schools are without books, and public employees often lack the basic supplies for their day-to-day work.\\n\",\n",
       " '\\n\\n\\n\\n\\n\\'\\'\\'Albert Einstein\\'\\'\\' (; ; 14 March 1879\\xa0– 18\\xa0April 1955) was a German-born theoretical physicist.\\n\\nEinstein developed the theory of relativity, one of the two pillars of modern physics (alongside quantum mechanics). Einstein\\'s work is also known for its influence on the philosophy of science. Einstein is best known by the general public for his mass–energy equivalence formula  (which has been dubbed \"the world\\'s most famous equation\"). He received the 1921 Nobel Prize in Physics \"for his services to theoretical physics, and especially for his discovery of the law of the photoelectric effect\", a pivotal step in the evolution of quantum theory.\\n\\nNear the beginning of his career, Einstein thought that Newtonian mechanics was no longer enough to reconcile the laws of classical mechanics with the laws of the electromagnetic field. This led him to develop his special theory of relativity during his time at the Swiss Patent Office in Bern (1902–1909), Switzerland. However, he realized that the principle of relativity could also be extended to gravitational fields and—with his subsequent theory of gravitation in 1916—he published a paper on general relativity. He continued to deal with problems of statistical mechanics and quantum theory, which led to his explanations of particle theory and the motion of molecules. He also investigated the thermal properties of light which laid the foundation of the photon theory of light. In 1917, Einstein applied the general theory of relativity to model the large-scale structure of the universe.\\n\\nBetween 1895 and 1914 he lived in Switzerland (except for one year in Prague, 1911–12), where he received his academic diploma from the Swiss Federal Polytechnic in Zürich (later the Eidgenössische Technische Hochschule, ETH) in 1900. He later taught there at the same institute as a professor of theoretical physics between 1912 and 1914 before he left for Berlin. In 1901, after being stateless for more than five years, Einstein acquired Swiss citizenship, which he kept for the rest of his life. In 1905, Einstein was awarded a PhD by the University of Zürich. The same year, his \\'\\'annus mirabilis\\'\\' (miracle year), he published four groundbreaking papers, which were to bring him to the notice of the academic world, at the age of 26.\\n\\nHe was visiting the United States when Adolf Hitler came to power in 1933 and—being Jewish—did not go back to Germany, where he had been a professor at the Berlin Academy of Sciences. He settled in the United States, becoming an American citizen in 1940. On the eve of World War II, he endorsed a letter to President Franklin D. Roosevelt alerting him to the potential development of \"extremely powerful bombs of a new type\" and recommending that the U.S. begin similar research. This eventually led to what would become the Manhattan Project. Einstein supported defending the Allied forces, but generally denounced the idea of using the newly discovered nuclear fission as a weapon. Later, with the British philosopher Bertrand Russell, Einstein signed the Russell–Einstein Manifesto, which highlighted the danger of nuclear weapons. Einstein was affiliated with the Institute for Advanced Study in Princeton, New Jersey, until his death in 1955.\\n\\nEinstein published more than 300 scientific papers along with over 150 non-scientific works. Einstein\\'s intellectual achievements and originality have made the word \"Einstein\" synonymous with \"genius\".\\n']"
      ]
     },
     "execution_count": 34,
     "metadata": {},
     "output_type": "execute_result"
    }
   ],
   "source": [
    "article_list = [item for sublist in article_list for item in sublist]\n",
    "article_list"
   ]
  },
  {
   "cell_type": "code",
   "execution_count": 35,
   "id": "df0b1383",
   "metadata": {},
   "outputs": [
    {
     "data": {
      "text/plain": [
       "15"
      ]
     },
     "execution_count": 35,
     "metadata": {},
     "output_type": "execute_result"
    }
   ],
   "source": [
    "len(article_list)"
   ]
  },
  {
   "cell_type": "markdown",
   "id": "77160952",
   "metadata": {},
   "source": [
    "## Extractive Summarization"
   ]
  },
  {
   "cell_type": "markdown",
   "id": "8876b9f3",
   "metadata": {},
   "source": [
    "Creating a function to break down the articles into sentences"
   ]
  },
  {
   "cell_type": "code",
   "execution_count": 36,
   "id": "fa6e1b8c",
   "metadata": {},
   "outputs": [],
   "source": [
    "def articles(list_of_articles):\n",
    "    global sent_list\n",
    "    global main_list\n",
    "    main_list = []\n",
    "    for i in range(0, len(list_of_articles)):\n",
    "        sent_list = []\n",
    "        list_of_articles[i] = re.sub(r'.\\n\\n', '. ', list_of_articles[i])\n",
    "        list_of_articles[i] = re.sub(r'.\\n', '. ', list_of_articles[i])\n",
    "        doc = nlp(list_of_articles[i])\n",
    "        \n",
    "        # Breaking the articles into sentences\n",
    "        for sent in doc.sents:                 \n",
    "            sent_list.append(sent.text)\n",
    "        main_list.append(sent_list)\n",
    "        \n",
    "    print(len(main_list))"
   ]
  },
  {
   "cell_type": "code",
   "execution_count": 37,
   "id": "c117a4ab",
   "metadata": {},
   "outputs": [
    {
     "name": "stdout",
     "output_type": "stream",
     "text": [
      "15\n"
     ]
    }
   ],
   "source": [
    "articles(article_list)"
   ]
  },
  {
   "cell_type": "markdown",
   "id": "b34f3efc",
   "metadata": {},
   "source": [
    "### 01) TF-IDF based summarization"
   ]
  },
  {
   "cell_type": "code",
   "execution_count": 38,
   "id": "51a9000b",
   "metadata": {},
   "outputs": [],
   "source": [
    "def tfidf_summarizer(article_num, summary_words):\n",
    "    global tfidf_sum\n",
    "    num_summary_sentence = summary_words\n",
    "    tfidfVectorizer = TfidfVectorizer()\n",
    "    words_tfidf = tfidfVectorizer.fit_transform(article_num)\n",
    "    print(words_tfidf.shape)\n",
    "\n",
    "    #sum each row and store it in sent_sum\n",
    "    sent_sum = words_tfidf.sum(axis=1)\n",
    "\n",
    "    # Sort the sentences in descending order by the sum of TF-IDF values\n",
    "    important_sent = np.argsort(sent_sum, axis=0)[::-1]\n",
    "    \n",
    "    tfidf_sum_list = []\n",
    "    for i in range(0, len(article_num)):\n",
    "        if i in important_sent[:num_summary_sentence]:\n",
    "            tfidf_sum_list.append(article_num[i])\n",
    "    tfidf_sum = ' '.join(tfidf_sum_list)\n",
    "    return tfidf_sum"
   ]
  },
  {
   "cell_type": "markdown",
   "id": "9b2c0991",
   "metadata": {},
   "source": [
    "#### Article 01"
   ]
  },
  {
   "cell_type": "code",
   "execution_count": 248,
   "id": "76b8fd42",
   "metadata": {},
   "outputs": [
    {
     "name": "stdout",
     "output_type": "stream",
     "text": [
      "(24, 305)\n",
      "All known teratogens (agents that cause birth defects) related to the risk of autism appear to act during the first eight weeks from conception, and though this does not exclude the possibility that autism can be initiated or affected later, there is strong evidence that autism arises very early in development.\n",
      "Wall time: 6 ms\n"
     ]
    }
   ],
   "source": [
    "%%time\n",
    "\n",
    "tfidf_summ1 = tfidf_summarizer(main_list[0], 1)\n",
    "print(tfidf_summ1)"
   ]
  },
  {
   "cell_type": "code",
   "execution_count": 42,
   "id": "f75f863b",
   "metadata": {},
   "outputs": [
    {
     "name": "stdout",
     "output_type": "stream",
     "text": [
      "The 10% of original length gives 60 words, while the summary has 51 words.\n"
     ]
    }
   ],
   "source": [
    "words = tfidf_sum.split()  # split the string into a list of words\n",
    "num_words = len(words)     # get the length of the list\n",
    "\n",
    "print(\"The 10% of original length gives\", int(0.1 * len(article_list[0].split())), \"words, while the summary has\", num_words, \"words.\")"
   ]
  },
  {
   "cell_type": "markdown",
   "id": "99bc0fd1",
   "metadata": {},
   "source": [
    "#### Article 02"
   ]
  },
  {
   "cell_type": "code",
   "execution_count": 151,
   "id": "3268a410",
   "metadata": {},
   "outputs": [
    {
     "name": "stdout",
     "output_type": "stream",
     "text": [
      "(26, 268)\n",
      "Troy University was the largest institution in the state in 2010, with an enrollment of 29,689 students across four Alabama campuses (Troy, Dothan, Montgomery, and Phenix City), as well as sixty learning sites in seventeen other states and eleven other countries.\n",
      "Wall time: 10 ms\n"
     ]
    }
   ],
   "source": [
    "%%time\n",
    "\n",
    "tfidf_summ2 = tfidf_summarizer(main_list[1], 1)\n",
    "print(tfidf_summ2)"
   ]
  },
  {
   "cell_type": "code",
   "execution_count": 44,
   "id": "56e00200",
   "metadata": {},
   "outputs": [
    {
     "name": "stdout",
     "output_type": "stream",
     "text": [
      "The 10% of original length gives 62 words, while the summary has 41 words.\n"
     ]
    }
   ],
   "source": [
    "words = tfidf_sum.split()  # split the string into a list of words\n",
    "num_words = len(words)     # get the length of the list\n",
    "\n",
    "print(\"The 10% of original length gives\", int(0.1 * len(article_list[1].split())), \"words, while the summary has\", num_words, \"words.\")"
   ]
  },
  {
   "cell_type": "markdown",
   "id": "aa59bd0b",
   "metadata": {},
   "source": [
    "#### Article 03"
   ]
  },
  {
   "cell_type": "code",
   "execution_count": 152,
   "id": "b00dc94d",
   "metadata": {},
   "outputs": [
    {
     "name": "stdout",
     "output_type": "stream",
     "text": [
      "(48, 386)\n",
      "Sociocultural anthropology also covers economic and political organization, law and conflict resolution, patterns of consumption and exchange, material culture, technology, infrastructure, gender relations, ethnicity, childrearing and socialization, religion, myth, symbols, values, etiquette, worldview, sports, music, nutrition, recreation, games, food, festivals, and language (which is also the object of study in linguistic anthropology).\n",
      "Wall time: 11 ms\n"
     ]
    }
   ],
   "source": [
    "%%time\n",
    "\n",
    "tfidf_summ3 = tfidf_summarizer(main_list[2], 1)\n",
    "print(tfidf_summ3)"
   ]
  },
  {
   "cell_type": "code",
   "execution_count": 46,
   "id": "f956ac76",
   "metadata": {},
   "outputs": [
    {
     "name": "stdout",
     "output_type": "stream",
     "text": [
      "The 10% of original length gives 85 words, while the summary has 52 words.\n"
     ]
    }
   ],
   "source": [
    "words = tfidf_sum.split()  # split the string into a list of words\n",
    "num_words = len(words)     # get the length of the list\n",
    "\n",
    "print(\"The 10% of original length gives\", int(0.1 * len(article_list[2].split())), \"words, while the summary has\", num_words, \"words.\")"
   ]
  },
  {
   "cell_type": "markdown",
   "id": "876b96d5",
   "metadata": {},
   "source": [
    "#### Article 04"
   ]
  },
  {
   "cell_type": "code",
   "execution_count": 232,
   "id": "43d1448f",
   "metadata": {},
   "outputs": [
    {
     "name": "stdout",
     "output_type": "stream",
     "text": [
      "(28, 248)\n",
      "At the 2009 French Open, Agassi was on hand to present Roger Federer, who completed his Career Grand Slam by winning the tournament and joined Agassi as one of six men to complete the Career Grand Slam, with the trophy. Agassi and Sampras met again one year later for an exhibition match at Madison Square Garden in New York in front of 19 000 spectators as Sampras defeated Agassi in two sets.\n",
      "Wall time: 540 ms\n"
     ]
    }
   ],
   "source": [
    "%%time\n",
    "\n",
    "tfidf_summ4 = tfidf_summarizer(main_list[3], 2)\n",
    "print(tfidf_summ4)"
   ]
  },
  {
   "cell_type": "code",
   "execution_count": 48,
   "id": "6cef4348",
   "metadata": {},
   "outputs": [
    {
     "name": "stdout",
     "output_type": "stream",
     "text": [
      "The 10% of original length gives 57 words, while the summary has 72 words.\n"
     ]
    }
   ],
   "source": [
    "words = tfidf_sum.split()  # split the string into a list of words\n",
    "num_words = len(words)     # get the length of the list\n",
    "\n",
    "print(\"The 10% of original length gives\", int(0.1 * len(article_list[3].split())), \"words, while the summary has\", num_words, \"words.\")"
   ]
  },
  {
   "cell_type": "markdown",
   "id": "8e463b53",
   "metadata": {},
   "source": [
    "#### Article 05"
   ]
  },
  {
   "cell_type": "code",
   "execution_count": 234,
   "id": "713ca70a",
   "metadata": {},
   "outputs": [
    {
     "name": "stdout",
     "output_type": "stream",
     "text": [
      "(39, 369)\n",
      "Old Major, the old boar on the Manor Farm, summons the animals on the farm together for a meeting, during which he refers to humans as \"enemies\" and teaches the animals a revolutionary song called \"Beasts of England\". In a subsequent report, Squealer reports sadly to the animals that Boxer died peacefully at the animal hospital; the pigs hold a festival one day after Boxer's death to further praise the glories of Animal Farm and have the animals work harder by taking on Boxer's ways.\n",
      "Wall time: 10 ms\n"
     ]
    }
   ],
   "source": [
    "%%time\n",
    "\n",
    "tfidf_summ5 = tfidf_summarizer(main_list[4], 2)\n",
    "print(tfidf_summ5)"
   ]
  },
  {
   "cell_type": "code",
   "execution_count": 50,
   "id": "1f4928d7",
   "metadata": {},
   "outputs": [
    {
     "name": "stdout",
     "output_type": "stream",
     "text": [
      "The 10% of original length gives 82 words, while the summary has 85 words.\n"
     ]
    }
   ],
   "source": [
    "words = tfidf_sum.split()  # split the string into a list of words\n",
    "num_words = len(words)     # get the length of the list\n",
    "\n",
    "print(\"The 10% of original length gives\", int(0.1 * len(article_list[4].split())), \"words, while the summary has\", num_words, \"words.\")"
   ]
  },
  {
   "cell_type": "markdown",
   "id": "63c6e714",
   "metadata": {},
   "source": [
    "#### Article 06"
   ]
  },
  {
   "cell_type": "code",
   "execution_count": 235,
   "id": "649ca715",
   "metadata": {},
   "outputs": [
    {
     "name": "stdout",
     "output_type": "stream",
     "text": [
      "(36, 350)\n",
      "The rough-skinned newt (''Taricha granulosa'') from North America and other members of its genus contain the neurotoxin tetrodotoxin (TTX), the most toxic non-protein substance known and almost identical to that produced by pufferfish. In some species, such as the fire-bellied toad (''Bombina spp.''), the warning colouration is on the belly and these animals adopt a defensive pose when attacked, exhibiting their bright colours to the predator.\n",
      "Wall time: 7 ms\n"
     ]
    }
   ],
   "source": [
    "%%time\n",
    "\n",
    "tfidf_summ6 = tfidf_summarizer(main_list[5], 2)\n",
    "print(tfidf_summ6)"
   ]
  },
  {
   "cell_type": "code",
   "execution_count": 52,
   "id": "a47fd216",
   "metadata": {},
   "outputs": [
    {
     "name": "stdout",
     "output_type": "stream",
     "text": [
      "The 10% of original length gives 68 words, while the summary has 66 words.\n"
     ]
    }
   ],
   "source": [
    "words = tfidf_sum.split()  # split the string into a list of words\n",
    "num_words = len(words)     # get the length of the list\n",
    "\n",
    "print(\"The 10% of original length gives\", int(0.1 * len(article_list[5].split())), \"words, while the summary has\", num_words, \"words.\")"
   ]
  },
  {
   "cell_type": "markdown",
   "id": "28fd7230",
   "metadata": {},
   "source": [
    "#### Article 07"
   ]
  },
  {
   "cell_type": "code",
   "execution_count": 236,
   "id": "aecf64ad",
   "metadata": {},
   "outputs": [
    {
     "name": "stdout",
     "output_type": "stream",
     "text": [
      "(55, 306)\n",
      "In its simplest form, the assumption of unit-treatment additivity states that the observed response  from experimental unit  when receiving treatment  can be written as the sum of the unit's response  and the treatment-effect , that is. If the response variable is expected to follow a parametric family of probability distributions, then the statistician may specify (in the protocol for the experiment or observational study) that the responses be transformed to stabilize the variance.\n",
      "Wall time: 9 ms\n"
     ]
    }
   ],
   "source": [
    "%%time\n",
    "\n",
    "tfidf_summ7 = tfidf_summarizer(main_list[6], 2)\n",
    "print(tfidf_summ7)"
   ]
  },
  {
   "cell_type": "code",
   "execution_count": 54,
   "id": "8ac9d45e",
   "metadata": {},
   "outputs": [
    {
     "name": "stdout",
     "output_type": "stream",
     "text": [
      "The 10% of original length gives 87 words, while the summary has 73 words.\n"
     ]
    }
   ],
   "source": [
    "words = tfidf_sum.split()  # split the string into a list of words\n",
    "num_words = len(words)     # get the length of the list\n",
    "\n",
    "print(\"The 10% of original length gives\", int(0.1 * len(article_list[6].split())), \"words, while the summary has\", num_words, \"words.\")"
   ]
  },
  {
   "cell_type": "markdown",
   "id": "f3142dde",
   "metadata": {},
   "source": [
    "#### Article 08"
   ]
  },
  {
   "cell_type": "code",
   "execution_count": 237,
   "id": "7cf463ee",
   "metadata": {},
   "outputs": [
    {
     "name": "stdout",
     "output_type": "stream",
     "text": [
      "(23, 277)\n",
      "Several of the sights on her trip inspired her, and they found their way into her poem, including the World's Columbian Exposition in Chicago, the \"White City\" with its promise of the future contained within its alabaster buildings; the wheat fields of America's heartland Kansas, through which her train was riding on July 16; and the majestic view of the Great Plains from high atop Pikes Peak.\n",
      "Wall time: 8 ms\n"
     ]
    }
   ],
   "source": [
    "%%time\n",
    "\n",
    "tfidf_summ8 = tfidf_summarizer(main_list[7], 1)\n",
    "print(tfidf_summ8)"
   ]
  },
  {
   "cell_type": "code",
   "execution_count": 56,
   "id": "8ddc70e5",
   "metadata": {},
   "outputs": [
    {
     "name": "stdout",
     "output_type": "stream",
     "text": [
      "The 10% of original length gives 54 words, while the summary has 67 words.\n"
     ]
    }
   ],
   "source": [
    "words = tfidf_sum.split()  # split the string into a list of words\n",
    "num_words = len(words)     # get the length of the list\n",
    "\n",
    "print(\"The 10% of original length gives\", int(0.1 * len(article_list[7].split())), \"words, while the summary has\", num_words, \"words.\")"
   ]
  },
  {
   "cell_type": "markdown",
   "id": "233475f7",
   "metadata": {},
   "source": [
    "#### Article 09"
   ]
  },
  {
   "cell_type": "code",
   "execution_count": 238,
   "id": "64654ed6",
   "metadata": {},
   "outputs": [
    {
     "name": "stdout",
     "output_type": "stream",
     "text": [
      "(34, 300)\n",
      "In glycine, the simplest amino acid, the R group is a hydrogen atom, but in all other amino acids it is contains one or more carbon atoms bonded to hydrogens, and may contain other elements such as sulfur, oxygen or nitrogen. Aspartic acid, for example, possesses one protonated amine and two deprotonated carboxyl groups, for a net charge of −1 at physiological pH. Fatty acids and fatty acid derivatives are another group of carboxylic acids that play a significant role in biology.\n",
      "Wall time: 9.01 ms\n"
     ]
    }
   ],
   "source": [
    "%%time\n",
    "\n",
    "tfidf_summ9 = tfidf_summarizer(main_list[8], 2)\n",
    "print(tfidf_summ9)"
   ]
  },
  {
   "cell_type": "code",
   "execution_count": 58,
   "id": "56972144",
   "metadata": {},
   "outputs": [
    {
     "name": "stdout",
     "output_type": "stream",
     "text": [
      "The 10% of original length gives 70 words, while the summary has 82 words.\n"
     ]
    }
   ],
   "source": [
    "words = tfidf_sum.split()  # split the string into a list of words\n",
    "num_words = len(words)     # get the length of the list\n",
    "\n",
    "print(\"The 10% of original length gives\", int(0.1 * len(article_list[8].split())), \"words, while the summary has\", num_words, \"words.\")"
   ]
  },
  {
   "cell_type": "markdown",
   "id": "810b30ce",
   "metadata": {},
   "source": [
    "#### Article 10"
   ]
  },
  {
   "cell_type": "code",
   "execution_count": 239,
   "id": "90163105",
   "metadata": {},
   "outputs": [
    {
     "name": "stdout",
     "output_type": "stream",
     "text": [
      "(21, 289)\n",
      "The stamp featured a detail of the famous photograph of the Earthrise over the Moon taken by Anders on Christmas Eve, and the words, \"In the beginning God ...\" Just 18 days after the crew's return to Earth, they were featured during the 1969 Super Bowl pre-game show reciting the Pledge of Allegiance prior to the national anthem being performed by Anita Bryant.\n",
      "Wall time: 5 ms\n"
     ]
    }
   ],
   "source": [
    "%%time\n",
    "\n",
    "tfidf_summ10 = tfidf_summarizer(main_list[9], 1)\n",
    "print(tfidf_summ10)"
   ]
  },
  {
   "cell_type": "code",
   "execution_count": 60,
   "id": "3866c1c5",
   "metadata": {},
   "outputs": [
    {
     "name": "stdout",
     "output_type": "stream",
     "text": [
      "The 10% of original length gives 56 words, while the summary has 63 words.\n"
     ]
    }
   ],
   "source": [
    "words = tfidf_sum.split()  # split the string into a list of words\n",
    "num_words = len(words)     # get the length of the list\n",
    "\n",
    "print(\"The 10% of original length gives\", int(0.1 * len(article_list[9].split())), \"words, while the summary has\", num_words, \"words.\")"
   ]
  },
  {
   "cell_type": "markdown",
   "id": "9638edcc",
   "metadata": {},
   "source": [
    "#### Article 11"
   ]
  },
  {
   "cell_type": "code",
   "execution_count": 240,
   "id": "1266a4b6",
   "metadata": {},
   "outputs": [
    {
     "name": "stdout",
     "output_type": "stream",
     "text": [
      "(37, 315)\n",
      "The pronunciation of a language often evolves independently of its writing system, and writing systems have been borrowed for languages they were not designed for, so the degree to which letters of an alphabet correspond to phonemes of a language varies greatly from one language to another and even within a single language. French, with its silent letters and its heavy use of nasal vowels and elision, may seem to lack much correspondence between spelling and pronunciation, but its rules on pronunciation, though complex, are actually consistent and predictable with a fair degree of accuracy.\n",
      "Wall time: 9.01 ms\n"
     ]
    }
   ],
   "source": [
    "%%time\n",
    "\n",
    "tfidf_summ11 = tfidf_summarizer(main_list[10], 2)\n",
    "print(tfidf_summ11)"
   ]
  },
  {
   "cell_type": "code",
   "execution_count": 62,
   "id": "4b7bfc67",
   "metadata": {},
   "outputs": [
    {
     "name": "stdout",
     "output_type": "stream",
     "text": [
      "The 10% of original length gives 85 words, while the summary has 95 words.\n"
     ]
    }
   ],
   "source": [
    "words = tfidf_sum.split()  # split the string into a list of words\n",
    "num_words = len(words)     # get the length of the list\n",
    "\n",
    "print(\"The 10% of original length gives\", int(0.1 * len(article_list[10].split())), \"words, while the summary has\", num_words, \"words.\")"
   ]
  },
  {
   "cell_type": "markdown",
   "id": "d449998d",
   "metadata": {},
   "source": [
    "#### Article 12"
   ]
  },
  {
   "cell_type": "code",
   "execution_count": 242,
   "id": "21b10a7c",
   "metadata": {},
   "outputs": [
    {
     "name": "stdout",
     "output_type": "stream",
     "text": [
      "(29, 303)\n",
      "The major geographical theorist of the empire was actually a former Swedish prisoner-of-war, taken at the Battle of Poltava in 1709 and assigned to Tobolsk, where he associated with Peter's Siberian official, Vasily Tatishchev, and was allowed freedom to conduct geographical and anthropological studies in preparation for a future book.\n",
      "Wall time: 7 ms\n"
     ]
    }
   ],
   "source": [
    "%%time\n",
    "\n",
    "tfidf_summ12 = tfidf_summarizer(main_list[11], 1)\n",
    "print(tfidf_summ12)"
   ]
  },
  {
   "cell_type": "code",
   "execution_count": 65,
   "id": "cb8f1a28",
   "metadata": {},
   "outputs": [
    {
     "name": "stdout",
     "output_type": "stream",
     "text": [
      "The 10% of original length gives 62 words, while the summary has 50 words.\n"
     ]
    }
   ],
   "source": [
    "words = tfidf_sum.split()  # split the string into a list of words\n",
    "num_words = len(words)     # get the length of the list\n",
    "\n",
    "print(\"The 10% of original length gives\", int(0.1 * len(article_list[11].split())), \"words, while the summary has\", num_words, \"words.\")"
   ]
  },
  {
   "cell_type": "markdown",
   "id": "535fd205",
   "metadata": {},
   "source": [
    "#### Article 13"
   ]
  },
  {
   "cell_type": "code",
   "execution_count": 243,
   "id": "7b96bab7",
   "metadata": {},
   "outputs": [
    {
     "name": "stdout",
     "output_type": "stream",
     "text": [
      "(29, 310)\n",
      "While nine of these have collectively been nominated a World Heritage Site for their geological value, four of them are considered of \"Outstanding Universal Value\" based on their cultural and natural criteria: Þingvellir, Iceland; Landscape of the Pico Island Vineyard Culture, Portugal; Gough and Inaccessible Islands, United Kingdom; and Brazilian Atlantic Islands: Fernando de Noronha and Atol das Rocas Reserves, Brazil.\n",
      "Wall time: 8 ms\n"
     ]
    }
   ],
   "source": [
    "%%time\n",
    "\n",
    "tfidf_summ13 = tfidf_summarizer(main_list[12], 1)\n",
    "print(tfidf_summ13)"
   ]
  },
  {
   "cell_type": "code",
   "execution_count": 67,
   "id": "7d9346c3",
   "metadata": {},
   "outputs": [
    {
     "name": "stdout",
     "output_type": "stream",
     "text": [
      "The 10% of original length gives 66 words, while the summary has 61 words.\n"
     ]
    }
   ],
   "source": [
    "words = tfidf_sum.split()  # split the string into a list of words\n",
    "num_words = len(words)     # get the length of the list\n",
    "\n",
    "print(\"The 10% of original length gives\", int(0.1 * len(article_list[12].split())), \"words, while the summary has\", num_words, \"words.\")"
   ]
  },
  {
   "cell_type": "markdown",
   "id": "f9614149",
   "metadata": {},
   "source": [
    "#### Article 14"
   ]
  },
  {
   "cell_type": "code",
   "execution_count": 244,
   "id": "0ac7d80f",
   "metadata": {},
   "outputs": [
    {
     "name": "stdout",
     "output_type": "stream",
     "text": [
      "(26, 259)\n",
      "Angola changed from a one-party Marxist-Leninist system ruled by the Popular Movement for the Liberation of Angola (MPLA), in place since independence in 1975, to a multiparty democracy based on a new constitution adopted in 1992.   To a certain degree the new democratic institutions worked, notably the National Assembly, with the active participation of UNITA's and the FNLA's elected MPs  - while José Eduardo dos Santos continued to exercise his functions without democratic legitimation.\n",
      "Wall time: 5.99 ms\n"
     ]
    }
   ],
   "source": [
    "%%time\n",
    "\n",
    "tfidf_summ14 = tfidf_summarizer(main_list[13], 2)\n",
    "print(tfidf_summ14)"
   ]
  },
  {
   "cell_type": "code",
   "execution_count": 245,
   "id": "e5cc4456",
   "metadata": {},
   "outputs": [
    {
     "name": "stdout",
     "output_type": "stream",
     "text": [
      "The 10% of original length gives 51 words, while the summary has 74 words.\n"
     ]
    }
   ],
   "source": [
    "words = tfidf_sum.split()  # split the string into a list of words\n",
    "num_words = len(words)     # get the length of the list\n",
    "\n",
    "print(\"The 10% of original length gives\", int(0.1 * len(article_list[13].split())), \"words, while the summary has\", num_words, \"words.\")"
   ]
  },
  {
   "cell_type": "markdown",
   "id": "8046a797",
   "metadata": {},
   "source": [
    "#### Article 15"
   ]
  },
  {
   "cell_type": "code",
   "execution_count": 246,
   "id": "defb1fbe",
   "metadata": {},
   "outputs": [
    {
     "name": "stdout",
     "output_type": "stream",
     "text": [
      "(25, 290)\n",
      "Between 1895 and 1914 he lived in Switzerland (except for one year in Prague, 1911–12), where he received his academic diploma from the Swiss Federal Polytechnic in Zürich (later the Eidgenössische Technische Hochschule, ETH) in 1900. He was visiting the United States when Adolf Hitler came to power in 1933 and—being Jewish—did not go back to Germany, where he had been a professor at the Berlin Academy of Sciences.\n",
      "Wall time: 7 ms\n"
     ]
    }
   ],
   "source": [
    "%%time\n",
    "\n",
    "tfidf_summ15 = tfidf_summarizer(main_list[14], 2)\n",
    "print(tfidf_summ15)"
   ]
  },
  {
   "cell_type": "code",
   "execution_count": 71,
   "id": "d91bfe1b",
   "metadata": {},
   "outputs": [
    {
     "name": "stdout",
     "output_type": "stream",
     "text": [
      "The 10% of original length gives 54 words, while the summary has 69 words.\n"
     ]
    }
   ],
   "source": [
    "words = tfidf_sum.split()  # split the string into a list of words\n",
    "num_words = len(words)     # get the length of the list\n",
    "\n",
    "print(\"The 10% of original length gives\", int(0.1 * len(article_list[14].split())), \"words, while the summary has\", num_words, \"words.\")"
   ]
  },
  {
   "cell_type": "markdown",
   "id": "132b69df",
   "metadata": {},
   "source": [
    "--------------------------------------------xxxxxxxxxxxxxxxxxxxxxxxxxxxxxxxx--------------------------------------------"
   ]
  },
  {
   "cell_type": "markdown",
   "id": "8244f9b6",
   "metadata": {},
   "source": [
    "### 02) LSA-based summarization"
   ]
  },
  {
   "cell_type": "code",
   "execution_count": 72,
   "id": "cb992bcf",
   "metadata": {},
   "outputs": [],
   "source": [
    "# Using Sumy library\n",
    "\n",
    "from sumy.summarizers.lsa import LsaSummarizer\n",
    "from sumy.parsers.plaintext import PlaintextParser\n",
    "from sumy.nlp.tokenizers import Tokenizer"
   ]
  },
  {
   "cell_type": "code",
   "execution_count": 351,
   "id": "7c023e5b",
   "metadata": {},
   "outputs": [],
   "source": [
    "def lsa_summarizer(article_num, summary_sentences):\n",
    "    global lsa_sum\n",
    "    LANGUAGE = \"english\"\n",
    "    parser = PlaintextParser.from_string(article_num, Tokenizer(LANGUAGE))\n",
    "    lsa_summarizer = LsaSummarizer()\n",
    "        \n",
    "    lsa_sum_list = []\n",
    "    for sentence in lsa_summarizer(parser.document, summary_sentences):\n",
    "        lsa_sum_list.append(str(sentence))\n",
    "\n",
    "    lsa_sum = ''.join(lsa_sum_list)\n",
    "    return lsa_sum"
   ]
  },
  {
   "cell_type": "markdown",
   "id": "183110e5",
   "metadata": {},
   "source": [
    "#### Article 01"
   ]
  },
  {
   "cell_type": "code",
   "execution_count": 249,
   "id": "063fa6a1",
   "metadata": {},
   "outputs": [
    {
     "name": "stdout",
     "output_type": "stream",
     "text": [
      "[\"\\n\\nIt has long been presumed that there is a common cause at the genetic, cognitive, and neural levels for autism's characteristic triad of symptoms.', 'The large number of autistic individuals with unaffected family members may result from spontaneous structural variation\\xa0— such as deletions, duplications or inversions in genetic material during meiosis.\n",
      "None\n",
      "Wall time: 448 ms\n"
     ]
    }
   ],
   "source": [
    "%%time\n",
    "\n",
    "lsa_summ1 = lsa_summarizer(main_list[0], 2)\n",
    "print(lsa_summ1)"
   ]
  },
  {
   "cell_type": "code",
   "execution_count": 75,
   "id": "72cf99b9",
   "metadata": {},
   "outputs": [
    {
     "name": "stdout",
     "output_type": "stream",
     "text": [
      "The 10% of original length gives 60 words, while the summary has 51 words.\n"
     ]
    }
   ],
   "source": [
    "words = lsa_sum.split()  # split the string into a list of words\n",
    "num_words = len(words)     # get the length of the list\n",
    "\n",
    "print(\"The 10% of original length gives\", int(0.1 * len(article_list[0].split())), \"words, while the summary has\", num_words, \"words.\")"
   ]
  },
  {
   "cell_type": "markdown",
   "id": "0779f2f9",
   "metadata": {},
   "source": [
    "#### Article 02"
   ]
  },
  {
   "cell_type": "code",
   "execution_count": 250,
   "id": "c72cc221",
   "metadata": {},
   "outputs": [
    {
     "name": "stdout",
     "output_type": "stream",
     "text": [
      "', 'In 2007, over 82\\xa0percent of schools made adequate yearly progress (AYP) toward student proficiency under the National No Child Left Behind law, using measures determined by the state of Alabama.\", 'The largest educational gains were among people with some college education but without degrees.', 'The rate of school corporal punishment in Alabama is surpassed only by Mississippi and Arkansas.', 'The largest single campus is the University of Alabama, located in Tuscaloosa, with 37,665 enrolled for fall 2016.\n",
      "None\n",
      "Wall time: 122 ms\n"
     ]
    }
   ],
   "source": [
    "%%time\n",
    "\n",
    "lsa_summ2 = lsa_summarizer(main_list[1], 4)\n",
    "print(lsa_summ2)"
   ]
  },
  {
   "cell_type": "code",
   "execution_count": 77,
   "id": "0815940d",
   "metadata": {},
   "outputs": [
    {
     "name": "stdout",
     "output_type": "stream",
     "text": [
      "The 10% of original length gives 62 words, while the summary has 78 words.\n"
     ]
    }
   ],
   "source": [
    "words = lsa_sum.split()  # split the string into a list of words\n",
    "num_words = len(words)     # get the length of the list\n",
    "\n",
    "print(\"The 10% of original length gives\", int(0.1 * len(article_list[1].split())), \"words, while the summary has\", num_words, \"words.\")"
   ]
  },
  {
   "cell_type": "markdown",
   "id": "febc08fc",
   "metadata": {},
   "source": [
    "#### Article 03"
   ]
  },
  {
   "cell_type": "code",
   "execution_count": 251,
   "id": "514d483c",
   "metadata": {},
   "outputs": [
    {
     "name": "stdout",
     "output_type": "stream",
     "text": [
      "', 'There is no hard-and-fast distinction between them, and these categories overlap to a considerable degree.', 'As methodology, ethnography is based upon long-term fieldwork within a community or other research site.', 'Comparison across cultures is a key element of method in sociocultural anthropology, including the industrialized (and de-industrialized) West.', 'Cultures in the Standard Cross-Cultural Sample (SCCS) of world societies are.. \\n\\n\\n Africa 30p.', 'Archaeologists examine these material remains in order to deduce patterns of past human behavior and cultural practices.\n",
      "None\n",
      "Wall time: 383 ms\n"
     ]
    }
   ],
   "source": [
    "%%time\n",
    "\n",
    "lsa_summ3 = lsa_summarizer(main_list[2], 5)\n",
    "print(lsa_summ3)"
   ]
  },
  {
   "cell_type": "code",
   "execution_count": 81,
   "id": "a26c492c",
   "metadata": {},
   "outputs": [
    {
     "name": "stdout",
     "output_type": "stream",
     "text": [
      "The 10% of original length gives 85 words, while the summary has 80 words.\n"
     ]
    }
   ],
   "source": [
    "words = lsa_sum.split()  # split the string into a list of words\n",
    "num_words = len(words)     # get the length of the list\n",
    "\n",
    "print(\"The 10% of original length gives\", int(0.1 * len(article_list[2].split())), \"words, while the summary has\", num_words, \"words.\")"
   ]
  },
  {
   "cell_type": "markdown",
   "id": "42c95a91",
   "metadata": {},
   "source": [
    "#### Article 04"
   ]
  },
  {
   "cell_type": "code",
   "execution_count": 252,
   "id": "ba04c90e",
   "metadata": {},
   "outputs": [
    {
     "name": "stdout",
     "output_type": "stream",
     "text": [
      "', 'On September 5, 2007, he was a surprise guest commentator for the Andy Roddick/Roger Federer US Open quarterfinal.', \"At the Camden Wealth Advisors Cup's final in Houston, Agassi beat James Blake for a rematch of their 2005 US Open quarterfinal.', 'This time it was Agassi who came out on top in two straight sets.\n",
      "None\n",
      "Wall time: 22 ms\n"
     ]
    }
   ],
   "source": [
    "%%time\n",
    "\n",
    "lsa_summ4 = lsa_summarizer(main_list[3], 3)\n",
    "print(lsa_summ4)"
   ]
  },
  {
   "cell_type": "code",
   "execution_count": 83,
   "id": "273a253b",
   "metadata": {},
   "outputs": [
    {
     "name": "stdout",
     "output_type": "stream",
     "text": [
      "The 10% of original length gives 57 words, while the summary has 55 words.\n"
     ]
    }
   ],
   "source": [
    "words = lsa_sum.split()  # split the string into a list of words\n",
    "num_words = len(words)     # get the length of the list\n",
    "\n",
    "print(\"The 10% of original length gives\", int(0.1 * len(article_list[3].split())), \"words, while the summary has\", num_words, \"words.\")"
   ]
  },
  {
   "cell_type": "markdown",
   "id": "0a36b481",
   "metadata": {},
   "source": [
    "#### Article 05"
   ]
  },
  {
   "cell_type": "code",
   "execution_count": 253,
   "id": "bddd6f44",
   "metadata": {},
   "outputs": [
    {
     "name": "stdout",
     "output_type": "stream",
     "text": [
      "', 'The pigs elevate themselves to positions of leadership and set aside special food items, ostensibly for their personal health.', '(In 1940s England, one way for farms to make money was to sell large animals to a knacker, who would kill the animal and boil its remains into animal glue...', 'Years pass, and the windmill is rebuilt along with construction of another windmill, which makes the farm a good amount of income.', 'The pigs start to resemble humans, as they walk upright, carry whips, and wear clothes.\n",
      "None\n",
      "Wall time: 39 ms\n"
     ]
    }
   ],
   "source": [
    "%%time\n",
    "\n",
    "lsa_summ5 = lsa_summarizer(main_list[4], 3)\n",
    "print(lsa_summ5)"
   ]
  },
  {
   "cell_type": "code",
   "execution_count": 85,
   "id": "7ed31173",
   "metadata": {},
   "outputs": [
    {
     "name": "stdout",
     "output_type": "stream",
     "text": [
      "The 10% of original length gives 82 words, while the summary has 87 words.\n"
     ]
    }
   ],
   "source": [
    "words = lsa_sum.split()  # split the string into a list of words\n",
    "num_words = len(words)     # get the length of the list\n",
    "\n",
    "print(\"The 10% of original length gives\", int(0.1 * len(article_list[4].split())), \"words, while the summary has\", num_words, \"words.\")"
   ]
  },
  {
   "cell_type": "markdown",
   "id": "2cb2163f",
   "metadata": {},
   "source": [
    "#### Article 06"
   ]
  },
  {
   "cell_type": "code",
   "execution_count": 254,
   "id": "5be6adcc",
   "metadata": {},
   "outputs": [
    {
     "name": "stdout",
     "output_type": "stream",
     "text": [
      "', 'The first line of defence in salamanders and frogs is the mucous secretion that they produce.\", 'Many amphibians are nocturnal and hide during the day, thereby avoiding diurnal predators that hunt by sight.', 'They have various colourings such as mottled browns, greys and olives to blend into the background.', \"Some salamanders adopt defensive poses when faced by a potential predator such as the North American northern short-tailed shrew (''Blarina brevicauda'').\n",
      "None\n",
      "Wall time: 45 ms\n"
     ]
    }
   ],
   "source": [
    "%%time\n",
    "\n",
    "lsa_summ6 = lsa_summarizer(main_list[5], 4)\n",
    "print(lsa_summ6)"
   ]
  },
  {
   "cell_type": "code",
   "execution_count": 87,
   "id": "feab83e3",
   "metadata": {},
   "outputs": [
    {
     "name": "stdout",
     "output_type": "stream",
     "text": [
      "The 10% of original length gives 68 words, while the summary has 71 words.\n"
     ]
    }
   ],
   "source": [
    "words = lsa_sum.split()  # split the string into a list of words\n",
    "num_words = len(words)     # get the length of the list\n",
    "\n",
    "print(\"The 10% of original length gives\", int(0.1 * len(article_list[5].split())), \"words, while the summary has\", num_words, \"words.\")"
   ]
  },
  {
   "cell_type": "markdown",
   "id": "8b809c51",
   "metadata": {},
   "source": [
    "#### Article 07"
   ]
  },
  {
   "cell_type": "code",
   "execution_count": 255,
   "id": "39a02dac",
   "metadata": {},
   "outputs": [
    {
     "name": "stdout",
     "output_type": "stream",
     "text": [
      "', 'The assumption of unit treatment additivity  usually cannot be directly falsified, according to Cox and Kempthorne.\", 'The randomization-based analysis has the disadvantage that its exposition involves tedious algebra and extensive time.', 'However, when applied to data from non-randomized experiments or observational studies, model-based analysis lacks the warrant of randomization.', \"For observational data, the derivation of confidence intervals must use ''subjective'' models, as emphasized by Ronald Fisher and his followers.', 'In practice, \"statistical models\" and observational data are useful for suggesting hypotheses that should be treated very cautiously by the public.\n",
      "None\n",
      "Wall time: 57 ms\n"
     ]
    }
   ],
   "source": [
    "%%time\n",
    "\n",
    "lsa_summ7 = lsa_summarizer(main_list[6], 5)\n",
    "print(lsa_summ7)"
   ]
  },
  {
   "cell_type": "code",
   "execution_count": 89,
   "id": "0290e48f",
   "metadata": {},
   "outputs": [
    {
     "name": "stdout",
     "output_type": "stream",
     "text": [
      "The 10% of original length gives 87 words, while the summary has 91 words.\n"
     ]
    }
   ],
   "source": [
    "words = lsa_sum.split()  # split the string into a list of words\n",
    "num_words = len(words)     # get the length of the list\n",
    "\n",
    "print(\"The 10% of original length gives\", int(0.1 * len(article_list[6].split())), \"words, while the summary has\", num_words, \"words.\")"
   ]
  },
  {
   "cell_type": "markdown",
   "id": "52a95a77",
   "metadata": {},
   "source": [
    "#### Article 08"
   ]
  },
  {
   "cell_type": "code",
   "execution_count": 256,
   "id": "85ac97c3",
   "metadata": {},
   "outputs": [
    {
     "name": "stdout",
     "output_type": "stream",
     "text": [
      "', 'The tune came to him while he was on a ferryboat trip from Coney Island back to his home in New York City, after a leisurely summer day in 1882, and he immediately wrote it down.', 'Ward\\'s music combined with Bates\\'s poem were first published together in 1910 and titled \"America the Beautiful\".\n",
      "None\n",
      "Wall time: 21 ms\n"
     ]
    }
   ],
   "source": [
    "%%time\n",
    "\n",
    "lsa_summ8 = lsa_summarizer(main_list[7], 2)\n",
    "print(lsa_summ8)"
   ]
  },
  {
   "cell_type": "code",
   "execution_count": 91,
   "id": "f003f2a1",
   "metadata": {},
   "outputs": [
    {
     "name": "stdout",
     "output_type": "stream",
     "text": [
      "The 10% of original length gives 54 words, while the summary has 54 words.\n"
     ]
    }
   ],
   "source": [
    "words = lsa_sum.split()  # split the string into a list of words\n",
    "num_words = len(words)     # get the length of the list\n",
    "\n",
    "print(\"The 10% of original length gives\", int(0.1 * len(article_list[7].split())), \"words, while the summary has\", num_words, \"words.\")"
   ]
  },
  {
   "cell_type": "markdown",
   "id": "fcf0c52a",
   "metadata": {},
   "source": [
    "#### Article 09"
   ]
  },
  {
   "cell_type": "code",
   "execution_count": 257,
   "id": "244635b0",
   "metadata": {},
   "outputs": [
    {
     "name": "stdout",
     "output_type": "stream",
     "text": [
      "', \"Nucleic acids contain the genetic code that determines many of an organism's characteristics, and is passed from parents to offspring.', 'In glycine, the simplest amino acid, the R group is a hydrogen atom, but in all other amino acids it is contains one or more carbon atoms bonded to hydrogens, and may contain other elements such as sulfur, oxygen or nitrogen.', 'Cell membranes are generally impermeable to charged or large, polar molecules because of the lipophilic fatty acyl chains comprising their interior.\n",
      "None\n",
      "Wall time: 33 ms\n"
     ]
    }
   ],
   "source": [
    "%%time\n",
    "\n",
    "lsa_summ9 = lsa_summarizer(main_list[8], 3)\n",
    "print(lsa_summ9)"
   ]
  },
  {
   "cell_type": "code",
   "execution_count": 93,
   "id": "459bc4e9",
   "metadata": {},
   "outputs": [
    {
     "name": "stdout",
     "output_type": "stream",
     "text": [
      "The 10% of original length gives 70 words, while the summary has 83 words.\n"
     ]
    }
   ],
   "source": [
    "words = lsa_sum.split()  # split the string into a list of words\n",
    "num_words = len(words)     # get the length of the list\n",
    "\n",
    "print(\"The 10% of original length gives\", int(0.1 * len(article_list[8].split())), \"words, while the summary has\", num_words, \"words.\")"
   ]
  },
  {
   "cell_type": "markdown",
   "id": "c3ac418c",
   "metadata": {},
   "source": [
    "#### Article 10"
   ]
  },
  {
   "cell_type": "code",
   "execution_count": 258,
   "id": "7537ccf9",
   "metadata": {},
   "outputs": [
    {
     "name": "stdout",
     "output_type": "stream",
     "text": [
      "\", 'Apollo 11 astronaut Michael Collins said, \"Eight\\'s momentous historic significance was foremost\"; while many space historians, such as Robert K. Poole, see Apollo 8 as the most historically significant of all the Apollo missions.', \"Apollo 8 commemorative stampMadalyn Murray O'Hair, an atheist, later caused controversy by bringing a lawsuit against NASA over the reading from Genesis.\", \"O'Hair wished the courts to ban American astronauts—who were all government employees—from public prayer in space.\n",
      "None\n",
      "Wall time: 22 ms\n"
     ]
    }
   ],
   "source": [
    "%%time\n",
    "\n",
    "lsa_summ10 = lsa_summarizer(main_list[9], 3)\n",
    "print(lsa_summ10)"
   ]
  },
  {
   "cell_type": "code",
   "execution_count": 95,
   "id": "8014912e",
   "metadata": {},
   "outputs": [
    {
     "name": "stdout",
     "output_type": "stream",
     "text": [
      "The 10% of original length gives 56 words, while the summary has 73 words.\n"
     ]
    }
   ],
   "source": [
    "words = lsa_sum.split()  # split the string into a list of words\n",
    "num_words = len(words)     # get the length of the list\n",
    "\n",
    "print(\"The 10% of original length gives\", int(0.1 * len(article_list[9].split())), \"words, while the summary has\", num_words, \"words.\")"
   ]
  },
  {
   "cell_type": "markdown",
   "id": "670740a0",
   "metadata": {},
   "source": [
    "#### Article 11"
   ]
  },
  {
   "cell_type": "code",
   "execution_count": 259,
   "id": "3708b1d4",
   "metadata": {},
   "outputs": [
    {
     "name": "stdout",
     "output_type": "stream",
     "text": [
      "', 'Languages may fail to achieve a one-to-one correspondence between letters and sounds in any of several ways.', '*', 'A language may spell some words with unpronounced letters that exist for historical or other reasons.\", 'In standard Spanish, one can tell the pronunciation of a word from its spelling, but not vice versa, as certain phonemes can be represented in more than one way, but a given letter is consistently pronounced.', 'For English, this is partly because the Great Vowel Shift occurred after the orthography was established, and because English has acquired a large number of loanwords at different times, retaining their original spelling at varying levels.\n",
      "None\n",
      "Wall time: 30 ms\n"
     ]
    }
   ],
   "source": [
    "%%time\n",
    "\n",
    "lsa_summ11 = lsa_summarizer(main_list[10], 4)\n",
    "print(lsa_summ11)"
   ]
  },
  {
   "cell_type": "code",
   "execution_count": 105,
   "id": "3e52e052",
   "metadata": {},
   "outputs": [
    {
     "name": "stdout",
     "output_type": "stream",
     "text": [
      "The 10% of original length gives 85 words, while the summary has 107 words.\n"
     ]
    }
   ],
   "source": [
    "words = lsa_sum.split()  # split the string into a list of words\n",
    "num_words = len(words)     # get the length of the list\n",
    "\n",
    "print(\"The 10% of original length gives\", int(0.1 * len(article_list[10].split())), \"words, while the summary has\", num_words, \"words.\")"
   ]
  },
  {
   "cell_type": "markdown",
   "id": "a72faf75",
   "metadata": {},
   "source": [
    "#### Article 12"
   ]
  },
  {
   "cell_type": "code",
   "execution_count": 260,
   "id": "97a91496",
   "metadata": {},
   "outputs": [
    {
     "name": "stdout",
     "output_type": "stream",
     "text": [
      "\", 'The Russians were enthusiastic about the concept, which allowed them to keep their European identity in geography.', 'The terms Southeast Asia and Oceania, devised in the 19th century, have had several vastly different geographic meanings since their inception.\n",
      "None\n",
      "Wall time: 38 ms\n"
     ]
    }
   ],
   "source": [
    "%%time\n",
    "\n",
    "lsa_summ12 = lsa_summarizer(main_list[11], 2)\n",
    "print(lsa_summ12)"
   ]
  },
  {
   "cell_type": "code",
   "execution_count": 107,
   "id": "a05f18b2",
   "metadata": {},
   "outputs": [
    {
     "name": "stdout",
     "output_type": "stream",
     "text": [
      "The 10% of original length gives 62 words, while the summary has 39 words.\n"
     ]
    }
   ],
   "source": [
    "words = lsa_sum.split()  # split the string into a list of words\n",
    "num_words = len(words)     # get the length of the list\n",
    "\n",
    "print(\"The 10% of original length gives\", int(0.1 * len(article_list[11].split())), \"words, while the summary has\", num_words, \"words.\")"
   ]
  },
  {
   "cell_type": "markdown",
   "id": "c208559d",
   "metadata": {},
   "source": [
    "#### Article 13"
   ]
  },
  {
   "cell_type": "code",
   "execution_count": 261,
   "id": "ef39be67",
   "metadata": {},
   "outputs": [
    {
     "name": "stdout",
     "output_type": "stream",
     "text": [
      "', 'The MAR produces basaltic volcanoes in Eyjafjallajökull, Iceland, and pillow lava on the ocean floor.Continental shelves in the Atlantic are wide off Newfoundland, southern-most South America, and north-eastern Europe.', 'The deep ocean floor is thought to be fairly flat with occasional deeps, abyssal plains, trenches, seamounts, basins, plateaus, canyons, and some guyots.\n",
      "None\n",
      "Wall time: 32 ms\n"
     ]
    }
   ],
   "source": [
    "%%time\n",
    "\n",
    "lsa_summ13 = lsa_summarizer(main_list[12], 3)\n",
    "print(lsa_summ13)"
   ]
  },
  {
   "cell_type": "code",
   "execution_count": 109,
   "id": "7cec143e",
   "metadata": {},
   "outputs": [
    {
     "name": "stdout",
     "output_type": "stream",
     "text": [
      "The 10% of original length gives 66 words, while the summary has 53 words.\n"
     ]
    }
   ],
   "source": [
    "words = lsa_sum.split()  # split the string into a list of words\n",
    "num_words = len(words)     # get the length of the list\n",
    "\n",
    "print(\"The 10% of original length gives\", int(0.1 * len(article_list[12].split())), \"words, while the summary has\", num_words, \"words.\")"
   ]
  },
  {
   "cell_type": "markdown",
   "id": "2e13c400",
   "metadata": {},
   "source": [
    "#### Article 14"
   ]
  },
  {
   "cell_type": "code",
   "execution_count": 262,
   "id": "5703cd0b",
   "metadata": {},
   "outputs": [
    {
     "name": "stdout",
     "output_type": "stream",
     "text": [
      "', 'That same year the first parliamentary and presidential elections were held.\", 'A runoff election would have been necessary, but never took place.', 'Daily conditions of life throughout the country and specifically Luanda (population approximately 6 million) mirror the collapse of administrative infrastructure as well as many social institutions.', 'The ongoing grave economic situation largely prevents any government support for social institutions.\n",
      "None\n",
      "Wall time: 24 ms\n"
     ]
    }
   ],
   "source": [
    "%%time\n",
    "\n",
    "lsa_summ14 = lsa_summarizer(main_list[13], 4)\n",
    "print(lsa_summ14)"
   ]
  },
  {
   "cell_type": "code",
   "execution_count": 111,
   "id": "dd19766b",
   "metadata": {},
   "outputs": [
    {
     "name": "stdout",
     "output_type": "stream",
     "text": [
      "The 10% of original length gives 51 words, while the summary has 62 words.\n"
     ]
    }
   ],
   "source": [
    "words = lsa_sum.split()  # split the string into a list of words\n",
    "num_words = len(words)     # get the length of the list\n",
    "\n",
    "print(\"The 10% of original length gives\", int(0.1 * len(article_list[13].split())), \"words, while the summary has\", num_words, \"words.\")"
   ]
  },
  {
   "cell_type": "markdown",
   "id": "5f3261f9",
   "metadata": {},
   "source": [
    "#### Article 15"
   ]
  },
  {
   "cell_type": "code",
   "execution_count": 263,
   "id": "252134a0",
   "metadata": {},
   "outputs": [
    {
     "name": "stdout",
     "output_type": "stream",
     "text": [
      "', \"Einstein's work is also known for its influence on the philosophy of science.', 'He later taught there at the same institute as a professor of theoretical physics between 1912 and 1914 before he left for Berlin.', 'Einstein\\'s intellectual achievements and originality have made the word \"Einstein\" synonymous with \"genius\".']\n",
      "None\n",
      "Wall time: 21 ms\n"
     ]
    }
   ],
   "source": [
    "%%time\n",
    "\n",
    "lsa_summ15 = lsa_summarizer(main_list[14], 3)\n",
    "print(lsa_summ15)"
   ]
  },
  {
   "cell_type": "code",
   "execution_count": 113,
   "id": "de0352ea",
   "metadata": {},
   "outputs": [
    {
     "name": "stdout",
     "output_type": "stream",
     "text": [
      "The 10% of original length gives 54 words, while the summary has 50 words.\n"
     ]
    }
   ],
   "source": [
    "words = lsa_sum.split()  # split the string into a list of words\n",
    "num_words = len(words)     # get the length of the list\n",
    "\n",
    "print(\"The 10% of original length gives\", int(0.1 * len(article_list[14].split())), \"words, while the summary has\", num_words, \"words.\")"
   ]
  },
  {
   "cell_type": "markdown",
   "id": "9bc2a556",
   "metadata": {},
   "source": [
    "-----------------------------------------xxxxxxxxxxxxxxxxxxxxxxxxxxxxxxxxx--------------------------------------------"
   ]
  },
  {
   "cell_type": "markdown",
   "id": "33e462fb",
   "metadata": {},
   "source": [
    "### 03) Text Rank-based summarization"
   ]
  },
  {
   "cell_type": "code",
   "execution_count": 114,
   "id": "648dad94",
   "metadata": {},
   "outputs": [],
   "source": [
    "# Using Sumy Library\n",
    "\n",
    "from sumy.summarizers.text_rank import TextRankSummarizer"
   ]
  },
  {
   "cell_type": "code",
   "execution_count": 352,
   "id": "f5b6f772",
   "metadata": {},
   "outputs": [],
   "source": [
    "def textrank_sum(article_num, summary_sentences):\n",
    "    global tr_sum\n",
    "    LANGUAGE = \"english\"\n",
    "    parser = PlaintextParser.from_string(article_num, Tokenizer(LANGUAGE))\n",
    "    tr_summarizer = TextRankSummarizer()\n",
    "    \n",
    "    tr_sum_list = []\n",
    "    for sentence in tr_summarizer(parser.document, summary_sentences):\n",
    "        tr_sum_list.append(str(sentence))\n",
    "\n",
    "    tr_sum = ''.join(tr_sum_list)\n",
    "    return tr_sum"
   ]
  },
  {
   "cell_type": "markdown",
   "id": "6de87cbb",
   "metadata": {},
   "source": [
    "#### Article 01"
   ]
  },
  {
   "cell_type": "code",
   "execution_count": 264,
   "id": "2606cca3",
   "metadata": {},
   "outputs": [
    {
     "name": "stdout",
     "output_type": "stream",
     "text": [
      "', 'All known teratogens (agents that cause birth defects) related to the risk of autism appear to act during the first eight weeks from conception, and though this does not exclude the possibility that autism can be initiated or affected later, there is strong evidence that autism arises very early in development.\n",
      "None\n",
      "Wall time: 59 ms\n"
     ]
    }
   ],
   "source": [
    "%%time\n",
    "\n",
    "text_summ1 = textrank_sum(main_list[0], 1)\n",
    "print(text_summ1)"
   ]
  },
  {
   "cell_type": "code",
   "execution_count": 117,
   "id": "e8558fe2",
   "metadata": {},
   "outputs": [
    {
     "name": "stdout",
     "output_type": "stream",
     "text": [
      "The 10% of original length gives 60 words, while the summary has 52 words.\n"
     ]
    }
   ],
   "source": [
    "words = tr_sum.split()  # split the string into a list of words\n",
    "num_words = len(words)     # get the length of the list\n",
    "\n",
    "print(\"The 10% of original length gives\", int(0.1 * len(article_list[0].split())), \"words, while the summary has\", num_words, \"words.\")"
   ]
  },
  {
   "cell_type": "markdown",
   "id": "60f7570e",
   "metadata": {},
   "source": [
    "#### Article 02"
   ]
  },
  {
   "cell_type": "code",
   "execution_count": 265,
   "id": "6bb19493",
   "metadata": {},
   "outputs": [
    {
     "name": "stdout",
     "output_type": "stream",
     "text": [
      "\", 'In the state are four medical schools (as of fall 2015)', '(University of Alabama School of Medicine, University of South Alabama and Alabama College of Osteopathic Medicine and The Edward Via College of Osteopathic Medicine – Auburn Campus), two veterinary colleges (Auburn University and Tuskegee University), a dental school (University of Alabama School of Dentistry), an optometry college (University of Alabama at Birmingham), two pharmacy schools (Auburn University and Samford University), and five law schools (University of Alabama School of Law, Birmingham School of Law, Cumberland School of Law, Miles Law School, and the Thomas Goode Jones School of Law).\n",
      "None\n",
      "Wall time: 31 ms\n"
     ]
    }
   ],
   "source": [
    "%%time\n",
    "\n",
    "text_summ2 = textrank_sum(main_list[1], 1)\n",
    "print(text_summ2)"
   ]
  },
  {
   "cell_type": "code",
   "execution_count": 119,
   "id": "f9b2c93c",
   "metadata": {},
   "outputs": [
    {
     "name": "stdout",
     "output_type": "stream",
     "text": [
      "The 10% of original length gives 62 words, while the summary has 101 words.\n"
     ]
    }
   ],
   "source": [
    "words = tr_sum.split()  # split the string into a list of words\n",
    "num_words = len(words)     # get the length of the list\n",
    "\n",
    "print(\"The 10% of original length gives\", int(0.1 * len(article_list[1].split())), \"words, while the summary has\", num_words, \"words.\")"
   ]
  },
  {
   "cell_type": "markdown",
   "id": "6800db93",
   "metadata": {},
   "source": [
    "#### Article 03"
   ]
  },
  {
   "cell_type": "code",
   "execution_count": 266,
   "id": "98e1c164",
   "metadata": {},
   "outputs": [
    {
     "name": "stdout",
     "output_type": "stream",
     "text": [
      "', \"Anthropology builds upon knowledge from natural sciences, including the discoveries about the origin and evolution of ''Homo sapiens'', human physical traits, human behavior, the variations among different groups of humans, how the evolutionary past of ''Homo sapiens'' has influenced its social organization and culture, and from social sciences, including the organization of human social and cultural relations, institutions, social conflicts, etc.', \"Cultural anthropology is the comparative study of the manifold ways in which people ''make sense'' of the world around them, while social anthropology is the study of the ''relationships'' among persons and groups.\n",
      "None\n",
      "Wall time: 126 ms\n"
     ]
    }
   ],
   "source": [
    "%%time\n",
    "\n",
    "text_summ3 = textrank_sum(main_list[2], 2)\n",
    "print(text_summ3)"
   ]
  },
  {
   "cell_type": "code",
   "execution_count": 121,
   "id": "4e87c641",
   "metadata": {},
   "outputs": [
    {
     "name": "stdout",
     "output_type": "stream",
     "text": [
      "The 10% of original length gives 85 words, while the summary has 95 words.\n"
     ]
    }
   ],
   "source": [
    "words = tr_sum.split()  # split the string into a list of words\n",
    "num_words = len(words)     # get the length of the list\n",
    "\n",
    "print(\"The 10% of original length gives\", int(0.1 * len(article_list[2].split())), \"words, while the summary has\", num_words, \"words.\")"
   ]
  },
  {
   "cell_type": "markdown",
   "id": "74eae8e3",
   "metadata": {},
   "source": [
    "#### Article 04"
   ]
  },
  {
   "cell_type": "code",
   "execution_count": 267,
   "id": "fd72d6c6",
   "metadata": {},
   "outputs": [
    {
     "name": "stdout",
     "output_type": "stream",
     "text": [
      "', 'At the 2009 French Open, Agassi was on hand to present Roger Federer, who completed his Career Grand Slam by winning the tournament and joined Agassi as one of six men to complete the Career Grand Slam, with the trophy.', 'The rivalry between the former champions headlined sports media again in March 2010 after the two participated in the \"Hit for Haiti\" charity event organized to raise money for the victims of the earthquake.\n",
      "None\n",
      "Wall time: 33 ms\n"
     ]
    }
   ],
   "source": [
    "%%time\n",
    "\n",
    "text_summ4 = textrank_sum(main_list[3], 2)\n",
    "print(text_summ4)"
   ]
  },
  {
   "cell_type": "code",
   "execution_count": 123,
   "id": "fd73b743",
   "metadata": {},
   "outputs": [
    {
     "name": "stdout",
     "output_type": "stream",
     "text": [
      "The 10% of original length gives 57 words, while the summary has 75 words.\n"
     ]
    }
   ],
   "source": [
    "words = tr_sum.split()  # split the string into a list of words\n",
    "num_words = len(words)     # get the length of the list\n",
    "\n",
    "print(\"The 10% of original length gives\", int(0.1 * len(article_list[3].split())), \"words, while the summary has\", num_words, \"words.\")"
   ]
  },
  {
   "cell_type": "markdown",
   "id": "5cb864d4",
   "metadata": {},
   "source": [
    "#### Article 05"
   ]
  },
  {
   "cell_type": "code",
   "execution_count": 268,
   "id": "58f934e0",
   "metadata": {},
   "outputs": [
    {
     "name": "stdout",
     "output_type": "stream",
     "text": [
      "['Old Major, the old boar on the Manor Farm, summons the animals on the farm together for a meeting, during which he refers to humans as \"enemies\" and teaches the animals a revolutionary song called \"Beasts of England\".\", \"In a subsequent report, Squealer reports sadly to the animals that Boxer died peacefully at the animal hospital; the pigs hold a festival one day after Boxer's death to further praise the glories of Animal Farm and have the animals work harder by taking on Boxer's ways.\n",
      "None\n",
      "Wall time: 52 ms\n"
     ]
    }
   ],
   "source": [
    "%%time\n",
    "\n",
    "text_summ5 = textrank_sum(main_list[4], 2)\n",
    "print(text_summ5)"
   ]
  },
  {
   "cell_type": "code",
   "execution_count": 125,
   "id": "870bff5d",
   "metadata": {},
   "outputs": [
    {
     "name": "stdout",
     "output_type": "stream",
     "text": [
      "The 10% of original length gives 82 words, while the summary has 85 words.\n"
     ]
    }
   ],
   "source": [
    "words = tr_sum.split()  # split the string into a list of words\n",
    "num_words = len(words)     # get the length of the list\n",
    "\n",
    "print(\"The 10% of original length gives\", int(0.1 * len(article_list[4].split())), \"words, while the summary has\", num_words, \"words.\")"
   ]
  },
  {
   "cell_type": "markdown",
   "id": "efbede0f",
   "metadata": {},
   "source": [
    "#### Article 06"
   ]
  },
  {
   "cell_type": "code",
   "execution_count": 269,
   "id": "174f2795",
   "metadata": {},
   "outputs": [
    {
     "name": "stdout",
     "output_type": "stream",
     "text": [
      "', \"The rough-skinned newt (''Taricha granulosa'') from North America and other members of its genus contain the neurotoxin tetrodotoxin (TTX), the most toxic non-protein substance known and almost identical to that produced by pufferfish.', 'Some frogs and toads are toxic, the main poison glands being at the side of the neck and under the warts on the back.''), the warning colouration is on the belly and these animals adopt a defensive pose when attacked, exhibiting their bright colours to the predator.\n",
      "None\n",
      "Wall time: 52 ms\n"
     ]
    }
   ],
   "source": [
    "%%time\n",
    "\n",
    "text_summ6 = textrank_sum(main_list[5], 3)\n",
    "print(text_summ6)"
   ]
  },
  {
   "cell_type": "code",
   "execution_count": 127,
   "id": "a933798f",
   "metadata": {},
   "outputs": [
    {
     "name": "stdout",
     "output_type": "stream",
     "text": [
      "The 10% of original length gives 68 words, while the summary has 81 words.\n"
     ]
    }
   ],
   "source": [
    "words = tr_sum.split()  # split the string into a list of words\n",
    "num_words = len(words)     # get the length of the list\n",
    "\n",
    "print(\"The 10% of original length gives\", int(0.1 * len(article_list[5].split())), \"words, while the summary has\", num_words, \"words.\")"
   ]
  },
  {
   "cell_type": "markdown",
   "id": "02bb8531",
   "metadata": {},
   "source": [
    "#### Article 07"
   ]
  },
  {
   "cell_type": "code",
   "execution_count": 270,
   "id": "6a36aa55",
   "metadata": {
    "scrolled": true
   },
   "outputs": [
    {
     "name": "stdout",
     "output_type": "stream",
     "text": [
      "', \"In its simplest form, the assumption of unit-treatment additivity states that the observed response  from experimental unit  when receiving treatment  can be written as the sum of the unit's response  and the treatment-effect , that is.', 'additivity)', 'and uses the randomization procedure of the experiment..', 'Both these analyses require homoscedasticity, as an assumption for the normal-model analysis and as a consequence of randomization and additivity for the randomization-based analysis.', 'If the response variable is expected to follow a parametric family of probability distributions, then the statistician may specify (in the protocol for the experiment or observational study) that the responses be transformed to stabilize the variance.\n",
      "None\n",
      "Wall time: 99 ms\n"
     ]
    }
   ],
   "source": [
    "%%time\n",
    "\n",
    "text_summ7 = textrank_sum(main_list[6], 3)\n",
    "print(text_summ7)"
   ]
  },
  {
   "cell_type": "code",
   "execution_count": 129,
   "id": "e1962fa7",
   "metadata": {},
   "outputs": [
    {
     "name": "stdout",
     "output_type": "stream",
     "text": [
      "The 10% of original length gives 87 words, while the summary has 107 words.\n"
     ]
    }
   ],
   "source": [
    "words = tr_sum.split()  # split the string into a list of words\n",
    "num_words = len(words)     # get the length of the list\n",
    "\n",
    "print(\"The 10% of original length gives\", int(0.1 * len(article_list[6].split())), \"words, while the summary has\", num_words, \"words.\")"
   ]
  },
  {
   "cell_type": "markdown",
   "id": "a12843af",
   "metadata": {},
   "source": [
    "#### Article 08"
   ]
  },
  {
   "cell_type": "code",
   "execution_count": 271,
   "id": "810552bf",
   "metadata": {},
   "outputs": [
    {
     "name": "stdout",
     "output_type": "stream",
     "text": [
      "', 'Several of the sights on her trip inspired her, and they found their way into her poem, including the World\\'s Columbian Exposition in Chicago, the \"White City\" with its promise of the future contained within its alabaster buildings; the wheat fields of America\\'s heartland Kansas, through which her train was riding on July 16; and the majestic view of the Great Plains from high atop Pikes Peak.\n",
      "None\n",
      "Wall time: 23 ms\n"
     ]
    }
   ],
   "source": [
    "%%time\n",
    "\n",
    "text_summ8 = textrank_sum(main_list[7], 1)\n",
    "print(text_summ8)"
   ]
  },
  {
   "cell_type": "code",
   "execution_count": 131,
   "id": "0efe691d",
   "metadata": {},
   "outputs": [
    {
     "name": "stdout",
     "output_type": "stream",
     "text": [
      "The 10% of original length gives 54 words, while the summary has 68 words.\n"
     ]
    }
   ],
   "source": [
    "words = tr_sum.split()  # split the string into a list of words\n",
    "num_words = len(words)     # get the length of the list\n",
    "\n",
    "print(\"The 10% of original length gives\", int(0.1 * len(article_list[7].split())), \"words, while the summary has\", num_words, \"words.\")"
   ]
  },
  {
   "cell_type": "markdown",
   "id": "39a30ffa",
   "metadata": {},
   "source": [
    "#### Article 09"
   ]
  },
  {
   "cell_type": "code",
   "execution_count": 272,
   "id": "76aac034",
   "metadata": {},
   "outputs": [
    {
     "name": "stdout",
     "output_type": "stream",
     "text": [
      "', \"An α-amino acid has a central carbon (the α or ''alpha'' carbon) which is covalently bonded to a carboxyl group (thus they are carboxylic acids), an amino group, a hydrogen atom and a variable group.', 'In humans and many other animals, hydrochloric acid is a part of the gastric acid secreted within the stomach to help hydrolyze proteins and polysaccharides, as well as converting the inactive pro-enzyme, pepsinogen into the enzyme, pepsin.\n",
      "None\n",
      "Wall time: 61 ms\n"
     ]
    }
   ],
   "source": [
    "%%time\n",
    "\n",
    "text_summ9 = textrank_sum(main_list[8], 2)\n",
    "print(text_summ9)"
   ]
  },
  {
   "cell_type": "code",
   "execution_count": 133,
   "id": "0ccca30b",
   "metadata": {},
   "outputs": [
    {
     "name": "stdout",
     "output_type": "stream",
     "text": [
      "The 10% of original length gives 70 words, while the summary has 73 words.\n"
     ]
    }
   ],
   "source": [
    "words = tr_sum.split()  # split the string into a list of words\n",
    "num_words = len(words)     # get the length of the list\n",
    "\n",
    "print(\"The 10% of original length gives\", int(0.1 * len(article_list[8].split())), \"words, while the summary has\", num_words, \"words.\")"
   ]
  },
  {
   "cell_type": "markdown",
   "id": "abbd832c",
   "metadata": {},
   "source": [
    "#### Article 10"
   ]
  },
  {
   "cell_type": "code",
   "execution_count": 273,
   "id": "f19b07e5",
   "metadata": {},
   "outputs": [
    {
     "name": "stdout",
     "output_type": "stream",
     "text": [
      "', 'The stamp featured a detail of the famous photograph of the Earthrise over the Moon taken by Anders on Christmas Eve, and the words, \"In the beginning God\\xa0...\" Just 18 days after the crew\\'s return to Earth, they were featured during the 1969 Super Bowl pre-game show reciting the Pledge of Allegiance prior to the national anthem being performed by Anita Bryant.']\n",
      "None\n",
      "Wall time: 25 ms\n"
     ]
    }
   ],
   "source": [
    "%%time\n",
    "\n",
    "text_summ10 = textrank_sum(main_list[9], 1)\n",
    "print(text_summ10)"
   ]
  },
  {
   "cell_type": "code",
   "execution_count": 135,
   "id": "e952b4fd",
   "metadata": {},
   "outputs": [
    {
     "name": "stdout",
     "output_type": "stream",
     "text": [
      "The 10% of original length gives 56 words, while the summary has 63 words.\n"
     ]
    }
   ],
   "source": [
    "words = tr_sum.split()  # split the string into a list of words\n",
    "num_words = len(words)     # get the length of the list\n",
    "\n",
    "print(\"The 10% of original length gives\", int(0.1 * len(article_list[9].split())), \"words, while the summary has\", num_words, \"words.\")"
   ]
  },
  {
   "cell_type": "markdown",
   "id": "8df71ef4",
   "metadata": {},
   "source": [
    "#### Article 11"
   ]
  },
  {
   "cell_type": "code",
   "execution_count": 274,
   "id": "4d4308ee",
   "metadata": {},
   "outputs": [
    {
     "name": "stdout",
     "output_type": "stream",
     "text": [
      "', 'In a perfectly phonemic orthography there would be a consistent one-to-one correspondence between the letters and the phonemes, so that a writer could predict the spelling of a word given its pronunciation, and a speaker would always know the pronunciation of a word given its spelling, and vice versa.', 'The pronunciation of a language often evolves independently of its writing system, and writing systems have been borrowed for languages they were not designed for, so the degree to which letters of an alphabet correspond to phonemes of a language varies greatly from one language to another and even within a single language.\n",
      "None\n",
      "Wall time: 55 ms\n"
     ]
    }
   ],
   "source": [
    "%%time\n",
    "\n",
    "text_summ11 = textrank_sum(main_list[10], 2)\n",
    "print(text_summ11)"
   ]
  },
  {
   "cell_type": "code",
   "execution_count": 137,
   "id": "cbe1c7fe",
   "metadata": {},
   "outputs": [
    {
     "name": "stdout",
     "output_type": "stream",
     "text": [
      "The 10% of original length gives 85 words, while the summary has 103 words.\n"
     ]
    }
   ],
   "source": [
    "words = tr_sum.split()  # split the string into a list of words\n",
    "num_words = len(words)     # get the length of the list\n",
    "\n",
    "print(\"The 10% of original length gives\", int(0.1 * len(article_list[10].split())), \"words, while the summary has\", num_words, \"words.\")"
   ]
  },
  {
   "cell_type": "markdown",
   "id": "10fcfc88",
   "metadata": {},
   "source": [
    "#### Article 12"
   ]
  },
  {
   "cell_type": "code",
   "execution_count": 275,
   "id": "c7548891",
   "metadata": {},
   "outputs": [
    {
     "name": "stdout",
     "output_type": "stream",
     "text": [
      "', 'Almost all of Europe and the better part of Asia sit atop the Eurasian Plate, adjoined on the south by the Arabian and Indian Plate and with the easternmost part of Siberia (east of the Chersky Range) on the North American Plate.']\n",
      "None\n",
      "Wall time: 37 ms\n"
     ]
    }
   ],
   "source": [
    "%%time\n",
    "\n",
    "text_summ12 = textrank_sum(main_list[11], 1)\n",
    "print(text_summ12)"
   ]
  },
  {
   "cell_type": "code",
   "execution_count": 143,
   "id": "c3ed34f3",
   "metadata": {},
   "outputs": [
    {
     "name": "stdout",
     "output_type": "stream",
     "text": [
      "The 10% of original length gives 62 words, while the summary has 43 words.\n"
     ]
    }
   ],
   "source": [
    "words = tr_sum.split()  # split the string into a list of words\n",
    "num_words = len(words)     # get the length of the list\n",
    "\n",
    "print(\"The 10% of original length gives\", int(0.1 * len(article_list[11].split())), \"words, while the summary has\", num_words, \"words.\")"
   ]
  },
  {
   "cell_type": "markdown",
   "id": "de29022d",
   "metadata": {},
   "source": [
    "#### Article 13"
   ]
  },
  {
   "cell_type": "code",
   "execution_count": 276,
   "id": "accd464a",
   "metadata": {},
   "outputs": [
    {
     "name": "stdout",
     "output_type": "stream",
     "text": [
      "', 'The MAR rises  above the surrounding ocean floor and its rift valley is the divergent boundary between the North American and Eurasian plates in the North Atlantic and the South American and African plates in the South Atlantic.', 'The MAR is intersected by two perpendicular ridges: the Azores–Gibraltar Transform Fault, the boundary between the Nubian and Eurasian plates, intersects the MAR at the Azores Triple Junction, on either side of the Azores microplate, near the 40°N.\n",
      "None\n",
      "Wall time: 49 ms\n"
     ]
    }
   ],
   "source": [
    "%%time\n",
    "\n",
    "text_summ13 = textrank_sum(main_list[12], 2)\n",
    "print(text_summ13)"
   ]
  },
  {
   "cell_type": "code",
   "execution_count": 145,
   "id": "fca160c8",
   "metadata": {},
   "outputs": [
    {
     "name": "stdout",
     "output_type": "stream",
     "text": [
      "The 10% of original length gives 66 words, while the summary has 77 words.\n"
     ]
    }
   ],
   "source": [
    "words = tr_sum.split()  # split the string into a list of words\n",
    "num_words = len(words)     # get the length of the list\n",
    "\n",
    "print(\"The 10% of original length gives\", int(0.1 * len(article_list[12].split())), \"words, while the summary has\", num_words, \"words.\")"
   ]
  },
  {
   "cell_type": "markdown",
   "id": "ad43af28",
   "metadata": {},
   "source": [
    "#### Article 14"
   ]
  },
  {
   "cell_type": "code",
   "execution_count": 277,
   "id": "c8048948",
   "metadata": {},
   "outputs": [
    {
     "name": "stdout",
     "output_type": "stream",
     "text": [
      "[\"\\nSince the adoption of a new constitution in 2010, the '''\", \"politics of Angola''' takes place in a framework of a presidential republic, whereby the President of Angola is both head of state and head of government, and of a multi-party system.\n",
      "None\n",
      "Wall time: 27 ms\n"
     ]
    }
   ],
   "source": [
    "%%time\n",
    "\n",
    "text_summ14 = textrank_sum(main_list[13], 1)\n",
    "print(text_summ14)"
   ]
  },
  {
   "cell_type": "code",
   "execution_count": 147,
   "id": "9b04f8ff",
   "metadata": {},
   "outputs": [
    {
     "name": "stdout",
     "output_type": "stream",
     "text": [
      "The 10% of original length gives 51 words, while the summary has 42 words.\n"
     ]
    }
   ],
   "source": [
    "words = tr_sum.split()  # split the string into a list of words\n",
    "num_words = len(words)     # get the length of the list\n",
    "\n",
    "print(\"The 10% of original length gives\", int(0.1 * len(article_list[13].split())), \"words, while the summary has\", num_words, \"words.\")"
   ]
  },
  {
   "cell_type": "markdown",
   "id": "8939d753",
   "metadata": {},
   "source": [
    "#### Article 15"
   ]
  },
  {
   "cell_type": "code",
   "execution_count": 278,
   "id": "4fa4f3f3",
   "metadata": {},
   "outputs": [
    {
     "name": "stdout",
     "output_type": "stream",
     "text": [
      "', 'He received the 1921 Nobel Prize in Physics \"for his services to theoretical physics, and especially for his discovery of the law of the photoelectric effect\", a pivotal step in the evolution of quantum theory.', 'Near the beginning of his career, Einstein thought that Newtonian mechanics was no longer enough to reconcile the laws of classical mechanics with the laws of the electromagnetic field.\n",
      "None\n",
      "Wall time: 35 ms\n"
     ]
    }
   ],
   "source": [
    "%%time\n",
    "\n",
    "text_summ15 = textrank_sum(main_list[14], 2)\n",
    "print(text_summ15)"
   ]
  },
  {
   "cell_type": "code",
   "execution_count": 149,
   "id": "110a2a65",
   "metadata": {},
   "outputs": [
    {
     "name": "stdout",
     "output_type": "stream",
     "text": [
      "The 10% of original length gives 54 words, while the summary has 65 words.\n"
     ]
    }
   ],
   "source": [
    "words = tr_sum.split()  # split the string into a list of words\n",
    "num_words = len(words)     # get the length of the list\n",
    "\n",
    "print(\"The 10% of original length gives\", int(0.1 * len(article_list[14].split())), \"words, while the summary has\", num_words, \"words.\")"
   ]
  },
  {
   "cell_type": "markdown",
   "id": "6d57c782",
   "metadata": {},
   "source": [
    "----------------------------------------------xxxxxxxxxxxxxxxxxxxxxxxxxxxxxxx------------------------------------------------"
   ]
  },
  {
   "cell_type": "markdown",
   "id": "fdd97006",
   "metadata": {},
   "source": [
    "## Abstractive Summarization"
   ]
  },
  {
   "cell_type": "markdown",
   "id": "525592bb",
   "metadata": {},
   "source": [
    "### 01) Google/Pegasus-Large Model"
   ]
  },
  {
   "cell_type": "code",
   "execution_count": 169,
   "id": "f288a045",
   "metadata": {},
   "outputs": [],
   "source": [
    "from transformers import AutoTokenizer, AutoModelForSeq2SeqLM\n",
    "\n",
    "tokenizer = AutoTokenizer.from_pretrained(\"google/pegasus-large\")\n",
    "\n",
    "model = AutoModelForSeq2SeqLM.from_pretrained(\"google/pegasus-large\")"
   ]
  },
  {
   "cell_type": "code",
   "execution_count": 279,
   "id": "a8fb103e",
   "metadata": {},
   "outputs": [],
   "source": [
    "from transformers import pipeline\n",
    "summarizer = pipeline(\"summarization\", model=model, tokenizer=AutoTokenizer.from_pretrained(\"google/pegasus-large\"), truncation=True)"
   ]
  },
  {
   "cell_type": "markdown",
   "id": "487bcf37",
   "metadata": {},
   "source": [
    "Taking the minimum length of summary to be 25 words less of the 10% of the original document length."
   ]
  },
  {
   "cell_type": "markdown",
   "id": "1c896e68",
   "metadata": {},
   "source": [
    "#### Article 01"
   ]
  },
  {
   "cell_type": "code",
   "execution_count": 280,
   "id": "6e094ca9",
   "metadata": {},
   "outputs": [
    {
     "name": "stdout",
     "output_type": "stream",
     "text": [
      "[{'summary_text': 'Autism has a strong genetic basis, although the genetics of autism are complex and it is unclear whether ASD is explained more by rare mutations with major effects, or by rare multigene interactions of common genetic variants. Hence, a substantial fraction of autism cases may be traceable to genetic causes that are highly heritable but not inherited: that is, the mutation that causes the autism is not present in the parental genome. All known teratogens (agents that cause birth defects) related to the risk of autism appear to act during the first eight weeks from conception, and though this does not exclude the possibility that autism can be initiated or affected later, there is strong evidence that autism arises very early in development.'}]\n",
      "Wall time: 2min 21s\n"
     ]
    }
   ],
   "source": [
    "%%time\n",
    "\n",
    "google_summ1 = summarizer(article_list[0], min_length=40, do_sample=False)\n",
    "print(google_summ1)"
   ]
  },
  {
   "cell_type": "markdown",
   "id": "b391915d",
   "metadata": {},
   "source": [
    "#### Article 02"
   ]
  },
  {
   "cell_type": "code",
   "execution_count": 283,
   "id": "901f2c85",
   "metadata": {},
   "outputs": [
    {
     "name": "stdout",
     "output_type": "stream",
     "text": [
      "[{'summary_text': 'Public primary and secondary education in Alabama is under the purview of the Alabama State Board of Education as well as local oversight by 67 county school boards and 60 city boards of education. In the state are four medical schools (as of fall 2015) (University of Alabama School of Medicine, University of South Alabama and Alabama College of Osteopathic Medicine and The Edward Via College of Osteopathic Medicine – Auburn Campus), two veterinary colleges (Auburn University and Tuskegee University), a dental school (University of Alabama School of Dentistry), an optometry college (University of Alabama at Birmingham), two pharmacy schools (Auburn University and Samford University), and five law schools (University of Alabama School of Law, Birmingham School of Law, Cumberland School of Law, Miles Law School, and the Thomas Goode Jones School of Law).'}]\n",
      "Wall time: 1min 57s\n"
     ]
    }
   ],
   "source": [
    "%%time\n",
    "\n",
    "google_summ2 = summarizer(article_list[1], min_length=42, do_sample=False)\n",
    "print(google_summ2)"
   ]
  },
  {
   "cell_type": "markdown",
   "id": "1710a36a",
   "metadata": {},
   "source": [
    "#### Article 03"
   ]
  },
  {
   "cell_type": "code",
   "execution_count": 284,
   "id": "2cfd6d6d",
   "metadata": {},
   "outputs": [
    {
     "name": "stdout",
     "output_type": "stream",
     "text": [
      "[{'summary_text': \"Anthropology builds upon knowledge from natural sciences, including the discoveries about the origin and evolution of ''Homo sapiens'', human physical traits, human behavior, the variations among different groups of humans, how the evolutionary past of ''Homo sapiens'' has influenced its social organization and culture, and from social sciences, including the organization of human social and cultural relations, institutions, social conflicts, etc. Cultural anthropology is the comparative study of the manifold ways in which people ''make sense'' of the world around them, while social anthropology is the study of the ''relationships'' among persons and groups. Cultural anthropology is more related to philosophy, literature and the arts (how one's culture affects experience for self and group, contributing to more complete understanding of the people's knowledge, customs, and institutions), while social anthropology is more related to sociology and history. Inquiry in sociocultural anthropology is guided in part by cultural relativism, the attempt to understand other societies in terms of their own cultural symbols and values.\"}]\n",
      "Wall time: 2min 14s\n"
     ]
    }
   ],
   "source": [
    "%%time\n",
    "\n",
    "google_summ3 = summarizer(article_list[2], min_length=60, do_sample=False)\n",
    "print(google_summ3)"
   ]
  },
  {
   "cell_type": "markdown",
   "id": "2e8196a4",
   "metadata": {},
   "source": [
    "#### Article 04"
   ]
  },
  {
   "cell_type": "code",
   "execution_count": 285,
   "id": "feca89e1",
   "metadata": {},
   "outputs": [
    {
     "name": "stdout",
     "output_type": "stream",
     "text": [
      "[{'summary_text': 'At the 2009 French Open, Agassi was on hand to present Roger Federer, who completed his Career Grand Slam by winning the tournament and joined Agassi as one of six men to complete the Career Grand Slam, with the trophy. He played the Cancer Treatment Centers of America Tennis Championships at Surprise, Arizona, where he reached the final before bowing to eventual champion Todd Martin. Agassi beat Courier in the final of the Staples Champions Cup in Boston and later defeated Sampras at the CTCA Championships at his hometown Las Vegas.'}]\n",
      "Wall time: 1min 15s\n"
     ]
    }
   ],
   "source": [
    "%%time\n",
    "\n",
    "google_summ4 = summarizer(article_list[3], min_length=32, do_sample=False)\n",
    "print(google_summ4)"
   ]
  },
  {
   "cell_type": "markdown",
   "id": "ba76ed35",
   "metadata": {},
   "source": [
    "#### Article 05"
   ]
  },
  {
   "cell_type": "code",
   "execution_count": 286,
   "id": "c0bfc6bd",
   "metadata": {},
   "outputs": [
    {
     "name": "stdout",
     "output_type": "stream",
     "text": [
      "[{'summary_text': 'Old Major, the old boar on the Manor Farm, summons the animals on the farm together for a meeting, during which he refers to humans as \"enemies\" and teaches the animals a revolutionary song called \"Beasts of England\". When some animals recall the Battle of the Cowshed, Napoleon (who was nowhere to be found during the battle) frequently smears Snowball as a collaborator of Jones\\', while falsely representing himself as the hero of the battle.'}]\n",
      "Wall time: 1min 42s\n"
     ]
    }
   ],
   "source": [
    "%%time\n",
    "\n",
    "google_summ5 = summarizer(article_list[4], min_length=57, do_sample=False)\n",
    "print(google_summ5)"
   ]
  },
  {
   "cell_type": "markdown",
   "id": "757ff881",
   "metadata": {},
   "source": [
    "#### Article 06"
   ]
  },
  {
   "cell_type": "code",
   "execution_count": 289,
   "id": "d98a92ce",
   "metadata": {},
   "outputs": [
    {
     "name": "stdout",
     "output_type": "stream",
     "text": [
      "[{'summary_text': \"The rough-skinned newt (''Taricha granulosa'') from North America and other members of its genus contain the neurotoxin tetrodotoxin (TTX), the most toxic non-protein substance known and almost identical to that produced by pufferfish. The only predators with some tolerance to the poison are certain populations of common garter snake (''Thamnophis sirtalis''). The only predators with some tolerance to the poison are certain populations of common garter snake (''Thamnophis sirtalis'').\"}]\n",
      "Wall time: 1min 26s\n"
     ]
    }
   ],
   "source": [
    "%%time\n",
    "\n",
    "google_summ6 = summarizer(article_list[5], min_length=43, do_sample=False)\n",
    "print(google_summ6)"
   ]
  },
  {
   "cell_type": "markdown",
   "id": "32ce90d8",
   "metadata": {},
   "source": [
    "#### Article 07"
   ]
  },
  {
   "cell_type": "code",
   "execution_count": 290,
   "id": "33778e5f",
   "metadata": {},
   "outputs": [
    {
     "name": "stdout",
     "output_type": "stream",
     "text": [
      "[{'summary_text': \"In its simplest form, the assumption of unit-treatment additivity states that the observed response from experimental unit when receiving treatment can be written as the sum of the unit's response and the treatment-effect , that is. The assumption of unit-treatment additivity implies that, for every treatment , the th treatment has exactly the same effect on every experiment unit. For a randomized experiment, the assumption of unit-treatment additivity ''implies'' that the variance is constant for all treatments.\"}]\n",
      "Wall time: 1min 9s\n"
     ]
    }
   ],
   "source": [
    "%%time\n",
    "\n",
    "google_summ7 = summarizer(article_list[6], min_length=62, do_sample=False)\n",
    "print(google_summ7)"
   ]
  },
  {
   "cell_type": "markdown",
   "id": "d61f6d59",
   "metadata": {},
   "source": [
    "#### Article 08"
   ]
  },
  {
   "cell_type": "code",
   "execution_count": 291,
   "id": "a315e033",
   "metadata": {},
   "outputs": [
    {
     "name": "stdout",
     "output_type": "stream",
     "text": [
      "[{'summary_text': 'Several of the sights on her trip inspired her, and they found their way into her poem, including the World\\'s Columbian Exposition in Chicago, the \"White City\" with its promise of the future contained within its alabaster buildings; the wheat fields of America\\'s heartland Kansas, through which her train was riding on July 16; and the majestic view of the Great Plains from high atop Pikes Peak. Ward\\'s music combined with Bates\\'s poem were first published together in 1910 and titled \"America the Beautiful\". Ward died in 1903, not knowing the national stature his music would attain since the music was only first applied to the song in 1904.'}]\n",
      "Wall time: 1min 41s\n"
     ]
    }
   ],
   "source": [
    "%%time\n",
    "\n",
    "google_summ8 = summarizer(article_list[7], min_length=29, do_sample=False)\n",
    "print(google_summ8)"
   ]
  },
  {
   "cell_type": "markdown",
   "id": "ba076574",
   "metadata": {},
   "source": [
    "#### Article 09"
   ]
  },
  {
   "cell_type": "code",
   "execution_count": 292,
   "id": "2089990d",
   "metadata": {},
   "outputs": [
    {
     "name": "stdout",
     "output_type": "stream",
     "text": [
      "[{'summary_text': \"An -amino acid has a central carbon (the  or ''alpha'' carbon) which is covalently bonded to a carboxyl group (thus they are carboxylic acids), an amino group, a hydrogen atom and a variable group. In glycine, the simplest amino acid, the R group is a hydrogen atom, but in all other amino acids it is contains one or more carbon atoms bonded to hydrogens, and may contain other elements such as sulfur, oxygen or nitrogen. At physiological pH, typically around 7, free amino acids exist in a charged form, where the acidic carboxyl group (-COOH) loses a proton (-COO) and the basic amine group (-NH2) gains a proton (-NH).\"}]\n",
      "Wall time: 1min 50s\n"
     ]
    }
   ],
   "source": [
    "%%time\n",
    "\n",
    "google_summ9 = summarizer(article_list[8], min_length=45, do_sample=False)\n",
    "print(google_summ9)"
   ]
  },
  {
   "cell_type": "markdown",
   "id": "6127406a",
   "metadata": {},
   "source": [
    "#### Article 10"
   ]
  },
  {
   "cell_type": "code",
   "execution_count": 293,
   "id": "f22a4811",
   "metadata": {},
   "outputs": [
    {
     "name": "stdout",
     "output_type": "stream",
     "text": [
      "[{'summary_text': \"Even though the year saw political assassinations, political unrest in the streets of Europe and America, and the Prague Spring, ''Time'' magazine chose the crew of Apollo 8 as its Men of the Year for 1968, recognizing them as the people who most influenced events in the preceding year. One of the most famous aspects of the flight was the Earthrise picture that was taken as they came around for their fourth orbit of the Moon.\"}]\n",
      "Wall time: 1min 36s\n"
     ]
    }
   ],
   "source": [
    "%%time\n",
    "\n",
    "google_summ10 = summarizer(article_list[9], min_length=31, do_sample=False)\n",
    "print(google_summ10)"
   ]
  },
  {
   "cell_type": "markdown",
   "id": "570123da",
   "metadata": {},
   "source": [
    "#### Article 11"
   ]
  },
  {
   "cell_type": "code",
   "execution_count": 294,
   "id": "5ec34b51",
   "metadata": {},
   "outputs": [
    {
     "name": "stdout",
     "output_type": "stream",
     "text": [
      "[{'summary_text': 'In a perfectly phonemic orthography there would be a consistent one-to-one correspondence between the letters and the phonemes, so that a writer could predict the spelling of a word given its pronunciation, and a speaker would always know the pronunciation of a word given its spelling, and vice versa. The pronunciation of a language often evolves independently of its writing system, and writing systems have been borrowed for languages they were not designed for, so the degree to which letters of an alphabet correspond to phonemes of a language varies greatly from one language to another and even within a single language.'}]\n",
      "Wall time: 1min 44s\n"
     ]
    }
   ],
   "source": [
    "%%time\n",
    "\n",
    "google_summ11 = summarizer(article_list[10], min_length=60, do_sample=False)\n",
    "print(google_summ11)"
   ]
  },
  {
   "cell_type": "markdown",
   "id": "78e3f5f5",
   "metadata": {},
   "source": [
    "#### Article 12"
   ]
  },
  {
   "cell_type": "code",
   "execution_count": 295,
   "id": "f9b8d0b7",
   "metadata": {},
   "outputs": [
    {
     "name": "stdout",
     "output_type": "stream",
     "text": [
      "[{'summary_text': 'The Don River became unsatisfactory to northern Europeans when Peter the Great, king of the Tsardom of Russia, defeating rival claims of Sweden and the Ottoman Empire to the eastern lands, and armed resistance by the tribes of Siberia, synthesized a new Russian Empire extending to the Ural Mountains and beyond, founded in 1721. The border between the Black Sea and the Caspian is usually placed along the crest of the Arabian Mountains, although it is sometimes placed further north. The Maluku Islands in Indonesia are often considered to lie on the border of southeast Asia, with New Guinea, to the east of the islands, being wholly part of Oceania.'}]\n",
      "Wall time: 1min 53s\n"
     ]
    }
   ],
   "source": [
    "%%time\n",
    "\n",
    "google_summ12 = summarizer(article_list[11], min_length=37, do_sample=False)\n",
    "print(google_summ12)"
   ]
  },
  {
   "cell_type": "markdown",
   "id": "3443610d",
   "metadata": {},
   "source": [
    "#### Article 13"
   ]
  },
  {
   "cell_type": "code",
   "execution_count": 296,
   "id": "e4879fb6",
   "metadata": {},
   "outputs": [
    {
     "name": "stdout",
     "output_type": "stream",
     "text": [
      "[{'summary_text': 'The MAR rises above the surrounding ocean floor and its rift valley is the divergent boundary between the North American and Eurasian plates in the North Atlantic and the South American and African plates in the South Atlantic. The MAR is intersected by two ridges: the Azores–Gibraltar Transform Fault, the boundary between the Nubian and Eurasian plates, intersects the MAR at the Azores Triple Junction, on either side of the Azores microplate, near the 40N.'}]\n",
      "Wall time: 1min 50s\n"
     ]
    }
   ],
   "source": [
    "%%time\n",
    "\n",
    "google_summ13 = summarizer(article_list[12], min_length=41, do_sample=False)\n",
    "print(google_summ13)"
   ]
  },
  {
   "cell_type": "markdown",
   "id": "45f6fa32",
   "metadata": {},
   "source": [
    "#### Article 14"
   ]
  },
  {
   "cell_type": "code",
   "execution_count": 297,
   "id": "e0277b2a",
   "metadata": {},
   "outputs": [
    {
     "name": "stdout",
     "output_type": "stream",
     "text": [
      "[{'summary_text': \"Since the adoption of a new constitution in 2010, the '''politics of Angola''' takes place in a framework of a presidential republic, whereby the President of Angola is both head of state and head of government, and of a multi-party system. Angola changed from a one-party Marxist-Leninist system ruled by the Popular Movement for the Liberation of Angola (MPLA), in place since independence in 1975, to a multiparty democracy based on a new constitution adopted in 1992. In the presidential elections, President José Eduardo dos Santos won the first round election with more than 49% of the vote to Jonas Savimbi's 40%.\"}]\n",
      "Wall time: 2min 9s\n"
     ]
    }
   ],
   "source": [
    "%%time\n",
    "\n",
    "google_summ14 = summarizer(article_list[13], min_length=26, do_sample=False)\n",
    "print(google_summ14)"
   ]
  },
  {
   "cell_type": "markdown",
   "id": "b30ad48e",
   "metadata": {},
   "source": [
    "#### Article 15"
   ]
  },
  {
   "cell_type": "code",
   "execution_count": 298,
   "id": "666f2268",
   "metadata": {},
   "outputs": [
    {
     "name": "stdout",
     "output_type": "stream",
     "text": [
      "[{'summary_text': 'Einstein developed the theory of relativity, one of the two pillars of modern physics (alongside quantum mechanics). He received the 1921 Nobel Prize in Physics \"for his services to theoretical physics, and especially for his discovery of the law of the photoelectric effect\", a pivotal step in the evolution of quantum theory. Between 1895 and 1914 he lived in Switzerland (except for one year in Prague, 1911–12), where he received his academic diploma from the Swiss Federal Polytechnic in Zrich (later the Eidgenssische Technische Hochschule, ETH) in 1900.'}]\n",
      "Wall time: 1min 39s\n"
     ]
    }
   ],
   "source": [
    "%%time\n",
    "\n",
    "google_summ15 = summarizer(article_list[14], min_length=29, do_sample=False)\n",
    "print(google_summ15)"
   ]
  },
  {
   "cell_type": "markdown",
   "id": "04033593",
   "metadata": {},
   "source": [
    "------------------------------------------xxxxxxxxxxxxxxxxxxxxxxxxxxx-------------------------------------------------------"
   ]
  },
  {
   "cell_type": "markdown",
   "id": "28c0610d",
   "metadata": {},
   "source": [
    "### 02) Facebook/Bart-Large-Cnn Model"
   ]
  },
  {
   "cell_type": "code",
   "execution_count": 25,
   "id": "4bddb8c0",
   "metadata": {},
   "outputs": [
    {
     "data": {
      "application/vnd.jupyter.widget-view+json": {
       "model_id": "5c2b20f44864459baf237b722dcfbec5",
       "version_major": 2,
       "version_minor": 0
      },
      "text/plain": [
       "Downloading pytorch_model.bin:   0%|          | 0.00/1.63G [00:00<?, ?B/s]"
      ]
     },
     "metadata": {},
     "output_type": "display_data"
    },
    {
     "data": {
      "application/vnd.jupyter.widget-view+json": {
       "model_id": "428dddb8fecc49edad58f7c7c4cee7ba",
       "version_major": 2,
       "version_minor": 0
      },
      "text/plain": [
       "Downloading (…)neration_config.json:   0%|          | 0.00/363 [00:00<?, ?B/s]"
      ]
     },
     "metadata": {},
     "output_type": "display_data"
    }
   ],
   "source": [
    "from transformers import AutoTokenizer, AutoModelForSeq2SeqLM\n",
    "\n",
    "tokenizer = AutoTokenizer.from_pretrained(\"facebook/bart-large-cnn\")\n",
    "\n",
    "model2 = AutoModelForSeq2SeqLM.from_pretrained(\"facebook/bart-large-cnn\")"
   ]
  },
  {
   "cell_type": "code",
   "execution_count": 299,
   "id": "fc69643e",
   "metadata": {},
   "outputs": [],
   "source": [
    "from transformers import pipeline\n",
    "summarizer = pipeline(\"summarization\", model=model2, tokenizer=AutoTokenizer.from_pretrained(\"facebook/bart-large-cnn\"), truncation=True)"
   ]
  },
  {
   "cell_type": "markdown",
   "id": "83a47421",
   "metadata": {},
   "source": [
    "Taking the minimum length of summary to be 25 words less of the 10% of the original document length."
   ]
  },
  {
   "cell_type": "markdown",
   "id": "128bb12f",
   "metadata": {},
   "source": [
    "#### Article 01"
   ]
  },
  {
   "cell_type": "code",
   "execution_count": 300,
   "id": "90f4f6fc",
   "metadata": {},
   "outputs": [
    {
     "name": "stdout",
     "output_type": "stream",
     "text": [
      "[{'summary_text': \"It has long been presumed that there is a common cause at the genetic, cognitive, and neural levels for autism's characteristic triad of symptoms. There is increasing suspicion that autism is instead a complex disorder whose core aspects have distinct causes that often co-occur.\"}]\n",
      "Wall time: 22 s\n"
     ]
    }
   ],
   "source": [
    "%%time\n",
    "\n",
    "bart_summ1 = summarizer(article_list[0], min_length = 40, do_sample=False)\n",
    "print(bart_summ1)"
   ]
  },
  {
   "cell_type": "markdown",
   "id": "a7fc7b9f",
   "metadata": {},
   "source": [
    "#### Article 02"
   ]
  },
  {
   "cell_type": "code",
   "execution_count": 301,
   "id": "1cb42fa5",
   "metadata": {},
   "outputs": [
    {
     "name": "stdout",
     "output_type": "stream",
     "text": [
      "[{'summary_text': \"Alabama has 14 four-year public universities, two-year community colleges, and 17 private, undergraduate and graduate universities. The largest single campus is the University of Alabama, located in Tuscaloosa, with 37,665 enrolled for fall 2016. According to the 2011 ''U.S. News & World Report'', Alabama had three universities ranked in the top 100 Public Schools in America.\"}]\n",
      "Wall time: 27.5 s\n"
     ]
    }
   ],
   "source": [
    "%%time\n",
    "\n",
    "bart_summ2 = summarizer(article_list[1], min_length = 42, do_sample=False)\n",
    "print(bart_summ2)"
   ]
  },
  {
   "cell_type": "markdown",
   "id": "437f2eb6",
   "metadata": {},
   "source": [
    "#### Article 03"
   ]
  },
  {
   "cell_type": "code",
   "execution_count": 302,
   "id": "26bd0632",
   "metadata": {},
   "outputs": [
    {
     "name": "stdout",
     "output_type": "stream",
     "text": [
      "[{'summary_text': 'Anthropology is a global discipline involving humanities, social sciences and natural sciences. Early anthropology originated in Classical Greece and Persia and tried to understand observable cultural diversity. Sociocultural anthropology has been heavily influenced by structuralist and postmodern theories, as well as a shift toward the analysis of modern societies. Ethnology involves the systematic comparison of different cultures.'}]\n",
      "Wall time: 27.6 s\n"
     ]
    }
   ],
   "source": [
    "%%time\n",
    "\n",
    "bart_summ3 = summarizer(article_list[2], min_length = 60, do_sample=False)\n",
    "print(bart_summ3)"
   ]
  },
  {
   "cell_type": "markdown",
   "id": "076f4ba5",
   "metadata": {},
   "source": [
    "#### Article 04"
   ]
  },
  {
   "cell_type": "code",
   "execution_count": 303,
   "id": "3c51e777",
   "metadata": {},
   "outputs": [
    {
     "name": "stdout",
     "output_type": "stream",
     "text": [
      "[{'summary_text': 'Since retiring in 2006, Agassi has participated in a series of charity tournaments and continues his work with his own charity. He played an exhibition match at Wimbledon, teaming with his wife, Steffi Graf, to play with Tim Henman and Kim Clijsters in the summer of 2009. In 2009, in Macau Agassi and Sampras met for the first time on court since the 2002 US Open final.'}]\n",
      "Wall time: 29.3 s\n"
     ]
    }
   ],
   "source": [
    "%%time\n",
    "\n",
    "bart_summ4 = summarizer(article_list[3], min_length = 32, do_sample=False)\n",
    "print(bart_summ4)"
   ]
  },
  {
   "cell_type": "markdown",
   "id": "5ada6afd",
   "metadata": {},
   "source": [
    "#### Article 05"
   ]
  },
  {
   "cell_type": "code",
   "execution_count": 304,
   "id": "920cc038",
   "metadata": {},
   "outputs": [
    {
     "name": "stdout",
     "output_type": "stream",
     "text": [
      "[{'summary_text': 'Old Major, the old boar on the Manor Farm, summons the animals on the farm together for a meeting. When Major dies, two young pigs, Snowball and Napoleon, assume command and consider it a duty to prepare for the Rebellion. The animals revolt and drive the drunken and irresponsible farmer Mr. Jones from the farm, renaming it \"Animal Farm\" They adopt the Seven Commandments of Animalism, the most important of which is, \"All animals are equal\".'}]\n",
      "Wall time: 35.6 s\n"
     ]
    }
   ],
   "source": [
    "%%time\n",
    "\n",
    "bart_summ5 = summarizer(article_list[4], min_length = 57, do_sample=False)\n",
    "print(bart_summ5)"
   ]
  },
  {
   "cell_type": "markdown",
   "id": "3db51ae7",
   "metadata": {},
   "source": [
    "#### Article 06"
   ]
  },
  {
   "cell_type": "code",
   "execution_count": 305,
   "id": "fa4a12a2",
   "metadata": {},
   "outputs": [
    {
     "name": "stdout",
     "output_type": "stream",
     "text": [
      "[{'summary_text': 'Amphibians have evolved various defence mechanisms to keep themselves alive. The first line of defence in salamanders and frogs is the mucous secretion that they produce. Caecilians have been little studied in this respect, but the Cayenne caecilian produces toxic mucus that has killed predatory fish. Poisonous species often use bright colouring to warn potential predators.'}]\n",
      "Wall time: 29.1 s\n"
     ]
    }
   ],
   "source": [
    "%%time\n",
    "\n",
    "bart_summ6 = summarizer(article_list[5], min_length = 43, do_sample=False)\n",
    "print(bart_summ6)"
   ]
  },
  {
   "cell_type": "markdown",
   "id": "1396f1bf",
   "metadata": {},
   "source": [
    "#### Article 07"
   ]
  },
  {
   "cell_type": "code",
   "execution_count": 306,
   "id": "6f681141",
   "metadata": {},
   "outputs": [
    {
     "name": "stdout",
     "output_type": "stream",
     "text": [
      "[{'summary_text': 'The analysis of variance has been studied from several approaches. The most common of which uses a linear model that relates the response to the treatments and blocks. Note that the model is linear in parameters but may be nonlinear across factor levels. Interpretation is easy when data is balanced across factors but much deeper understanding is needed for unbalanced data.'}]\n",
      "Wall time: 27.6 s\n"
     ]
    }
   ],
   "source": [
    "%%time\n",
    "\n",
    "bart_summ7 = summarizer(article_list[6], min_length = 62, do_sample=False)\n",
    "print(bart_summ7)"
   ]
  },
  {
   "cell_type": "markdown",
   "id": "7a536739",
   "metadata": {},
   "source": [
    "#### Article 08"
   ]
  },
  {
   "cell_type": "code",
   "execution_count": 307,
   "id": "16ca13ba",
   "metadata": {},
   "outputs": [
    {
     "name": "stdout",
     "output_type": "stream",
     "text": [
      "[{'summary_text': \"In 1893, at the age of 33, English professor Elizabeth Bates took a train trip to Colorado Springs, Colorado, to teach a short summer school session. The words of the poem started to come to her, and she wrote them down upon returning to her hotel room at the original Antlers Hotel. The poem was initially published two years later in ''The Congregationalist'' to commemorate the Fourth of July. Several existing pieces of music were adapted to the poem. A hymn tune composed by Samuel A. Ward was generally considered the best music as early as 1910.\"}]\n",
      "Wall time: 38.3 s\n"
     ]
    }
   ],
   "source": [
    "%%time\n",
    "\n",
    "bart_summ8 = summarizer(article_list[7], min_length = 29, do_sample=False)\n",
    "print(bart_summ8)"
   ]
  },
  {
   "cell_type": "markdown",
   "id": "975c9265",
   "metadata": {},
   "source": [
    "#### Article 09"
   ]
  },
  {
   "cell_type": "code",
   "execution_count": 308,
   "id": "bbaefe48",
   "metadata": {},
   "outputs": [
    {
     "name": "stdout",
     "output_type": "stream",
     "text": [
      "[{'summary_text': \"Many biologically important molecules are acids. Nucleic acids contain the genetic code that determines many of an organism's characteristics. DNA contains the chemical blueprint for the synthesis of proteins which are made up of amino acid subunits. Cell membranes contain fatty acid esters such as phospholipids. Acid-base equilibrium plays a critical role in regulating mammalian breathing.\"}]\n",
      "Wall time: 27.1 s\n"
     ]
    }
   ],
   "source": [
    "%%time\n",
    "\n",
    "bart_summ9 = summarizer(article_list[8], min_length = 45, do_sample=False)\n",
    "print(bart_summ9)"
   ]
  },
  {
   "cell_type": "markdown",
   "id": "c840e09d",
   "metadata": {},
   "source": [
    "#### Article 10"
   ]
  },
  {
   "cell_type": "code",
   "execution_count": 309,
   "id": "5f6a117d",
   "metadata": {},
   "outputs": [
    {
     "name": "stdout",
     "output_type": "stream",
     "text": [
      "[{'summary_text': 'Apollo\\xa08 came at the end of 1968, a year that had seen much upheaval in the United States and most of the world. One of the most famous aspects of the flight was the Earthrise picture that was taken as they came around for their fourth orbit of the Moon. It has been credited with a role in inspiring the first Earth Day in 1970. The mission was the most widely covered by the media since the first American orbital flight, Mercury-Atlas 6 by John Glenn in 1962.'}]\n",
      "Wall time: 31.8 s\n"
     ]
    }
   ],
   "source": [
    "%%time\n",
    "\n",
    "bart_summ10 = summarizer(article_list[9], min_length = 31, do_sample=False)\n",
    "print(bart_summ10)"
   ]
  },
  {
   "cell_type": "markdown",
   "id": "0b489a23",
   "metadata": {},
   "source": [
    "#### Article 11"
   ]
  },
  {
   "cell_type": "code",
   "execution_count": 310,
   "id": "2add531c",
   "metadata": {},
   "outputs": [
    {
     "name": "stdout",
     "output_type": "stream",
     "text": [
      "[{'summary_text': 'In a perfectly phonemic orthography there would be a consistent one-to-one correspondence between the letters and the phonemes. This ideal is not usually achieved in practice; some languages (such as Spanish and Finnish) come close to it, while others deviate from it to a much larger degree.'}]\n",
      "Wall time: 25.7 s\n"
     ]
    }
   ],
   "source": [
    "%%time\n",
    "\n",
    "bart_summ11 = summarizer(article_list[10], min_length = 60, do_sample=False)\n",
    "print(bart_summ11)"
   ]
  },
  {
   "cell_type": "markdown",
   "id": "63583d2b",
   "metadata": {},
   "source": [
    "#### Article 12"
   ]
  },
  {
   "cell_type": "code",
   "execution_count": 311,
   "id": "1a21a702",
   "metadata": {},
   "outputs": [
    {
     "name": "stdout",
     "output_type": "stream",
     "text": [
      "[{'summary_text': 'Border between Asia and Africa is the Red Sea, the Gulf of Suez, and the Suez Canal. This makes Egypt a transcontinental country, with the Sinai peninsula in Asia and the remainder of the country in Africa. The border between the Black Sea and the Caspian is usually placed along the crest of the Caucasus Mountains.'}]\n",
      "Wall time: 25.6 s\n"
     ]
    }
   ],
   "source": [
    "%%time\n",
    "\n",
    "bart_summ12 = summarizer(article_list[11], min_length = 37, do_sample=False)\n",
    "print(bart_summ12)"
   ]
  },
  {
   "cell_type": "markdown",
   "id": "6f2c6b8f",
   "metadata": {},
   "source": [
    "#### Article 13"
   ]
  },
  {
   "cell_type": "code",
   "execution_count": 312,
   "id": "5117a002",
   "metadata": {},
   "outputs": [
    {
     "name": "stdout",
     "output_type": "stream",
     "text": [
      "[{'summary_text': 'The bathymetry of the Atlantic is dominated by a submarine mountain range called the Mid-Atlantic Ridge. It runs from 87°N or  south of the North Pole to the subantarctic Bouvet Island at 42°S. The deep ocean floor is thought to be fairly flat with occasional deeps, abyssal plains, trenches, seamounts, basins, plateaus and canyons.'}]\n",
      "Wall time: 35.1 s\n"
     ]
    }
   ],
   "source": [
    "%%time\n",
    "\n",
    "bart_summ13 = summarizer(article_list[12], min_length = 41, do_sample=False)\n",
    "print(bart_summ13)"
   ]
  },
  {
   "cell_type": "markdown",
   "id": "c1a1bfed",
   "metadata": {},
   "source": [
    "#### Article 14"
   ]
  },
  {
   "cell_type": "code",
   "execution_count": 313,
   "id": "f65e17de",
   "metadata": {},
   "outputs": [
    {
     "name": "stdout",
     "output_type": "stream",
     "text": [
      "[{'summary_text': 'Angola changed from a one-party Marxist-Leninist system ruled by the Popular Movement for the Liberation of Angola (MPLA) to a multiparty democracy in 1992. The renewal of civil war immediately after the elections, which were considered as fraudulent by UNITA, and the collapse of the Lusaka Protocol, created a split situation.'}]\n",
      "Wall time: 27.2 s\n"
     ]
    }
   ],
   "source": [
    "%%time\n",
    "\n",
    "bart_summ14 = summarizer(article_list[13], min_length = 26, do_sample=False)\n",
    "print(bart_summ14)"
   ]
  },
  {
   "cell_type": "markdown",
   "id": "21739ffb",
   "metadata": {},
   "source": [
    "#### Article 15"
   ]
  },
  {
   "cell_type": "code",
   "execution_count": 314,
   "id": "2ec85f91",
   "metadata": {},
   "outputs": [
    {
     "name": "stdout",
     "output_type": "stream",
     "text": [
      "[{'summary_text': 'Einstein was a German-born theoretical physicist. He developed the theory of relativity, one of the two pillars of modern physics (alongside quantum mechanics) His work is also known for its influence on the philosophy of science. He received the 1921 Nobel Prize in Physics.'}]\n",
      "Wall time: 22.4 s\n"
     ]
    }
   ],
   "source": [
    "%%time\n",
    "\n",
    "bart_summ15 = summarizer(article_list[14], min_length = 29, do_sample=False)\n",
    "print(bart_summ15)"
   ]
  },
  {
   "cell_type": "markdown",
   "id": "d55e7400",
   "metadata": {},
   "source": [
    "---------------------------------------xxxxxxxxxxxxxxxxxxxxxxxxxxxxxxx----------------------------------------------"
   ]
  },
  {
   "cell_type": "markdown",
   "id": "e86e7dac",
   "metadata": {},
   "source": [
    "### Computing Rouge-2 score for each article for each method"
   ]
  },
  {
   "cell_type": "markdown",
   "id": "5626eddd",
   "metadata": {},
   "source": [
    "Google Pegasus Large Model for Rouge-2 Score"
   ]
  },
  {
   "cell_type": "code",
   "execution_count": 364,
   "id": "8d2b99ed",
   "metadata": {},
   "outputs": [],
   "source": [
    "tokenizer_google = AutoTokenizer.from_pretrained(\"google/pegasus-large\")\n",
    "summarizer_google = pipeline(\"summarization\", model=model, tokenizer=tokenizer_google, truncation=True)"
   ]
  },
  {
   "cell_type": "markdown",
   "id": "7236b161",
   "metadata": {},
   "source": [
    "Facebook Bart Model for Rouge-2 Score"
   ]
  },
  {
   "cell_type": "code",
   "execution_count": 365,
   "id": "6b538b4e",
   "metadata": {},
   "outputs": [],
   "source": [
    "tokenizer_bart = AutoTokenizer.from_pretrained(\"facebook/bart-large-cnn\")\n",
    "summarizer_bart = pipeline(\"summarization\", model=model2, tokenizer=tokenizer_bart, truncation=True)"
   ]
  },
  {
   "cell_type": "markdown",
   "id": "62f9e0ad",
   "metadata": {},
   "source": [
    "TFIDF function for Rouge-2 score"
   ]
  },
  {
   "cell_type": "code",
   "execution_count": 388,
   "id": "d1d05136",
   "metadata": {},
   "outputs": [],
   "source": [
    "def tfdf_summarizer_func(article_content, summary_length):\n",
    "    global sent_list\n",
    "    sent_list = [sent.text for sent in nlp(article_content).sents]\n",
    "    tfidfVectorizer = TfidfVectorizer(ngram_range=(1,1), stop_words='english').fit_transform(sent_list)\n",
    "    tfidf_sum_list = [sent_list[i] for i in range(0, len(sent_list)) if i in np.argsort(tfidfVectorizer.sum(axis=1), axis=0)[::-1][:summary_length]]\n",
    "    summary = ' '.join(tfidf_sum_list)\n",
    "    return summary"
   ]
  },
  {
   "cell_type": "code",
   "execution_count": 366,
   "id": "1224e315",
   "metadata": {},
   "outputs": [],
   "source": [
    "from rouge_score import rouge_scorer\n",
    "\n",
    "evaluation_matrix_list = []\n",
    "\n",
    "for article in article_list:\n",
    "    tfidf_summary = tfdf_summarizer_func(article, 3)\n",
    "    lsa_summary = lsa_summarizer(article, 5)\n",
    "    textrank_summary = textrank_sum(article, 4)\n",
    "    google_summary = summarizer_google(article, min_length=70, do_sample=False)[0]['summary_text']\n",
    "    bart_summary = summarizer_bart(article, min_length=70, do_sample=False)[0]['summary_text']\n",
    "\n",
    "    summary_list = [tfidf_summary, lsa_summary, textrank_summary, google_summary, bart_summary]\n",
    "\n",
    "    score_matrix = pd.DataFrame()\n",
    "    columns = ['tf_idf', 'lsa', 'text_rank', 'google-large', 'facebook-bart']\n",
    "\n",
    "    for each in range(0,len(columns)):\n",
    "        scorer = rouge_scorer.RougeScorer(['rouge2'], use_stemmer=True)\n",
    "        rogue = list(scorer.score(summary_list[each], article)['rouge2'])\n",
    "        score_matrix[columns[each]] = rogue\n",
    "\n",
    "    score_matrix.set_index(pd.Index(['precision', 'recall', 'f1_measure']), inplace=True)\n",
    "\n",
    "    evaluation_matrix_list.append(score_matrix)"
   ]
  },
  {
   "cell_type": "code",
   "execution_count": 367,
   "id": "44c8b5d6",
   "metadata": {},
   "outputs": [
    {
     "data": {
      "text/plain": [
       "15"
      ]
     },
     "execution_count": 367,
     "metadata": {},
     "output_type": "execute_result"
    }
   ],
   "source": [
    "len(evaluation_matrix_list)"
   ]
  },
  {
   "cell_type": "markdown",
   "id": "766470de",
   "metadata": {},
   "source": [
    "Conversion of list to dataframe"
   ]
  },
  {
   "cell_type": "code",
   "execution_count": 435,
   "id": "964be007",
   "metadata": {},
   "outputs": [
    {
     "data": {
      "text/html": [
       "<div>\n",
       "<style scoped>\n",
       "    .dataframe tbody tr th:only-of-type {\n",
       "        vertical-align: middle;\n",
       "    }\n",
       "\n",
       "    .dataframe tbody tr th {\n",
       "        vertical-align: top;\n",
       "    }\n",
       "\n",
       "    .dataframe thead th {\n",
       "        text-align: right;\n",
       "    }\n",
       "</style>\n",
       "<table border=\"1\" class=\"dataframe\">\n",
       "  <thead>\n",
       "    <tr style=\"text-align: right;\">\n",
       "      <th></th>\n",
       "      <th>Evaluation Metrics</th>\n",
       "      <th>tf_idf</th>\n",
       "      <th>lsa</th>\n",
       "      <th>text_rank</th>\n",
       "      <th>google-large</th>\n",
       "      <th>facebook-bart</th>\n",
       "    </tr>\n",
       "  </thead>\n",
       "  <tbody>\n",
       "    <tr>\n",
       "      <th>1</th>\n",
       "      <td>precision</td>\n",
       "      <td>0.221488</td>\n",
       "      <td>0.204959</td>\n",
       "      <td>0.271074</td>\n",
       "      <td>0.198347</td>\n",
       "      <td>0.100826</td>\n",
       "    </tr>\n",
       "    <tr>\n",
       "      <th>2</th>\n",
       "      <td>recall</td>\n",
       "      <td>0.985294</td>\n",
       "      <td>0.976378</td>\n",
       "      <td>0.982036</td>\n",
       "      <td>0.983607</td>\n",
       "      <td>0.983871</td>\n",
       "    </tr>\n",
       "    <tr>\n",
       "      <th>3</th>\n",
       "      <td>f1_measure</td>\n",
       "      <td>0.361673</td>\n",
       "      <td>0.338798</td>\n",
       "      <td>0.424870</td>\n",
       "      <td>0.330124</td>\n",
       "      <td>0.182909</td>\n",
       "    </tr>\n",
       "    <tr>\n",
       "      <th>4</th>\n",
       "      <td>precision</td>\n",
       "      <td>0.185185</td>\n",
       "      <td>0.171296</td>\n",
       "      <td>0.328704</td>\n",
       "      <td>0.203704</td>\n",
       "      <td>0.083333</td>\n",
       "    </tr>\n",
       "    <tr>\n",
       "      <th>5</th>\n",
       "      <td>recall</td>\n",
       "      <td>0.983607</td>\n",
       "      <td>0.965217</td>\n",
       "      <td>0.990698</td>\n",
       "      <td>1.000000</td>\n",
       "      <td>0.931034</td>\n",
       "    </tr>\n",
       "    <tr>\n",
       "      <th>6</th>\n",
       "      <td>f1_measure</td>\n",
       "      <td>0.311688</td>\n",
       "      <td>0.290957</td>\n",
       "      <td>0.493627</td>\n",
       "      <td>0.338462</td>\n",
       "      <td>0.152975</td>\n",
       "    </tr>\n",
       "    <tr>\n",
       "      <th>7</th>\n",
       "      <td>precision</td>\n",
       "      <td>0.175926</td>\n",
       "      <td>0.089120</td>\n",
       "      <td>0.199074</td>\n",
       "      <td>0.186343</td>\n",
       "      <td>0.063657</td>\n",
       "    </tr>\n",
       "    <tr>\n",
       "      <th>8</th>\n",
       "      <td>recall</td>\n",
       "      <td>0.987013</td>\n",
       "      <td>0.962500</td>\n",
       "      <td>0.988506</td>\n",
       "      <td>0.987730</td>\n",
       "      <td>0.948276</td>\n",
       "    </tr>\n",
       "    <tr>\n",
       "      <th>9</th>\n",
       "      <td>f1_measure</td>\n",
       "      <td>0.298625</td>\n",
       "      <td>0.163136</td>\n",
       "      <td>0.331407</td>\n",
       "      <td>0.313535</td>\n",
       "      <td>0.119306</td>\n",
       "    </tr>\n",
       "    <tr>\n",
       "      <th>10</th>\n",
       "      <td>precision</td>\n",
       "      <td>0.162021</td>\n",
       "      <td>0.191638</td>\n",
       "      <td>0.210801</td>\n",
       "      <td>0.153310</td>\n",
       "      <td>0.104530</td>\n",
       "    </tr>\n",
       "    <tr>\n",
       "      <th>11</th>\n",
       "      <td>recall</td>\n",
       "      <td>0.989362</td>\n",
       "      <td>0.973451</td>\n",
       "      <td>0.983740</td>\n",
       "      <td>0.977778</td>\n",
       "      <td>0.909091</td>\n",
       "    </tr>\n",
       "    <tr>\n",
       "      <th>12</th>\n",
       "      <td>f1_measure</td>\n",
       "      <td>0.278443</td>\n",
       "      <td>0.320233</td>\n",
       "      <td>0.347202</td>\n",
       "      <td>0.265060</td>\n",
       "      <td>0.187500</td>\n",
       "    </tr>\n",
       "    <tr>\n",
       "      <th>13</th>\n",
       "      <td>precision</td>\n",
       "      <td>0.135922</td>\n",
       "      <td>0.148058</td>\n",
       "      <td>0.209951</td>\n",
       "      <td>0.089806</td>\n",
       "      <td>0.089806</td>\n",
       "    </tr>\n",
       "    <tr>\n",
       "      <th>14</th>\n",
       "      <td>recall</td>\n",
       "      <td>0.991150</td>\n",
       "      <td>0.976000</td>\n",
       "      <td>0.988571</td>\n",
       "      <td>1.000000</td>\n",
       "      <td>0.986667</td>\n",
       "    </tr>\n",
       "    <tr>\n",
       "      <th>15</th>\n",
       "      <td>f1_measure</td>\n",
       "      <td>0.239061</td>\n",
       "      <td>0.257113</td>\n",
       "      <td>0.346346</td>\n",
       "      <td>0.164811</td>\n",
       "      <td>0.164627</td>\n",
       "    </tr>\n",
       "    <tr>\n",
       "      <th>16</th>\n",
       "      <td>precision</td>\n",
       "      <td>0.135838</td>\n",
       "      <td>0.115607</td>\n",
       "      <td>0.138728</td>\n",
       "      <td>0.080925</td>\n",
       "      <td>0.079480</td>\n",
       "    </tr>\n",
       "    <tr>\n",
       "      <th>17</th>\n",
       "      <td>recall</td>\n",
       "      <td>0.979167</td>\n",
       "      <td>0.963855</td>\n",
       "      <td>0.979592</td>\n",
       "      <td>0.800000</td>\n",
       "      <td>0.948276</td>\n",
       "    </tr>\n",
       "    <tr>\n",
       "      <th>18</th>\n",
       "      <td>f1_measure</td>\n",
       "      <td>0.238579</td>\n",
       "      <td>0.206452</td>\n",
       "      <td>0.243038</td>\n",
       "      <td>0.146982</td>\n",
       "      <td>0.146667</td>\n",
       "    </tr>\n",
       "    <tr>\n",
       "      <th>19</th>\n",
       "      <td>precision</td>\n",
       "      <td>0.099664</td>\n",
       "      <td>0.100784</td>\n",
       "      <td>0.138858</td>\n",
       "      <td>0.087346</td>\n",
       "      <td>0.079507</td>\n",
       "    </tr>\n",
       "    <tr>\n",
       "      <th>20</th>\n",
       "      <td>recall</td>\n",
       "      <td>0.978022</td>\n",
       "      <td>0.989011</td>\n",
       "      <td>0.976378</td>\n",
       "      <td>0.987342</td>\n",
       "      <td>0.986111</td>\n",
       "    </tr>\n",
       "    <tr>\n",
       "      <th>21</th>\n",
       "      <td>f1_measure</td>\n",
       "      <td>0.180894</td>\n",
       "      <td>0.182927</td>\n",
       "      <td>0.243137</td>\n",
       "      <td>0.160494</td>\n",
       "      <td>0.147150</td>\n",
       "    </tr>\n",
       "    <tr>\n",
       "      <th>22</th>\n",
       "      <td>precision</td>\n",
       "      <td>0.289286</td>\n",
       "      <td>0.217857</td>\n",
       "      <td>0.342857</td>\n",
       "      <td>0.198214</td>\n",
       "      <td>0.158929</td>\n",
       "    </tr>\n",
       "    <tr>\n",
       "      <th>23</th>\n",
       "      <td>recall</td>\n",
       "      <td>0.993865</td>\n",
       "      <td>0.976000</td>\n",
       "      <td>0.989691</td>\n",
       "      <td>0.991071</td>\n",
       "      <td>0.927083</td>\n",
       "    </tr>\n",
       "    <tr>\n",
       "      <th>24</th>\n",
       "      <td>f1_measure</td>\n",
       "      <td>0.448133</td>\n",
       "      <td>0.356204</td>\n",
       "      <td>0.509284</td>\n",
       "      <td>0.330357</td>\n",
       "      <td>0.271341</td>\n",
       "    </tr>\n",
       "    <tr>\n",
       "      <th>25</th>\n",
       "      <td>precision</td>\n",
       "      <td>0.139205</td>\n",
       "      <td>0.184659</td>\n",
       "      <td>0.190341</td>\n",
       "      <td>0.150568</td>\n",
       "      <td>0.072443</td>\n",
       "    </tr>\n",
       "    <tr>\n",
       "      <th>26</th>\n",
       "      <td>recall</td>\n",
       "      <td>0.980000</td>\n",
       "      <td>0.977444</td>\n",
       "      <td>0.985294</td>\n",
       "      <td>0.981481</td>\n",
       "      <td>0.962264</td>\n",
       "    </tr>\n",
       "    <tr>\n",
       "      <th>27</th>\n",
       "      <td>f1_measure</td>\n",
       "      <td>0.243781</td>\n",
       "      <td>0.310633</td>\n",
       "      <td>0.319048</td>\n",
       "      <td>0.261084</td>\n",
       "      <td>0.134742</td>\n",
       "    </tr>\n",
       "    <tr>\n",
       "      <th>28</th>\n",
       "      <td>precision</td>\n",
       "      <td>0.244367</td>\n",
       "      <td>0.214905</td>\n",
       "      <td>0.301560</td>\n",
       "      <td>0.128250</td>\n",
       "      <td>0.149047</td>\n",
       "    </tr>\n",
       "    <tr>\n",
       "      <th>29</th>\n",
       "      <td>recall</td>\n",
       "      <td>0.986014</td>\n",
       "      <td>0.984127</td>\n",
       "      <td>0.983051</td>\n",
       "      <td>0.986667</td>\n",
       "      <td>0.966292</td>\n",
       "    </tr>\n",
       "    <tr>\n",
       "      <th>30</th>\n",
       "      <td>f1_measure</td>\n",
       "      <td>0.391667</td>\n",
       "      <td>0.352774</td>\n",
       "      <td>0.461538</td>\n",
       "      <td>0.226994</td>\n",
       "      <td>0.258258</td>\n",
       "    </tr>\n",
       "    <tr>\n",
       "      <th>31</th>\n",
       "      <td>precision</td>\n",
       "      <td>0.138824</td>\n",
       "      <td>0.160000</td>\n",
       "      <td>0.210588</td>\n",
       "      <td>0.120000</td>\n",
       "      <td>0.072941</td>\n",
       "    </tr>\n",
       "    <tr>\n",
       "      <th>32</th>\n",
       "      <td>recall</td>\n",
       "      <td>0.983333</td>\n",
       "      <td>0.978417</td>\n",
       "      <td>0.983516</td>\n",
       "      <td>0.990291</td>\n",
       "      <td>0.953846</td>\n",
       "    </tr>\n",
       "    <tr>\n",
       "      <th>33</th>\n",
       "      <td>f1_measure</td>\n",
       "      <td>0.243299</td>\n",
       "      <td>0.275025</td>\n",
       "      <td>0.346899</td>\n",
       "      <td>0.214061</td>\n",
       "      <td>0.135519</td>\n",
       "    </tr>\n",
       "    <tr>\n",
       "      <th>34</th>\n",
       "      <td>precision</td>\n",
       "      <td>0.217460</td>\n",
       "      <td>0.196825</td>\n",
       "      <td>0.274603</td>\n",
       "      <td>0.169841</td>\n",
       "      <td>0.112698</td>\n",
       "    </tr>\n",
       "    <tr>\n",
       "      <th>35</th>\n",
       "      <td>recall</td>\n",
       "      <td>0.992754</td>\n",
       "      <td>0.976378</td>\n",
       "      <td>0.988571</td>\n",
       "      <td>0.981651</td>\n",
       "      <td>0.972603</td>\n",
       "    </tr>\n",
       "    <tr>\n",
       "      <th>36</th>\n",
       "      <td>f1_measure</td>\n",
       "      <td>0.356771</td>\n",
       "      <td>0.327609</td>\n",
       "      <td>0.429814</td>\n",
       "      <td>0.289581</td>\n",
       "      <td>0.201991</td>\n",
       "    </tr>\n",
       "    <tr>\n",
       "      <th>37</th>\n",
       "      <td>precision</td>\n",
       "      <td>0.186217</td>\n",
       "      <td>0.200880</td>\n",
       "      <td>0.205279</td>\n",
       "      <td>0.107038</td>\n",
       "      <td>0.077713</td>\n",
       "    </tr>\n",
       "    <tr>\n",
       "      <th>38</th>\n",
       "      <td>recall</td>\n",
       "      <td>0.984496</td>\n",
       "      <td>0.971631</td>\n",
       "      <td>1.000000</td>\n",
       "      <td>0.973333</td>\n",
       "      <td>0.946429</td>\n",
       "    </tr>\n",
       "    <tr>\n",
       "      <th>39</th>\n",
       "      <td>f1_measure</td>\n",
       "      <td>0.313194</td>\n",
       "      <td>0.332928</td>\n",
       "      <td>0.340633</td>\n",
       "      <td>0.192867</td>\n",
       "      <td>0.143631</td>\n",
       "    </tr>\n",
       "    <tr>\n",
       "      <th>40</th>\n",
       "      <td>precision</td>\n",
       "      <td>0.191571</td>\n",
       "      <td>0.159004</td>\n",
       "      <td>0.226054</td>\n",
       "      <td>0.197318</td>\n",
       "      <td>0.120690</td>\n",
       "    </tr>\n",
       "    <tr>\n",
       "      <th>41</th>\n",
       "      <td>recall</td>\n",
       "      <td>0.980392</td>\n",
       "      <td>0.976471</td>\n",
       "      <td>0.975207</td>\n",
       "      <td>0.980952</td>\n",
       "      <td>0.940299</td>\n",
       "    </tr>\n",
       "    <tr>\n",
       "      <th>42</th>\n",
       "      <td>f1_measure</td>\n",
       "      <td>0.320513</td>\n",
       "      <td>0.273476</td>\n",
       "      <td>0.367030</td>\n",
       "      <td>0.328549</td>\n",
       "      <td>0.213922</td>\n",
       "    </tr>\n",
       "    <tr>\n",
       "      <th>43</th>\n",
       "      <td>precision</td>\n",
       "      <td>0.197133</td>\n",
       "      <td>0.184588</td>\n",
       "      <td>0.232975</td>\n",
       "      <td>0.146953</td>\n",
       "      <td>0.120072</td>\n",
       "    </tr>\n",
       "    <tr>\n",
       "      <th>44</th>\n",
       "      <td>recall</td>\n",
       "      <td>0.982143</td>\n",
       "      <td>0.971698</td>\n",
       "      <td>0.984848</td>\n",
       "      <td>0.931818</td>\n",
       "      <td>0.943662</td>\n",
       "    </tr>\n",
       "    <tr>\n",
       "      <th>45</th>\n",
       "      <td>f1_measure</td>\n",
       "      <td>0.328358</td>\n",
       "      <td>0.310241</td>\n",
       "      <td>0.376812</td>\n",
       "      <td>0.253870</td>\n",
       "      <td>0.213037</td>\n",
       "    </tr>\n",
       "  </tbody>\n",
       "</table>\n",
       "</div>"
      ],
      "text/plain": [
       "   Evaluation Metrics    tf_idf       lsa  text_rank  google-large  \\\n",
       "1           precision  0.221488  0.204959   0.271074      0.198347   \n",
       "2              recall  0.985294  0.976378   0.982036      0.983607   \n",
       "3          f1_measure  0.361673  0.338798   0.424870      0.330124   \n",
       "4           precision  0.185185  0.171296   0.328704      0.203704   \n",
       "5              recall  0.983607  0.965217   0.990698      1.000000   \n",
       "6          f1_measure  0.311688  0.290957   0.493627      0.338462   \n",
       "7           precision  0.175926  0.089120   0.199074      0.186343   \n",
       "8              recall  0.987013  0.962500   0.988506      0.987730   \n",
       "9          f1_measure  0.298625  0.163136   0.331407      0.313535   \n",
       "10          precision  0.162021  0.191638   0.210801      0.153310   \n",
       "11             recall  0.989362  0.973451   0.983740      0.977778   \n",
       "12         f1_measure  0.278443  0.320233   0.347202      0.265060   \n",
       "13          precision  0.135922  0.148058   0.209951      0.089806   \n",
       "14             recall  0.991150  0.976000   0.988571      1.000000   \n",
       "15         f1_measure  0.239061  0.257113   0.346346      0.164811   \n",
       "16          precision  0.135838  0.115607   0.138728      0.080925   \n",
       "17             recall  0.979167  0.963855   0.979592      0.800000   \n",
       "18         f1_measure  0.238579  0.206452   0.243038      0.146982   \n",
       "19          precision  0.099664  0.100784   0.138858      0.087346   \n",
       "20             recall  0.978022  0.989011   0.976378      0.987342   \n",
       "21         f1_measure  0.180894  0.182927   0.243137      0.160494   \n",
       "22          precision  0.289286  0.217857   0.342857      0.198214   \n",
       "23             recall  0.993865  0.976000   0.989691      0.991071   \n",
       "24         f1_measure  0.448133  0.356204   0.509284      0.330357   \n",
       "25          precision  0.139205  0.184659   0.190341      0.150568   \n",
       "26             recall  0.980000  0.977444   0.985294      0.981481   \n",
       "27         f1_measure  0.243781  0.310633   0.319048      0.261084   \n",
       "28          precision  0.244367  0.214905   0.301560      0.128250   \n",
       "29             recall  0.986014  0.984127   0.983051      0.986667   \n",
       "30         f1_measure  0.391667  0.352774   0.461538      0.226994   \n",
       "31          precision  0.138824  0.160000   0.210588      0.120000   \n",
       "32             recall  0.983333  0.978417   0.983516      0.990291   \n",
       "33         f1_measure  0.243299  0.275025   0.346899      0.214061   \n",
       "34          precision  0.217460  0.196825   0.274603      0.169841   \n",
       "35             recall  0.992754  0.976378   0.988571      0.981651   \n",
       "36         f1_measure  0.356771  0.327609   0.429814      0.289581   \n",
       "37          precision  0.186217  0.200880   0.205279      0.107038   \n",
       "38             recall  0.984496  0.971631   1.000000      0.973333   \n",
       "39         f1_measure  0.313194  0.332928   0.340633      0.192867   \n",
       "40          precision  0.191571  0.159004   0.226054      0.197318   \n",
       "41             recall  0.980392  0.976471   0.975207      0.980952   \n",
       "42         f1_measure  0.320513  0.273476   0.367030      0.328549   \n",
       "43          precision  0.197133  0.184588   0.232975      0.146953   \n",
       "44             recall  0.982143  0.971698   0.984848      0.931818   \n",
       "45         f1_measure  0.328358  0.310241   0.376812      0.253870   \n",
       "\n",
       "    facebook-bart  \n",
       "1        0.100826  \n",
       "2        0.983871  \n",
       "3        0.182909  \n",
       "4        0.083333  \n",
       "5        0.931034  \n",
       "6        0.152975  \n",
       "7        0.063657  \n",
       "8        0.948276  \n",
       "9        0.119306  \n",
       "10       0.104530  \n",
       "11       0.909091  \n",
       "12       0.187500  \n",
       "13       0.089806  \n",
       "14       0.986667  \n",
       "15       0.164627  \n",
       "16       0.079480  \n",
       "17       0.948276  \n",
       "18       0.146667  \n",
       "19       0.079507  \n",
       "20       0.986111  \n",
       "21       0.147150  \n",
       "22       0.158929  \n",
       "23       0.927083  \n",
       "24       0.271341  \n",
       "25       0.072443  \n",
       "26       0.962264  \n",
       "27       0.134742  \n",
       "28       0.149047  \n",
       "29       0.966292  \n",
       "30       0.258258  \n",
       "31       0.072941  \n",
       "32       0.953846  \n",
       "33       0.135519  \n",
       "34       0.112698  \n",
       "35       0.972603  \n",
       "36       0.201991  \n",
       "37       0.077713  \n",
       "38       0.946429  \n",
       "39       0.143631  \n",
       "40       0.120690  \n",
       "41       0.940299  \n",
       "42       0.213922  \n",
       "43       0.120072  \n",
       "44       0.943662  \n",
       "45       0.213037  "
      ]
     },
     "execution_count": 435,
     "metadata": {},
     "output_type": "execute_result"
    }
   ],
   "source": [
    "evaluation_matrix_scores = pd.concat(evaluation_matrix_list, axis=0)\n",
    "evaluation_matrix_scores = evaluation_matrix_scores.reset_index().rename(columns={'index': 'Evaluation Metrics'})\n",
    "evaluation_matrix_scores.index = evaluation_matrix_scores.index + 1\n",
    "evaluation_matrix_scores"
   ]
  },
  {
   "cell_type": "markdown",
   "id": "914c2676",
   "metadata": {},
   "source": [
    "Saving the evaluation matrix list"
   ]
  },
  {
   "cell_type": "code",
   "execution_count": 370,
   "id": "b7c67c3c",
   "metadata": {},
   "outputs": [],
   "source": [
    "import pickle\n",
    "  \n",
    "# Open a file and use dump()\n",
    "\n",
    "with open('evaluation_matrix.pkl', 'wb') as file:\n",
    "      pickle.dump(evaluation_matrix_list, file)"
   ]
  },
  {
   "cell_type": "markdown",
   "id": "8a1b3767",
   "metadata": {},
   "source": [
    "### Aggregating the 15 matrices for each metric to produce an average ROUGE-2 score matrix across 15 articles"
   ]
  },
  {
   "cell_type": "code",
   "execution_count": 437,
   "id": "f28383f8",
   "metadata": {},
   "outputs": [],
   "source": [
    "for each in evaluation_matrix_list:\n",
    "    each['average'] = each.mean(axis=1).values"
   ]
  },
  {
   "cell_type": "code",
   "execution_count": 441,
   "id": "22110d58",
   "metadata": {},
   "outputs": [
    {
     "data": {
      "text/html": [
       "<div>\n",
       "<style scoped>\n",
       "    .dataframe tbody tr th:only-of-type {\n",
       "        vertical-align: middle;\n",
       "    }\n",
       "\n",
       "    .dataframe tbody tr th {\n",
       "        vertical-align: top;\n",
       "    }\n",
       "\n",
       "    .dataframe thead th {\n",
       "        text-align: right;\n",
       "    }\n",
       "</style>\n",
       "<table border=\"1\" class=\"dataframe\">\n",
       "  <thead>\n",
       "    <tr style=\"text-align: right;\">\n",
       "      <th></th>\n",
       "      <th>Evaluation Metrics</th>\n",
       "      <th>tf_idf</th>\n",
       "      <th>lsa</th>\n",
       "      <th>text_rank</th>\n",
       "      <th>google-large</th>\n",
       "      <th>facebook-bart</th>\n",
       "      <th>average</th>\n",
       "    </tr>\n",
       "  </thead>\n",
       "  <tbody>\n",
       "    <tr>\n",
       "      <th>1</th>\n",
       "      <td>precision</td>\n",
       "      <td>0.221488</td>\n",
       "      <td>0.204959</td>\n",
       "      <td>0.271074</td>\n",
       "      <td>0.198347</td>\n",
       "      <td>0.100826</td>\n",
       "      <td>0.199339</td>\n",
       "    </tr>\n",
       "    <tr>\n",
       "      <th>2</th>\n",
       "      <td>recall</td>\n",
       "      <td>0.985294</td>\n",
       "      <td>0.976378</td>\n",
       "      <td>0.982036</td>\n",
       "      <td>0.983607</td>\n",
       "      <td>0.983871</td>\n",
       "      <td>0.982237</td>\n",
       "    </tr>\n",
       "    <tr>\n",
       "      <th>3</th>\n",
       "      <td>f1_measure</td>\n",
       "      <td>0.361673</td>\n",
       "      <td>0.338798</td>\n",
       "      <td>0.424870</td>\n",
       "      <td>0.330124</td>\n",
       "      <td>0.182909</td>\n",
       "      <td>0.327675</td>\n",
       "    </tr>\n",
       "    <tr>\n",
       "      <th>4</th>\n",
       "      <td>precision</td>\n",
       "      <td>0.185185</td>\n",
       "      <td>0.171296</td>\n",
       "      <td>0.328704</td>\n",
       "      <td>0.203704</td>\n",
       "      <td>0.083333</td>\n",
       "      <td>0.194444</td>\n",
       "    </tr>\n",
       "    <tr>\n",
       "      <th>5</th>\n",
       "      <td>recall</td>\n",
       "      <td>0.983607</td>\n",
       "      <td>0.965217</td>\n",
       "      <td>0.990698</td>\n",
       "      <td>1.000000</td>\n",
       "      <td>0.931034</td>\n",
       "      <td>0.974111</td>\n",
       "    </tr>\n",
       "    <tr>\n",
       "      <th>6</th>\n",
       "      <td>f1_measure</td>\n",
       "      <td>0.311688</td>\n",
       "      <td>0.290957</td>\n",
       "      <td>0.493627</td>\n",
       "      <td>0.338462</td>\n",
       "      <td>0.152975</td>\n",
       "      <td>0.317542</td>\n",
       "    </tr>\n",
       "    <tr>\n",
       "      <th>7</th>\n",
       "      <td>precision</td>\n",
       "      <td>0.175926</td>\n",
       "      <td>0.089120</td>\n",
       "      <td>0.199074</td>\n",
       "      <td>0.186343</td>\n",
       "      <td>0.063657</td>\n",
       "      <td>0.142824</td>\n",
       "    </tr>\n",
       "    <tr>\n",
       "      <th>8</th>\n",
       "      <td>recall</td>\n",
       "      <td>0.987013</td>\n",
       "      <td>0.962500</td>\n",
       "      <td>0.988506</td>\n",
       "      <td>0.987730</td>\n",
       "      <td>0.948276</td>\n",
       "      <td>0.974805</td>\n",
       "    </tr>\n",
       "    <tr>\n",
       "      <th>9</th>\n",
       "      <td>f1_measure</td>\n",
       "      <td>0.298625</td>\n",
       "      <td>0.163136</td>\n",
       "      <td>0.331407</td>\n",
       "      <td>0.313535</td>\n",
       "      <td>0.119306</td>\n",
       "      <td>0.245201</td>\n",
       "    </tr>\n",
       "    <tr>\n",
       "      <th>10</th>\n",
       "      <td>precision</td>\n",
       "      <td>0.162021</td>\n",
       "      <td>0.191638</td>\n",
       "      <td>0.210801</td>\n",
       "      <td>0.153310</td>\n",
       "      <td>0.104530</td>\n",
       "      <td>0.164460</td>\n",
       "    </tr>\n",
       "    <tr>\n",
       "      <th>11</th>\n",
       "      <td>recall</td>\n",
       "      <td>0.989362</td>\n",
       "      <td>0.973451</td>\n",
       "      <td>0.983740</td>\n",
       "      <td>0.977778</td>\n",
       "      <td>0.909091</td>\n",
       "      <td>0.966684</td>\n",
       "    </tr>\n",
       "    <tr>\n",
       "      <th>12</th>\n",
       "      <td>f1_measure</td>\n",
       "      <td>0.278443</td>\n",
       "      <td>0.320233</td>\n",
       "      <td>0.347202</td>\n",
       "      <td>0.265060</td>\n",
       "      <td>0.187500</td>\n",
       "      <td>0.279688</td>\n",
       "    </tr>\n",
       "    <tr>\n",
       "      <th>13</th>\n",
       "      <td>precision</td>\n",
       "      <td>0.135922</td>\n",
       "      <td>0.148058</td>\n",
       "      <td>0.209951</td>\n",
       "      <td>0.089806</td>\n",
       "      <td>0.089806</td>\n",
       "      <td>0.134709</td>\n",
       "    </tr>\n",
       "    <tr>\n",
       "      <th>14</th>\n",
       "      <td>recall</td>\n",
       "      <td>0.991150</td>\n",
       "      <td>0.976000</td>\n",
       "      <td>0.988571</td>\n",
       "      <td>1.000000</td>\n",
       "      <td>0.986667</td>\n",
       "      <td>0.988478</td>\n",
       "    </tr>\n",
       "    <tr>\n",
       "      <th>15</th>\n",
       "      <td>f1_measure</td>\n",
       "      <td>0.239061</td>\n",
       "      <td>0.257113</td>\n",
       "      <td>0.346346</td>\n",
       "      <td>0.164811</td>\n",
       "      <td>0.164627</td>\n",
       "      <td>0.234392</td>\n",
       "    </tr>\n",
       "    <tr>\n",
       "      <th>16</th>\n",
       "      <td>precision</td>\n",
       "      <td>0.135838</td>\n",
       "      <td>0.115607</td>\n",
       "      <td>0.138728</td>\n",
       "      <td>0.080925</td>\n",
       "      <td>0.079480</td>\n",
       "      <td>0.110116</td>\n",
       "    </tr>\n",
       "    <tr>\n",
       "      <th>17</th>\n",
       "      <td>recall</td>\n",
       "      <td>0.979167</td>\n",
       "      <td>0.963855</td>\n",
       "      <td>0.979592</td>\n",
       "      <td>0.800000</td>\n",
       "      <td>0.948276</td>\n",
       "      <td>0.934178</td>\n",
       "    </tr>\n",
       "    <tr>\n",
       "      <th>18</th>\n",
       "      <td>f1_measure</td>\n",
       "      <td>0.238579</td>\n",
       "      <td>0.206452</td>\n",
       "      <td>0.243038</td>\n",
       "      <td>0.146982</td>\n",
       "      <td>0.146667</td>\n",
       "      <td>0.196343</td>\n",
       "    </tr>\n",
       "    <tr>\n",
       "      <th>19</th>\n",
       "      <td>precision</td>\n",
       "      <td>0.099664</td>\n",
       "      <td>0.100784</td>\n",
       "      <td>0.138858</td>\n",
       "      <td>0.087346</td>\n",
       "      <td>0.079507</td>\n",
       "      <td>0.101232</td>\n",
       "    </tr>\n",
       "    <tr>\n",
       "      <th>20</th>\n",
       "      <td>recall</td>\n",
       "      <td>0.978022</td>\n",
       "      <td>0.989011</td>\n",
       "      <td>0.976378</td>\n",
       "      <td>0.987342</td>\n",
       "      <td>0.986111</td>\n",
       "      <td>0.983373</td>\n",
       "    </tr>\n",
       "    <tr>\n",
       "      <th>21</th>\n",
       "      <td>f1_measure</td>\n",
       "      <td>0.180894</td>\n",
       "      <td>0.182927</td>\n",
       "      <td>0.243137</td>\n",
       "      <td>0.160494</td>\n",
       "      <td>0.147150</td>\n",
       "      <td>0.182920</td>\n",
       "    </tr>\n",
       "    <tr>\n",
       "      <th>22</th>\n",
       "      <td>precision</td>\n",
       "      <td>0.289286</td>\n",
       "      <td>0.217857</td>\n",
       "      <td>0.342857</td>\n",
       "      <td>0.198214</td>\n",
       "      <td>0.158929</td>\n",
       "      <td>0.241429</td>\n",
       "    </tr>\n",
       "    <tr>\n",
       "      <th>23</th>\n",
       "      <td>recall</td>\n",
       "      <td>0.993865</td>\n",
       "      <td>0.976000</td>\n",
       "      <td>0.989691</td>\n",
       "      <td>0.991071</td>\n",
       "      <td>0.927083</td>\n",
       "      <td>0.975542</td>\n",
       "    </tr>\n",
       "    <tr>\n",
       "      <th>24</th>\n",
       "      <td>f1_measure</td>\n",
       "      <td>0.448133</td>\n",
       "      <td>0.356204</td>\n",
       "      <td>0.509284</td>\n",
       "      <td>0.330357</td>\n",
       "      <td>0.271341</td>\n",
       "      <td>0.383064</td>\n",
       "    </tr>\n",
       "    <tr>\n",
       "      <th>25</th>\n",
       "      <td>precision</td>\n",
       "      <td>0.139205</td>\n",
       "      <td>0.184659</td>\n",
       "      <td>0.190341</td>\n",
       "      <td>0.150568</td>\n",
       "      <td>0.072443</td>\n",
       "      <td>0.147443</td>\n",
       "    </tr>\n",
       "    <tr>\n",
       "      <th>26</th>\n",
       "      <td>recall</td>\n",
       "      <td>0.980000</td>\n",
       "      <td>0.977444</td>\n",
       "      <td>0.985294</td>\n",
       "      <td>0.981481</td>\n",
       "      <td>0.962264</td>\n",
       "      <td>0.977297</td>\n",
       "    </tr>\n",
       "    <tr>\n",
       "      <th>27</th>\n",
       "      <td>f1_measure</td>\n",
       "      <td>0.243781</td>\n",
       "      <td>0.310633</td>\n",
       "      <td>0.319048</td>\n",
       "      <td>0.261084</td>\n",
       "      <td>0.134742</td>\n",
       "      <td>0.253858</td>\n",
       "    </tr>\n",
       "    <tr>\n",
       "      <th>28</th>\n",
       "      <td>precision</td>\n",
       "      <td>0.244367</td>\n",
       "      <td>0.214905</td>\n",
       "      <td>0.301560</td>\n",
       "      <td>0.128250</td>\n",
       "      <td>0.149047</td>\n",
       "      <td>0.207626</td>\n",
       "    </tr>\n",
       "    <tr>\n",
       "      <th>29</th>\n",
       "      <td>recall</td>\n",
       "      <td>0.986014</td>\n",
       "      <td>0.984127</td>\n",
       "      <td>0.983051</td>\n",
       "      <td>0.986667</td>\n",
       "      <td>0.966292</td>\n",
       "      <td>0.981230</td>\n",
       "    </tr>\n",
       "    <tr>\n",
       "      <th>30</th>\n",
       "      <td>f1_measure</td>\n",
       "      <td>0.391667</td>\n",
       "      <td>0.352774</td>\n",
       "      <td>0.461538</td>\n",
       "      <td>0.226994</td>\n",
       "      <td>0.258258</td>\n",
       "      <td>0.338246</td>\n",
       "    </tr>\n",
       "    <tr>\n",
       "      <th>31</th>\n",
       "      <td>precision</td>\n",
       "      <td>0.138824</td>\n",
       "      <td>0.160000</td>\n",
       "      <td>0.210588</td>\n",
       "      <td>0.120000</td>\n",
       "      <td>0.072941</td>\n",
       "      <td>0.140471</td>\n",
       "    </tr>\n",
       "    <tr>\n",
       "      <th>32</th>\n",
       "      <td>recall</td>\n",
       "      <td>0.983333</td>\n",
       "      <td>0.978417</td>\n",
       "      <td>0.983516</td>\n",
       "      <td>0.990291</td>\n",
       "      <td>0.953846</td>\n",
       "      <td>0.977881</td>\n",
       "    </tr>\n",
       "    <tr>\n",
       "      <th>33</th>\n",
       "      <td>f1_measure</td>\n",
       "      <td>0.243299</td>\n",
       "      <td>0.275025</td>\n",
       "      <td>0.346899</td>\n",
       "      <td>0.214061</td>\n",
       "      <td>0.135519</td>\n",
       "      <td>0.242961</td>\n",
       "    </tr>\n",
       "    <tr>\n",
       "      <th>34</th>\n",
       "      <td>precision</td>\n",
       "      <td>0.217460</td>\n",
       "      <td>0.196825</td>\n",
       "      <td>0.274603</td>\n",
       "      <td>0.169841</td>\n",
       "      <td>0.112698</td>\n",
       "      <td>0.194286</td>\n",
       "    </tr>\n",
       "    <tr>\n",
       "      <th>35</th>\n",
       "      <td>recall</td>\n",
       "      <td>0.992754</td>\n",
       "      <td>0.976378</td>\n",
       "      <td>0.988571</td>\n",
       "      <td>0.981651</td>\n",
       "      <td>0.972603</td>\n",
       "      <td>0.982391</td>\n",
       "    </tr>\n",
       "    <tr>\n",
       "      <th>36</th>\n",
       "      <td>f1_measure</td>\n",
       "      <td>0.356771</td>\n",
       "      <td>0.327609</td>\n",
       "      <td>0.429814</td>\n",
       "      <td>0.289581</td>\n",
       "      <td>0.201991</td>\n",
       "      <td>0.321153</td>\n",
       "    </tr>\n",
       "    <tr>\n",
       "      <th>37</th>\n",
       "      <td>precision</td>\n",
       "      <td>0.186217</td>\n",
       "      <td>0.200880</td>\n",
       "      <td>0.205279</td>\n",
       "      <td>0.107038</td>\n",
       "      <td>0.077713</td>\n",
       "      <td>0.155425</td>\n",
       "    </tr>\n",
       "    <tr>\n",
       "      <th>38</th>\n",
       "      <td>recall</td>\n",
       "      <td>0.984496</td>\n",
       "      <td>0.971631</td>\n",
       "      <td>1.000000</td>\n",
       "      <td>0.973333</td>\n",
       "      <td>0.946429</td>\n",
       "      <td>0.975178</td>\n",
       "    </tr>\n",
       "    <tr>\n",
       "      <th>39</th>\n",
       "      <td>f1_measure</td>\n",
       "      <td>0.313194</td>\n",
       "      <td>0.332928</td>\n",
       "      <td>0.340633</td>\n",
       "      <td>0.192867</td>\n",
       "      <td>0.143631</td>\n",
       "      <td>0.264651</td>\n",
       "    </tr>\n",
       "    <tr>\n",
       "      <th>40</th>\n",
       "      <td>precision</td>\n",
       "      <td>0.191571</td>\n",
       "      <td>0.159004</td>\n",
       "      <td>0.226054</td>\n",
       "      <td>0.197318</td>\n",
       "      <td>0.120690</td>\n",
       "      <td>0.178927</td>\n",
       "    </tr>\n",
       "    <tr>\n",
       "      <th>41</th>\n",
       "      <td>recall</td>\n",
       "      <td>0.980392</td>\n",
       "      <td>0.976471</td>\n",
       "      <td>0.975207</td>\n",
       "      <td>0.980952</td>\n",
       "      <td>0.940299</td>\n",
       "      <td>0.970664</td>\n",
       "    </tr>\n",
       "    <tr>\n",
       "      <th>42</th>\n",
       "      <td>f1_measure</td>\n",
       "      <td>0.320513</td>\n",
       "      <td>0.273476</td>\n",
       "      <td>0.367030</td>\n",
       "      <td>0.328549</td>\n",
       "      <td>0.213922</td>\n",
       "      <td>0.300698</td>\n",
       "    </tr>\n",
       "    <tr>\n",
       "      <th>43</th>\n",
       "      <td>precision</td>\n",
       "      <td>0.197133</td>\n",
       "      <td>0.184588</td>\n",
       "      <td>0.232975</td>\n",
       "      <td>0.146953</td>\n",
       "      <td>0.120072</td>\n",
       "      <td>0.176344</td>\n",
       "    </tr>\n",
       "    <tr>\n",
       "      <th>44</th>\n",
       "      <td>recall</td>\n",
       "      <td>0.982143</td>\n",
       "      <td>0.971698</td>\n",
       "      <td>0.984848</td>\n",
       "      <td>0.931818</td>\n",
       "      <td>0.943662</td>\n",
       "      <td>0.962834</td>\n",
       "    </tr>\n",
       "    <tr>\n",
       "      <th>45</th>\n",
       "      <td>f1_measure</td>\n",
       "      <td>0.328358</td>\n",
       "      <td>0.310241</td>\n",
       "      <td>0.376812</td>\n",
       "      <td>0.253870</td>\n",
       "      <td>0.213037</td>\n",
       "      <td>0.296463</td>\n",
       "    </tr>\n",
       "  </tbody>\n",
       "</table>\n",
       "</div>"
      ],
      "text/plain": [
       "   Evaluation Metrics    tf_idf       lsa  text_rank  google-large  \\\n",
       "1           precision  0.221488  0.204959   0.271074      0.198347   \n",
       "2              recall  0.985294  0.976378   0.982036      0.983607   \n",
       "3          f1_measure  0.361673  0.338798   0.424870      0.330124   \n",
       "4           precision  0.185185  0.171296   0.328704      0.203704   \n",
       "5              recall  0.983607  0.965217   0.990698      1.000000   \n",
       "6          f1_measure  0.311688  0.290957   0.493627      0.338462   \n",
       "7           precision  0.175926  0.089120   0.199074      0.186343   \n",
       "8              recall  0.987013  0.962500   0.988506      0.987730   \n",
       "9          f1_measure  0.298625  0.163136   0.331407      0.313535   \n",
       "10          precision  0.162021  0.191638   0.210801      0.153310   \n",
       "11             recall  0.989362  0.973451   0.983740      0.977778   \n",
       "12         f1_measure  0.278443  0.320233   0.347202      0.265060   \n",
       "13          precision  0.135922  0.148058   0.209951      0.089806   \n",
       "14             recall  0.991150  0.976000   0.988571      1.000000   \n",
       "15         f1_measure  0.239061  0.257113   0.346346      0.164811   \n",
       "16          precision  0.135838  0.115607   0.138728      0.080925   \n",
       "17             recall  0.979167  0.963855   0.979592      0.800000   \n",
       "18         f1_measure  0.238579  0.206452   0.243038      0.146982   \n",
       "19          precision  0.099664  0.100784   0.138858      0.087346   \n",
       "20             recall  0.978022  0.989011   0.976378      0.987342   \n",
       "21         f1_measure  0.180894  0.182927   0.243137      0.160494   \n",
       "22          precision  0.289286  0.217857   0.342857      0.198214   \n",
       "23             recall  0.993865  0.976000   0.989691      0.991071   \n",
       "24         f1_measure  0.448133  0.356204   0.509284      0.330357   \n",
       "25          precision  0.139205  0.184659   0.190341      0.150568   \n",
       "26             recall  0.980000  0.977444   0.985294      0.981481   \n",
       "27         f1_measure  0.243781  0.310633   0.319048      0.261084   \n",
       "28          precision  0.244367  0.214905   0.301560      0.128250   \n",
       "29             recall  0.986014  0.984127   0.983051      0.986667   \n",
       "30         f1_measure  0.391667  0.352774   0.461538      0.226994   \n",
       "31          precision  0.138824  0.160000   0.210588      0.120000   \n",
       "32             recall  0.983333  0.978417   0.983516      0.990291   \n",
       "33         f1_measure  0.243299  0.275025   0.346899      0.214061   \n",
       "34          precision  0.217460  0.196825   0.274603      0.169841   \n",
       "35             recall  0.992754  0.976378   0.988571      0.981651   \n",
       "36         f1_measure  0.356771  0.327609   0.429814      0.289581   \n",
       "37          precision  0.186217  0.200880   0.205279      0.107038   \n",
       "38             recall  0.984496  0.971631   1.000000      0.973333   \n",
       "39         f1_measure  0.313194  0.332928   0.340633      0.192867   \n",
       "40          precision  0.191571  0.159004   0.226054      0.197318   \n",
       "41             recall  0.980392  0.976471   0.975207      0.980952   \n",
       "42         f1_measure  0.320513  0.273476   0.367030      0.328549   \n",
       "43          precision  0.197133  0.184588   0.232975      0.146953   \n",
       "44             recall  0.982143  0.971698   0.984848      0.931818   \n",
       "45         f1_measure  0.328358  0.310241   0.376812      0.253870   \n",
       "\n",
       "    facebook-bart   average  \n",
       "1        0.100826  0.199339  \n",
       "2        0.983871  0.982237  \n",
       "3        0.182909  0.327675  \n",
       "4        0.083333  0.194444  \n",
       "5        0.931034  0.974111  \n",
       "6        0.152975  0.317542  \n",
       "7        0.063657  0.142824  \n",
       "8        0.948276  0.974805  \n",
       "9        0.119306  0.245201  \n",
       "10       0.104530  0.164460  \n",
       "11       0.909091  0.966684  \n",
       "12       0.187500  0.279688  \n",
       "13       0.089806  0.134709  \n",
       "14       0.986667  0.988478  \n",
       "15       0.164627  0.234392  \n",
       "16       0.079480  0.110116  \n",
       "17       0.948276  0.934178  \n",
       "18       0.146667  0.196343  \n",
       "19       0.079507  0.101232  \n",
       "20       0.986111  0.983373  \n",
       "21       0.147150  0.182920  \n",
       "22       0.158929  0.241429  \n",
       "23       0.927083  0.975542  \n",
       "24       0.271341  0.383064  \n",
       "25       0.072443  0.147443  \n",
       "26       0.962264  0.977297  \n",
       "27       0.134742  0.253858  \n",
       "28       0.149047  0.207626  \n",
       "29       0.966292  0.981230  \n",
       "30       0.258258  0.338246  \n",
       "31       0.072941  0.140471  \n",
       "32       0.953846  0.977881  \n",
       "33       0.135519  0.242961  \n",
       "34       0.112698  0.194286  \n",
       "35       0.972603  0.982391  \n",
       "36       0.201991  0.321153  \n",
       "37       0.077713  0.155425  \n",
       "38       0.946429  0.975178  \n",
       "39       0.143631  0.264651  \n",
       "40       0.120690  0.178927  \n",
       "41       0.940299  0.970664  \n",
       "42       0.213922  0.300698  \n",
       "43       0.120072  0.176344  \n",
       "44       0.943662  0.962834  \n",
       "45       0.213037  0.296463  "
      ]
     },
     "execution_count": 441,
     "metadata": {},
     "output_type": "execute_result"
    }
   ],
   "source": [
    "avg_evaluation_matrix_scores = pd.concat(evaluation_matrix_list, axis=0)\n",
    "avg_evaluation_matrix_scores = avg_evaluation_matrix_scores.reset_index().rename(columns={'index': 'Evaluation Metrics'})\n",
    "avg_evaluation_matrix_scores.index = avg_evaluation_matrix_scores.index + 1\n",
    "avg_evaluation_matrix_scores"
   ]
  },
  {
   "cell_type": "markdown",
   "id": "18ff066b",
   "metadata": {},
   "source": [
    "---------------------------------------------xxxxxxxxxxxxxxxxxxxxxxxxxxxxxx--------------------------------------------------"
   ]
  },
  {
   "cell_type": "markdown",
   "id": "53af26a5",
   "metadata": {},
   "source": [
    "### Computing cosine similarity score for each article for each method"
   ]
  },
  {
   "cell_type": "code",
   "execution_count": 414,
   "id": "ef88df7f",
   "metadata": {},
   "outputs": [],
   "source": [
    "cosine_sim_list = []\n",
    "\n",
    "for article in article_list:\n",
    "\n",
    "    tfidf_summary = tfdf_summarizer_func(article, 3)\n",
    "    lsa_summary = lsa_summarizer(article, 5)\n",
    "    textrank_summary = textrank_sum(article, 4)\n",
    "    google_summary = summarizer_google(article, min_length=70, do_sample=False)[0]['summary_text']\n",
    "    bart_summary = summarizer_bart(article, min_length=70, do_sample=False)[0]['summary_text']\n",
    "\n",
    "    # tfidf Summarizer\n",
    "    sent_list = [sent.text for sent in nlp(article).sents]\n",
    "    tfidfVectorizer = TfidfVectorizer(ngram_range=(1,1), stop_words='english')\n",
    "    tfidf_vector = tfidfVectorizer.fit_transform(sent_list).toarray()[0]\n",
    "    \n",
    "    summary_list = [tfidf_summary, lsa_summary, textrank_summary, google_summary, bart_summary]\n",
    "\n",
    "    summary_tfidf_vector = []\n",
    "    for each in summary_list:\n",
    "        summary_sent_list = [sent.text for sent in nlp(each).sents]\n",
    "        summary_tfidf_vector.append(tfidfVectorizer.transform(summary_sent_list))\n",
    "\n",
    "    score_matrix = pd.DataFrame()\n",
    "    columns = ['tf_idf', 'lsa', 'text_rank', 'google-large', 'facebook-bart']\n",
    "\n",
    "    for each in range(0,len(columns)):\n",
    "        score_matrix[columns[each]] = [cosine_similarity([list(tfidf_vector)],\n",
    "                                      [list(summary_tfidf_vector[each].toarray()[0])])[0][0]]\n",
    "\n",
    "    score_matrix.set_index(pd.Index(['cosine_similarity']), inplace=True)\n",
    "    cosine_sim_list.append(score_matrix)"
   ]
  },
  {
   "cell_type": "code",
   "execution_count": 415,
   "id": "cb71d41b",
   "metadata": {},
   "outputs": [
    {
     "data": {
      "text/plain": [
       "15"
      ]
     },
     "execution_count": 415,
     "metadata": {},
     "output_type": "execute_result"
    }
   ],
   "source": [
    "len(cosine_sim_list)"
   ]
  },
  {
   "cell_type": "markdown",
   "id": "8432eb3f",
   "metadata": {},
   "source": [
    "Conversion of list to dataframe"
   ]
  },
  {
   "cell_type": "code",
   "execution_count": 442,
   "id": "643e8560",
   "metadata": {},
   "outputs": [
    {
     "data": {
      "text/html": [
       "<div>\n",
       "<style scoped>\n",
       "    .dataframe tbody tr th:only-of-type {\n",
       "        vertical-align: middle;\n",
       "    }\n",
       "\n",
       "    .dataframe tbody tr th {\n",
       "        vertical-align: top;\n",
       "    }\n",
       "\n",
       "    .dataframe thead th {\n",
       "        text-align: right;\n",
       "    }\n",
       "</style>\n",
       "<table border=\"1\" class=\"dataframe\">\n",
       "  <thead>\n",
       "    <tr style=\"text-align: right;\">\n",
       "      <th></th>\n",
       "      <th>Cosine similarity metric</th>\n",
       "      <th>tf_idf</th>\n",
       "      <th>lsa</th>\n",
       "      <th>text_rank</th>\n",
       "      <th>google-large</th>\n",
       "      <th>facebook-bart</th>\n",
       "    </tr>\n",
       "  </thead>\n",
       "  <tbody>\n",
       "    <tr>\n",
       "      <th>1</th>\n",
       "      <td>cosine_similarity 01</td>\n",
       "      <td>0.067241</td>\n",
       "      <td>1.000000</td>\n",
       "      <td>0.026113</td>\n",
       "      <td>0.154190</td>\n",
       "      <td>1.000000</td>\n",
       "    </tr>\n",
       "    <tr>\n",
       "      <th>2</th>\n",
       "      <td>cosine_similarity 02</td>\n",
       "      <td>0.000000</td>\n",
       "      <td>0.106239</td>\n",
       "      <td>0.217695</td>\n",
       "      <td>0.217695</td>\n",
       "      <td>0.000000</td>\n",
       "    </tr>\n",
       "    <tr>\n",
       "      <th>3</th>\n",
       "      <td>cosine_similarity 03</td>\n",
       "      <td>0.298894</td>\n",
       "      <td>0.000000</td>\n",
       "      <td>0.282987</td>\n",
       "      <td>0.298894</td>\n",
       "      <td>1.000000</td>\n",
       "    </tr>\n",
       "    <tr>\n",
       "      <th>4</th>\n",
       "      <td>cosine_similarity 04</td>\n",
       "      <td>0.179602</td>\n",
       "      <td>0.046293</td>\n",
       "      <td>0.051774</td>\n",
       "      <td>0.051774</td>\n",
       "      <td>0.976701</td>\n",
       "    </tr>\n",
       "    <tr>\n",
       "      <th>5</th>\n",
       "      <td>cosine_similarity 05</td>\n",
       "      <td>1.000000</td>\n",
       "      <td>0.000000</td>\n",
       "      <td>1.000000</td>\n",
       "      <td>1.000000</td>\n",
       "      <td>0.740084</td>\n",
       "    </tr>\n",
       "    <tr>\n",
       "      <th>6</th>\n",
       "      <td>cosine_similarity 06</td>\n",
       "      <td>0.000000</td>\n",
       "      <td>0.000000</td>\n",
       "      <td>0.000000</td>\n",
       "      <td>0.000000</td>\n",
       "      <td>0.000000</td>\n",
       "    </tr>\n",
       "    <tr>\n",
       "      <th>7</th>\n",
       "      <td>cosine_similarity 07</td>\n",
       "      <td>0.177568</td>\n",
       "      <td>0.113647</td>\n",
       "      <td>1.000000</td>\n",
       "      <td>0.113671</td>\n",
       "      <td>1.000000</td>\n",
       "    </tr>\n",
       "    <tr>\n",
       "      <th>8</th>\n",
       "      <td>cosine_similarity 08</td>\n",
       "      <td>0.220641</td>\n",
       "      <td>0.000000</td>\n",
       "      <td>0.220641</td>\n",
       "      <td>0.220641</td>\n",
       "      <td>0.000000</td>\n",
       "    </tr>\n",
       "    <tr>\n",
       "      <th>9</th>\n",
       "      <td>cosine_similarity 09</td>\n",
       "      <td>0.154792</td>\n",
       "      <td>0.000000</td>\n",
       "      <td>0.123727</td>\n",
       "      <td>0.151211</td>\n",
       "      <td>0.000000</td>\n",
       "    </tr>\n",
       "    <tr>\n",
       "      <th>10</th>\n",
       "      <td>cosine_similarity 10</td>\n",
       "      <td>0.222371</td>\n",
       "      <td>0.000000</td>\n",
       "      <td>0.222371</td>\n",
       "      <td>0.222371</td>\n",
       "      <td>1.000000</td>\n",
       "    </tr>\n",
       "    <tr>\n",
       "      <th>11</th>\n",
       "      <td>cosine_similarity 11</td>\n",
       "      <td>0.152696</td>\n",
       "      <td>0.000000</td>\n",
       "      <td>0.181495</td>\n",
       "      <td>0.181495</td>\n",
       "      <td>0.092264</td>\n",
       "    </tr>\n",
       "    <tr>\n",
       "      <th>12</th>\n",
       "      <td>cosine_similarity 12</td>\n",
       "      <td>0.000000</td>\n",
       "      <td>0.068449</td>\n",
       "      <td>0.018995</td>\n",
       "      <td>0.000000</td>\n",
       "      <td>0.218565</td>\n",
       "    </tr>\n",
       "    <tr>\n",
       "      <th>13</th>\n",
       "      <td>cosine_similarity 13</td>\n",
       "      <td>0.000000</td>\n",
       "      <td>0.000000</td>\n",
       "      <td>0.087744</td>\n",
       "      <td>0.087744</td>\n",
       "      <td>0.079066</td>\n",
       "    </tr>\n",
       "    <tr>\n",
       "      <th>14</th>\n",
       "      <td>cosine_similarity 14</td>\n",
       "      <td>0.165934</td>\n",
       "      <td>0.000000</td>\n",
       "      <td>0.404197</td>\n",
       "      <td>0.404197</td>\n",
       "      <td>0.000000</td>\n",
       "    </tr>\n",
       "    <tr>\n",
       "      <th>15</th>\n",
       "      <td>cosine_similarity 15</td>\n",
       "      <td>0.048175</td>\n",
       "      <td>0.028301</td>\n",
       "      <td>0.048175</td>\n",
       "      <td>0.023766</td>\n",
       "      <td>0.601920</td>\n",
       "    </tr>\n",
       "  </tbody>\n",
       "</table>\n",
       "</div>"
      ],
      "text/plain": [
       "   Cosine similarity metric    tf_idf       lsa  text_rank  google-large  \\\n",
       "1      cosine_similarity 01  0.067241  1.000000   0.026113      0.154190   \n",
       "2      cosine_similarity 02  0.000000  0.106239   0.217695      0.217695   \n",
       "3      cosine_similarity 03  0.298894  0.000000   0.282987      0.298894   \n",
       "4      cosine_similarity 04  0.179602  0.046293   0.051774      0.051774   \n",
       "5      cosine_similarity 05  1.000000  0.000000   1.000000      1.000000   \n",
       "6      cosine_similarity 06  0.000000  0.000000   0.000000      0.000000   \n",
       "7      cosine_similarity 07  0.177568  0.113647   1.000000      0.113671   \n",
       "8      cosine_similarity 08  0.220641  0.000000   0.220641      0.220641   \n",
       "9      cosine_similarity 09  0.154792  0.000000   0.123727      0.151211   \n",
       "10     cosine_similarity 10  0.222371  0.000000   0.222371      0.222371   \n",
       "11     cosine_similarity 11  0.152696  0.000000   0.181495      0.181495   \n",
       "12     cosine_similarity 12  0.000000  0.068449   0.018995      0.000000   \n",
       "13     cosine_similarity 13  0.000000  0.000000   0.087744      0.087744   \n",
       "14     cosine_similarity 14  0.165934  0.000000   0.404197      0.404197   \n",
       "15     cosine_similarity 15  0.048175  0.028301   0.048175      0.023766   \n",
       "\n",
       "    facebook-bart  \n",
       "1        1.000000  \n",
       "2        0.000000  \n",
       "3        1.000000  \n",
       "4        0.976701  \n",
       "5        0.740084  \n",
       "6        0.000000  \n",
       "7        1.000000  \n",
       "8        0.000000  \n",
       "9        0.000000  \n",
       "10       1.000000  \n",
       "11       0.092264  \n",
       "12       0.218565  \n",
       "13       0.079066  \n",
       "14       0.000000  \n",
       "15       0.601920  "
      ]
     },
     "execution_count": 442,
     "metadata": {},
     "output_type": "execute_result"
    }
   ],
   "source": [
    "cosine_scores_df = pd.concat(cosine_sim_list, axis=0)\n",
    "cosine_scores_df.index = [f\"cosine_similarity {i+1:02d}\" for i in range(len(cosine_scores_df))]\n",
    "\n",
    "cosine_scores_df = cosine_scores_df.reset_index().rename(columns={'index': 'Cosine similarity metric'})\n",
    "cosine_scores_df.index = cosine_scores_df.index + 1\n",
    "\n",
    "cosine_scores_df"
   ]
  },
  {
   "cell_type": "markdown",
   "id": "44b8c698",
   "metadata": {},
   "source": [
    "Saving the cosine similarity score list"
   ]
  },
  {
   "cell_type": "code",
   "execution_count": 436,
   "id": "9cec689d",
   "metadata": {},
   "outputs": [],
   "source": [
    "# Open a file and use dump()\n",
    "\n",
    "with open('cosine_similarity_matrix.pkl', 'wb') as file:\n",
    "      pickle.dump(cosine_sim_list, file)"
   ]
  },
  {
   "cell_type": "markdown",
   "id": "fa86581d",
   "metadata": {},
   "source": [
    "### Aggregating the 15 matrices to produce an average cosine similarity score matrix across 15 articles"
   ]
  },
  {
   "cell_type": "code",
   "execution_count": 443,
   "id": "534361fa",
   "metadata": {},
   "outputs": [],
   "source": [
    "for each_cos in cosine_sim_list:\n",
    "    each_cos['average'] = each_cos.mean(axis=1).values"
   ]
  },
  {
   "cell_type": "code",
   "execution_count": 447,
   "id": "1377ada6",
   "metadata": {},
   "outputs": [
    {
     "data": {
      "text/html": [
       "<div>\n",
       "<style scoped>\n",
       "    .dataframe tbody tr th:only-of-type {\n",
       "        vertical-align: middle;\n",
       "    }\n",
       "\n",
       "    .dataframe tbody tr th {\n",
       "        vertical-align: top;\n",
       "    }\n",
       "\n",
       "    .dataframe thead th {\n",
       "        text-align: right;\n",
       "    }\n",
       "</style>\n",
       "<table border=\"1\" class=\"dataframe\">\n",
       "  <thead>\n",
       "    <tr style=\"text-align: right;\">\n",
       "      <th></th>\n",
       "      <th>Cosine similarity metric</th>\n",
       "      <th>tf_idf</th>\n",
       "      <th>lsa</th>\n",
       "      <th>text_rank</th>\n",
       "      <th>google-large</th>\n",
       "      <th>facebook-bart</th>\n",
       "      <th>average</th>\n",
       "    </tr>\n",
       "  </thead>\n",
       "  <tbody>\n",
       "    <tr>\n",
       "      <th>1</th>\n",
       "      <td>cosine_similarity 01</td>\n",
       "      <td>0.067241</td>\n",
       "      <td>1.000000</td>\n",
       "      <td>0.026113</td>\n",
       "      <td>0.154190</td>\n",
       "      <td>1.000000</td>\n",
       "      <td>0.449509</td>\n",
       "    </tr>\n",
       "    <tr>\n",
       "      <th>2</th>\n",
       "      <td>cosine_similarity 02</td>\n",
       "      <td>0.000000</td>\n",
       "      <td>0.106239</td>\n",
       "      <td>0.217695</td>\n",
       "      <td>0.217695</td>\n",
       "      <td>0.000000</td>\n",
       "      <td>0.108326</td>\n",
       "    </tr>\n",
       "    <tr>\n",
       "      <th>3</th>\n",
       "      <td>cosine_similarity 03</td>\n",
       "      <td>0.298894</td>\n",
       "      <td>0.000000</td>\n",
       "      <td>0.282987</td>\n",
       "      <td>0.298894</td>\n",
       "      <td>1.000000</td>\n",
       "      <td>0.376155</td>\n",
       "    </tr>\n",
       "    <tr>\n",
       "      <th>4</th>\n",
       "      <td>cosine_similarity 04</td>\n",
       "      <td>0.179602</td>\n",
       "      <td>0.046293</td>\n",
       "      <td>0.051774</td>\n",
       "      <td>0.051774</td>\n",
       "      <td>0.976701</td>\n",
       "      <td>0.261229</td>\n",
       "    </tr>\n",
       "    <tr>\n",
       "      <th>5</th>\n",
       "      <td>cosine_similarity 05</td>\n",
       "      <td>1.000000</td>\n",
       "      <td>0.000000</td>\n",
       "      <td>1.000000</td>\n",
       "      <td>1.000000</td>\n",
       "      <td>0.740084</td>\n",
       "      <td>0.748017</td>\n",
       "    </tr>\n",
       "    <tr>\n",
       "      <th>6</th>\n",
       "      <td>cosine_similarity 06</td>\n",
       "      <td>0.000000</td>\n",
       "      <td>0.000000</td>\n",
       "      <td>0.000000</td>\n",
       "      <td>0.000000</td>\n",
       "      <td>0.000000</td>\n",
       "      <td>0.000000</td>\n",
       "    </tr>\n",
       "    <tr>\n",
       "      <th>7</th>\n",
       "      <td>cosine_similarity 07</td>\n",
       "      <td>0.177568</td>\n",
       "      <td>0.113647</td>\n",
       "      <td>1.000000</td>\n",
       "      <td>0.113671</td>\n",
       "      <td>1.000000</td>\n",
       "      <td>0.480977</td>\n",
       "    </tr>\n",
       "    <tr>\n",
       "      <th>8</th>\n",
       "      <td>cosine_similarity 08</td>\n",
       "      <td>0.220641</td>\n",
       "      <td>0.000000</td>\n",
       "      <td>0.220641</td>\n",
       "      <td>0.220641</td>\n",
       "      <td>0.000000</td>\n",
       "      <td>0.132385</td>\n",
       "    </tr>\n",
       "    <tr>\n",
       "      <th>9</th>\n",
       "      <td>cosine_similarity 09</td>\n",
       "      <td>0.154792</td>\n",
       "      <td>0.000000</td>\n",
       "      <td>0.123727</td>\n",
       "      <td>0.151211</td>\n",
       "      <td>0.000000</td>\n",
       "      <td>0.085946</td>\n",
       "    </tr>\n",
       "    <tr>\n",
       "      <th>10</th>\n",
       "      <td>cosine_similarity 10</td>\n",
       "      <td>0.222371</td>\n",
       "      <td>0.000000</td>\n",
       "      <td>0.222371</td>\n",
       "      <td>0.222371</td>\n",
       "      <td>1.000000</td>\n",
       "      <td>0.333423</td>\n",
       "    </tr>\n",
       "    <tr>\n",
       "      <th>11</th>\n",
       "      <td>cosine_similarity 11</td>\n",
       "      <td>0.152696</td>\n",
       "      <td>0.000000</td>\n",
       "      <td>0.181495</td>\n",
       "      <td>0.181495</td>\n",
       "      <td>0.092264</td>\n",
       "      <td>0.121590</td>\n",
       "    </tr>\n",
       "    <tr>\n",
       "      <th>12</th>\n",
       "      <td>cosine_similarity 12</td>\n",
       "      <td>0.000000</td>\n",
       "      <td>0.068449</td>\n",
       "      <td>0.018995</td>\n",
       "      <td>0.000000</td>\n",
       "      <td>0.218565</td>\n",
       "      <td>0.061202</td>\n",
       "    </tr>\n",
       "    <tr>\n",
       "      <th>13</th>\n",
       "      <td>cosine_similarity 13</td>\n",
       "      <td>0.000000</td>\n",
       "      <td>0.000000</td>\n",
       "      <td>0.087744</td>\n",
       "      <td>0.087744</td>\n",
       "      <td>0.079066</td>\n",
       "      <td>0.050911</td>\n",
       "    </tr>\n",
       "    <tr>\n",
       "      <th>14</th>\n",
       "      <td>cosine_similarity 14</td>\n",
       "      <td>0.165934</td>\n",
       "      <td>0.000000</td>\n",
       "      <td>0.404197</td>\n",
       "      <td>0.404197</td>\n",
       "      <td>0.000000</td>\n",
       "      <td>0.194866</td>\n",
       "    </tr>\n",
       "    <tr>\n",
       "      <th>15</th>\n",
       "      <td>cosine_similarity 15</td>\n",
       "      <td>0.048175</td>\n",
       "      <td>0.028301</td>\n",
       "      <td>0.048175</td>\n",
       "      <td>0.023766</td>\n",
       "      <td>0.601920</td>\n",
       "      <td>0.150067</td>\n",
       "    </tr>\n",
       "  </tbody>\n",
       "</table>\n",
       "</div>"
      ],
      "text/plain": [
       "   Cosine similarity metric    tf_idf       lsa  text_rank  google-large  \\\n",
       "1      cosine_similarity 01  0.067241  1.000000   0.026113      0.154190   \n",
       "2      cosine_similarity 02  0.000000  0.106239   0.217695      0.217695   \n",
       "3      cosine_similarity 03  0.298894  0.000000   0.282987      0.298894   \n",
       "4      cosine_similarity 04  0.179602  0.046293   0.051774      0.051774   \n",
       "5      cosine_similarity 05  1.000000  0.000000   1.000000      1.000000   \n",
       "6      cosine_similarity 06  0.000000  0.000000   0.000000      0.000000   \n",
       "7      cosine_similarity 07  0.177568  0.113647   1.000000      0.113671   \n",
       "8      cosine_similarity 08  0.220641  0.000000   0.220641      0.220641   \n",
       "9      cosine_similarity 09  0.154792  0.000000   0.123727      0.151211   \n",
       "10     cosine_similarity 10  0.222371  0.000000   0.222371      0.222371   \n",
       "11     cosine_similarity 11  0.152696  0.000000   0.181495      0.181495   \n",
       "12     cosine_similarity 12  0.000000  0.068449   0.018995      0.000000   \n",
       "13     cosine_similarity 13  0.000000  0.000000   0.087744      0.087744   \n",
       "14     cosine_similarity 14  0.165934  0.000000   0.404197      0.404197   \n",
       "15     cosine_similarity 15  0.048175  0.028301   0.048175      0.023766   \n",
       "\n",
       "    facebook-bart   average  \n",
       "1        1.000000  0.449509  \n",
       "2        0.000000  0.108326  \n",
       "3        1.000000  0.376155  \n",
       "4        0.976701  0.261229  \n",
       "5        0.740084  0.748017  \n",
       "6        0.000000  0.000000  \n",
       "7        1.000000  0.480977  \n",
       "8        0.000000  0.132385  \n",
       "9        0.000000  0.085946  \n",
       "10       1.000000  0.333423  \n",
       "11       0.092264  0.121590  \n",
       "12       0.218565  0.061202  \n",
       "13       0.079066  0.050911  \n",
       "14       0.000000  0.194866  \n",
       "15       0.601920  0.150067  "
      ]
     },
     "execution_count": 447,
     "metadata": {},
     "output_type": "execute_result"
    }
   ],
   "source": [
    "avg_cosine_scores_df = pd.concat(cosine_sim_list, axis=0)\n",
    "avg_cosine_scores_df = avg_cosine_scores_df.reset_index().rename(columns={'index': 'Cosine similarity metric'})\n",
    "avg_cosine_scores_df['Cosine similarity metric'] = [f'cosine_similarity {i+1:02}' for i in range(len(avg_cosine_scores_df))]\n",
    "avg_cosine_scores_df.index = avg_cosine_scores_df.index + 1\n",
    "avg_cosine_scores_df"
   ]
  },
  {
   "cell_type": "markdown",
   "id": "a06cbb32",
   "metadata": {},
   "source": [
    "---------------------------------------------xxxxxxxxxxxxxxxxxxxxxxxxxxxxxxxxx-----------------------------------------------"
   ]
  }
 ],
 "metadata": {
  "kernelspec": {
   "display_name": "Python 3",
   "language": "python",
   "name": "python3"
  },
  "language_info": {
   "codemirror_mode": {
    "name": "ipython",
    "version": 3
   },
   "file_extension": ".py",
   "mimetype": "text/x-python",
   "name": "python",
   "nbconvert_exporter": "python",
   "pygments_lexer": "ipython3",
   "version": "3.9.5"
  }
 },
 "nbformat": 4,
 "nbformat_minor": 5
}
